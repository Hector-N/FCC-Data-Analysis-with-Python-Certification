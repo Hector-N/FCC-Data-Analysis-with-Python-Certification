{
 "cells": [
  {
   "cell_type": "code",
   "execution_count": 1,
   "id": "unknown-track",
   "metadata": {},
   "outputs": [],
   "source": [
    "import pandas as pd\n",
    "import numpy as np\n",
    "import matplotlib.pyplot as plt\n",
    "import seaborn as sns"
   ]
  },
  {
   "cell_type": "code",
   "execution_count": 62,
   "id": "alternative-hacker",
   "metadata": {},
   "outputs": [],
   "source": [
    "%matplotlib inline"
   ]
  },
  {
   "cell_type": "code",
   "execution_count": null,
   "id": "lovely-candle",
   "metadata": {},
   "outputs": [],
   "source": []
  },
  {
   "cell_type": "code",
   "execution_count": 2,
   "id": "compatible-folder",
   "metadata": {},
   "outputs": [],
   "source": [
    "df = pd.read_csv('medical_examination.csv')"
   ]
  },
  {
   "cell_type": "code",
   "execution_count": null,
   "id": "professional-revision",
   "metadata": {},
   "outputs": [],
   "source": []
  },
  {
   "cell_type": "code",
   "execution_count": 3,
   "id": "legendary-sequence",
   "metadata": {},
   "outputs": [],
   "source": [
    "# Add 'overweight' column"
   ]
  },
  {
   "cell_type": "code",
   "execution_count": 4,
   "id": "weighted-wheat",
   "metadata": {},
   "outputs": [],
   "source": [
    "bmi = df['weight'] / (df['height'] / 100) ** 2"
   ]
  },
  {
   "cell_type": "code",
   "execution_count": 5,
   "id": "tender-supplement",
   "metadata": {},
   "outputs": [],
   "source": [
    "df['bmi'] = bmi"
   ]
  },
  {
   "cell_type": "code",
   "execution_count": 6,
   "id": "personal-index",
   "metadata": {},
   "outputs": [],
   "source": [
    "overweight_true_filter = bmi > 25"
   ]
  },
  {
   "cell_type": "code",
   "execution_count": 7,
   "id": "angry-retreat",
   "metadata": {},
   "outputs": [],
   "source": [
    "overweight_false_filter = bmi <= 25"
   ]
  },
  {
   "cell_type": "code",
   "execution_count": 8,
   "id": "varying-adult",
   "metadata": {},
   "outputs": [],
   "source": [
    "df['overweight'] = None"
   ]
  },
  {
   "cell_type": "code",
   "execution_count": 9,
   "id": "periodic-change",
   "metadata": {},
   "outputs": [],
   "source": [
    "df.loc[overweight_true_filter, 'overweight'] = 1"
   ]
  },
  {
   "cell_type": "code",
   "execution_count": 10,
   "id": "covered-reasoning",
   "metadata": {},
   "outputs": [],
   "source": [
    "df.loc[overweight_false_filter, 'overweight'] = 0"
   ]
  },
  {
   "cell_type": "code",
   "execution_count": null,
   "id": "constant-patio",
   "metadata": {},
   "outputs": [],
   "source": []
  },
  {
   "cell_type": "code",
   "execution_count": null,
   "id": "thick-innocent",
   "metadata": {},
   "outputs": [],
   "source": []
  },
  {
   "cell_type": "code",
   "execution_count": 11,
   "id": "lyric-theta",
   "metadata": {},
   "outputs": [],
   "source": [
    "# Normalize data by making 0 always good and 1 always bad. \n",
    "# If the value of 'cholesterol' or 'gluc' is 1, make the value 0. \n",
    "# If the value is more than 1, make the value 1."
   ]
  },
  {
   "cell_type": "code",
   "execution_count": 12,
   "id": "impressive-diploma",
   "metadata": {},
   "outputs": [],
   "source": [
    "df.loc[:, 'cholesterol'] = df['cholesterol'].map({1: 0, 2: 1, 3: 1})"
   ]
  },
  {
   "cell_type": "code",
   "execution_count": 13,
   "id": "lined-thong",
   "metadata": {},
   "outputs": [
    {
     "data": {
      "text/plain": [
       "0    0.748357\n",
       "1    0.251643\n",
       "Name: cholesterol, dtype: float64"
      ]
     },
     "execution_count": 13,
     "metadata": {},
     "output_type": "execute_result"
    }
   ],
   "source": [
    "df['cholesterol'].value_counts(normalize=True)"
   ]
  },
  {
   "cell_type": "code",
   "execution_count": 14,
   "id": "interstate-ceramic",
   "metadata": {},
   "outputs": [],
   "source": [
    "df.loc[:, 'gluc'].replace({1: 0, 2: 1, 3: 1}, inplace=True)"
   ]
  },
  {
   "cell_type": "code",
   "execution_count": null,
   "id": "informative-boards",
   "metadata": {},
   "outputs": [],
   "source": []
  },
  {
   "cell_type": "code",
   "execution_count": null,
   "id": "quiet-casino",
   "metadata": {},
   "outputs": [],
   "source": []
  },
  {
   "cell_type": "code",
   "execution_count": 15,
   "id": "silent-england",
   "metadata": {},
   "outputs": [],
   "source": [
    "# FIGURE 1"
   ]
  },
  {
   "cell_type": "code",
   "execution_count": 16,
   "id": "caroline-viking",
   "metadata": {},
   "outputs": [],
   "source": [
    "subjective_features = ['smoke', 'alco', 'active']"
   ]
  },
  {
   "cell_type": "code",
   "execution_count": 17,
   "id": "hearing-taiwan",
   "metadata": {},
   "outputs": [],
   "source": [
    "examination_features = ['cholesterol', 'gluc', 'overweight']"
   ]
  },
  {
   "cell_type": "code",
   "execution_count": 18,
   "id": "split-pricing",
   "metadata": {},
   "outputs": [],
   "source": [
    "target = 'cardio'"
   ]
  },
  {
   "cell_type": "code",
   "execution_count": null,
   "id": "premium-sauce",
   "metadata": {},
   "outputs": [],
   "source": []
  },
  {
   "cell_type": "code",
   "execution_count": 19,
   "id": "promising-model",
   "metadata": {},
   "outputs": [],
   "source": [
    "# Draw Categorical Plot\n",
    "def draw_cat_plot():\n",
    "    \n",
    "    # Create DataFrame for cat plot using `pd.melt` using just the values \n",
    "    # from 'cholesterol', 'gluc', 'smoke', 'alco', 'active', and 'overweight'.\n",
    "    df_cat = None\n",
    "\n",
    "\n",
    "    # Group and reformat the data to split it by 'cardio'. \n",
    "    # Show the counts of each feature. \n",
    "    # You will have to rename one of the collumns for the catplot to work correctly.\n",
    "    df_cat = None\n",
    "\n",
    "    # Draw the catplot with 'sns.catplot()'\n",
    "\n",
    "\n",
    "\n",
    "    # Do not modify the next two lines\n",
    "    fig.savefig('catplot.png')\n",
    "    return fig"
   ]
  },
  {
   "cell_type": "code",
   "execution_count": 20,
   "id": "absolute-malaysia",
   "metadata": {},
   "outputs": [
    {
     "data": {
      "text/html": [
       "<div>\n",
       "<style scoped>\n",
       "    .dataframe tbody tr th:only-of-type {\n",
       "        vertical-align: middle;\n",
       "    }\n",
       "\n",
       "    .dataframe tbody tr th {\n",
       "        vertical-align: top;\n",
       "    }\n",
       "\n",
       "    .dataframe thead th {\n",
       "        text-align: right;\n",
       "    }\n",
       "</style>\n",
       "<table border=\"1\" class=\"dataframe\">\n",
       "  <thead>\n",
       "    <tr style=\"text-align: right;\">\n",
       "      <th></th>\n",
       "      <th>smoke</th>\n",
       "      <th>alco</th>\n",
       "      <th>active</th>\n",
       "      <th>cholesterol</th>\n",
       "      <th>gluc</th>\n",
       "      <th>overweight</th>\n",
       "      <th>cardio</th>\n",
       "    </tr>\n",
       "  </thead>\n",
       "  <tbody>\n",
       "    <tr>\n",
       "      <th>0</th>\n",
       "      <td>0</td>\n",
       "      <td>0</td>\n",
       "      <td>1</td>\n",
       "      <td>0</td>\n",
       "      <td>0</td>\n",
       "      <td>0</td>\n",
       "      <td>0</td>\n",
       "    </tr>\n",
       "    <tr>\n",
       "      <th>1</th>\n",
       "      <td>0</td>\n",
       "      <td>0</td>\n",
       "      <td>1</td>\n",
       "      <td>1</td>\n",
       "      <td>0</td>\n",
       "      <td>1</td>\n",
       "      <td>1</td>\n",
       "    </tr>\n",
       "    <tr>\n",
       "      <th>2</th>\n",
       "      <td>0</td>\n",
       "      <td>0</td>\n",
       "      <td>0</td>\n",
       "      <td>1</td>\n",
       "      <td>0</td>\n",
       "      <td>0</td>\n",
       "      <td>1</td>\n",
       "    </tr>\n",
       "    <tr>\n",
       "      <th>3</th>\n",
       "      <td>0</td>\n",
       "      <td>0</td>\n",
       "      <td>1</td>\n",
       "      <td>0</td>\n",
       "      <td>0</td>\n",
       "      <td>1</td>\n",
       "      <td>1</td>\n",
       "    </tr>\n",
       "    <tr>\n",
       "      <th>4</th>\n",
       "      <td>0</td>\n",
       "      <td>0</td>\n",
       "      <td>0</td>\n",
       "      <td>0</td>\n",
       "      <td>0</td>\n",
       "      <td>0</td>\n",
       "      <td>0</td>\n",
       "    </tr>\n",
       "    <tr>\n",
       "      <th>...</th>\n",
       "      <td>...</td>\n",
       "      <td>...</td>\n",
       "      <td>...</td>\n",
       "      <td>...</td>\n",
       "      <td>...</td>\n",
       "      <td>...</td>\n",
       "      <td>...</td>\n",
       "    </tr>\n",
       "    <tr>\n",
       "      <th>69995</th>\n",
       "      <td>1</td>\n",
       "      <td>0</td>\n",
       "      <td>1</td>\n",
       "      <td>0</td>\n",
       "      <td>0</td>\n",
       "      <td>1</td>\n",
       "      <td>0</td>\n",
       "    </tr>\n",
       "    <tr>\n",
       "      <th>69996</th>\n",
       "      <td>0</td>\n",
       "      <td>0</td>\n",
       "      <td>1</td>\n",
       "      <td>1</td>\n",
       "      <td>1</td>\n",
       "      <td>1</td>\n",
       "      <td>1</td>\n",
       "    </tr>\n",
       "    <tr>\n",
       "      <th>69997</th>\n",
       "      <td>0</td>\n",
       "      <td>1</td>\n",
       "      <td>0</td>\n",
       "      <td>1</td>\n",
       "      <td>0</td>\n",
       "      <td>1</td>\n",
       "      <td>1</td>\n",
       "    </tr>\n",
       "    <tr>\n",
       "      <th>69998</th>\n",
       "      <td>0</td>\n",
       "      <td>0</td>\n",
       "      <td>0</td>\n",
       "      <td>0</td>\n",
       "      <td>1</td>\n",
       "      <td>1</td>\n",
       "      <td>1</td>\n",
       "    </tr>\n",
       "    <tr>\n",
       "      <th>69999</th>\n",
       "      <td>0</td>\n",
       "      <td>0</td>\n",
       "      <td>1</td>\n",
       "      <td>1</td>\n",
       "      <td>0</td>\n",
       "      <td>0</td>\n",
       "      <td>0</td>\n",
       "    </tr>\n",
       "  </tbody>\n",
       "</table>\n",
       "<p>70000 rows × 7 columns</p>\n",
       "</div>"
      ],
      "text/plain": [
       "       smoke  alco  active  cholesterol  gluc overweight  cardio\n",
       "0          0     0       1            0     0          0       0\n",
       "1          0     0       1            1     0          1       1\n",
       "2          0     0       0            1     0          0       1\n",
       "3          0     0       1            0     0          1       1\n",
       "4          0     0       0            0     0          0       0\n",
       "...      ...   ...     ...          ...   ...        ...     ...\n",
       "69995      1     0       1            0     0          1       0\n",
       "69996      0     0       1            1     1          1       1\n",
       "69997      0     1       0            1     0          1       1\n",
       "69998      0     0       0            0     1          1       1\n",
       "69999      0     0       1            1     0          0       0\n",
       "\n",
       "[70000 rows x 7 columns]"
      ]
     },
     "execution_count": 20,
     "metadata": {},
     "output_type": "execute_result"
    }
   ],
   "source": [
    "features = df.loc[:, subjective_features + examination_features + [target]]\n",
    "features"
   ]
  },
  {
   "cell_type": "code",
   "execution_count": null,
   "id": "finnish-headquarters",
   "metadata": {},
   "outputs": [],
   "source": []
  },
  {
   "cell_type": "markdown",
   "id": "burning-space",
   "metadata": {},
   "source": [
    "```filt = features.cardio == 0\n",
    "zero = features.loc[filt, :]\n",
    "zero\n",
    "```"
   ]
  },
  {
   "cell_type": "markdown",
   "id": "greenhouse-throw",
   "metadata": {},
   "source": [
    "## Group by 'cardio'"
   ]
  },
  {
   "cell_type": "code",
   "execution_count": 22,
   "id": "lesbian-helena",
   "metadata": {},
   "outputs": [
    {
     "data": {
      "text/plain": [
       "<pandas.core.groupby.generic.DataFrameGroupBy object at 0x7fd74e7b8760>"
      ]
     },
     "execution_count": 22,
     "metadata": {},
     "output_type": "execute_result"
    }
   ],
   "source": [
    "cardio_gr = features.groupby(['cardio'])\n",
    "cardio_gr"
   ]
  },
  {
   "cell_type": "code",
   "execution_count": 25,
   "id": "preliminary-reserve",
   "metadata": {},
   "outputs": [
    {
     "data": {
      "text/html": [
       "<div>\n",
       "<style scoped>\n",
       "    .dataframe tbody tr th:only-of-type {\n",
       "        vertical-align: middle;\n",
       "    }\n",
       "\n",
       "    .dataframe tbody tr th {\n",
       "        vertical-align: top;\n",
       "    }\n",
       "\n",
       "    .dataframe thead th {\n",
       "        text-align: right;\n",
       "    }\n",
       "</style>\n",
       "<table border=\"1\" class=\"dataframe\">\n",
       "  <thead>\n",
       "    <tr style=\"text-align: right;\">\n",
       "      <th></th>\n",
       "      <th>smoke</th>\n",
       "      <th>alco</th>\n",
       "      <th>active</th>\n",
       "      <th>cholesterol</th>\n",
       "      <th>gluc</th>\n",
       "      <th>overweight</th>\n",
       "      <th>cardio</th>\n",
       "    </tr>\n",
       "  </thead>\n",
       "  <tbody>\n",
       "    <tr>\n",
       "      <th>0</th>\n",
       "      <td>0</td>\n",
       "      <td>0</td>\n",
       "      <td>1</td>\n",
       "      <td>0</td>\n",
       "      <td>0</td>\n",
       "      <td>0</td>\n",
       "      <td>0</td>\n",
       "    </tr>\n",
       "    <tr>\n",
       "      <th>4</th>\n",
       "      <td>0</td>\n",
       "      <td>0</td>\n",
       "      <td>0</td>\n",
       "      <td>0</td>\n",
       "      <td>0</td>\n",
       "      <td>0</td>\n",
       "      <td>0</td>\n",
       "    </tr>\n",
       "    <tr>\n",
       "      <th>5</th>\n",
       "      <td>0</td>\n",
       "      <td>0</td>\n",
       "      <td>0</td>\n",
       "      <td>1</td>\n",
       "      <td>1</td>\n",
       "      <td>1</td>\n",
       "      <td>0</td>\n",
       "    </tr>\n",
       "    <tr>\n",
       "      <th>6</th>\n",
       "      <td>0</td>\n",
       "      <td>0</td>\n",
       "      <td>1</td>\n",
       "      <td>1</td>\n",
       "      <td>0</td>\n",
       "      <td>1</td>\n",
       "      <td>0</td>\n",
       "    </tr>\n",
       "    <tr>\n",
       "      <th>8</th>\n",
       "      <td>0</td>\n",
       "      <td>0</td>\n",
       "      <td>1</td>\n",
       "      <td>0</td>\n",
       "      <td>0</td>\n",
       "      <td>1</td>\n",
       "      <td>0</td>\n",
       "    </tr>\n",
       "    <tr>\n",
       "      <th>...</th>\n",
       "      <td>...</td>\n",
       "      <td>...</td>\n",
       "      <td>...</td>\n",
       "      <td>...</td>\n",
       "      <td>...</td>\n",
       "      <td>...</td>\n",
       "      <td>...</td>\n",
       "    </tr>\n",
       "    <tr>\n",
       "      <th>69987</th>\n",
       "      <td>0</td>\n",
       "      <td>0</td>\n",
       "      <td>1</td>\n",
       "      <td>0</td>\n",
       "      <td>0</td>\n",
       "      <td>0</td>\n",
       "      <td>0</td>\n",
       "    </tr>\n",
       "    <tr>\n",
       "      <th>69988</th>\n",
       "      <td>0</td>\n",
       "      <td>0</td>\n",
       "      <td>1</td>\n",
       "      <td>0</td>\n",
       "      <td>0</td>\n",
       "      <td>0</td>\n",
       "      <td>0</td>\n",
       "    </tr>\n",
       "    <tr>\n",
       "      <th>69991</th>\n",
       "      <td>0</td>\n",
       "      <td>0</td>\n",
       "      <td>1</td>\n",
       "      <td>1</td>\n",
       "      <td>1</td>\n",
       "      <td>1</td>\n",
       "      <td>0</td>\n",
       "    </tr>\n",
       "    <tr>\n",
       "      <th>69995</th>\n",
       "      <td>1</td>\n",
       "      <td>0</td>\n",
       "      <td>1</td>\n",
       "      <td>0</td>\n",
       "      <td>0</td>\n",
       "      <td>1</td>\n",
       "      <td>0</td>\n",
       "    </tr>\n",
       "    <tr>\n",
       "      <th>69999</th>\n",
       "      <td>0</td>\n",
       "      <td>0</td>\n",
       "      <td>1</td>\n",
       "      <td>1</td>\n",
       "      <td>0</td>\n",
       "      <td>0</td>\n",
       "      <td>0</td>\n",
       "    </tr>\n",
       "  </tbody>\n",
       "</table>\n",
       "<p>35021 rows × 7 columns</p>\n",
       "</div>"
      ],
      "text/plain": [
       "       smoke  alco  active  cholesterol  gluc overweight  cardio\n",
       "0          0     0       1            0     0          0       0\n",
       "4          0     0       0            0     0          0       0\n",
       "5          0     0       0            1     1          1       0\n",
       "6          0     0       1            1     0          1       0\n",
       "8          0     0       1            0     0          1       0\n",
       "...      ...   ...     ...          ...   ...        ...     ...\n",
       "69987      0     0       1            0     0          0       0\n",
       "69988      0     0       1            0     0          0       0\n",
       "69991      0     0       1            1     1          1       0\n",
       "69995      1     0       1            0     0          1       0\n",
       "69999      0     0       1            1     0          0       0\n",
       "\n",
       "[35021 rows x 7 columns]"
      ]
     },
     "execution_count": 25,
     "metadata": {},
     "output_type": "execute_result"
    }
   ],
   "source": [
    "cardio_0 = cardio_gr.get_group(0)\n",
    "cardio_0"
   ]
  },
  {
   "cell_type": "code",
   "execution_count": 28,
   "id": "broken-flesh",
   "metadata": {},
   "outputs": [
    {
     "data": {
      "text/html": [
       "<div>\n",
       "<style scoped>\n",
       "    .dataframe tbody tr th:only-of-type {\n",
       "        vertical-align: middle;\n",
       "    }\n",
       "\n",
       "    .dataframe tbody tr th {\n",
       "        vertical-align: top;\n",
       "    }\n",
       "\n",
       "    .dataframe thead th {\n",
       "        text-align: right;\n",
       "    }\n",
       "</style>\n",
       "<table border=\"1\" class=\"dataframe\">\n",
       "  <thead>\n",
       "    <tr style=\"text-align: right;\">\n",
       "      <th></th>\n",
       "      <th>smoke</th>\n",
       "      <th>alco</th>\n",
       "      <th>active</th>\n",
       "      <th>cholesterol</th>\n",
       "      <th>gluc</th>\n",
       "      <th>overweight</th>\n",
       "      <th>cardio</th>\n",
       "    </tr>\n",
       "  </thead>\n",
       "  <tbody>\n",
       "    <tr>\n",
       "      <th>1</th>\n",
       "      <td>0</td>\n",
       "      <td>0</td>\n",
       "      <td>1</td>\n",
       "      <td>1</td>\n",
       "      <td>0</td>\n",
       "      <td>1</td>\n",
       "      <td>1</td>\n",
       "    </tr>\n",
       "    <tr>\n",
       "      <th>2</th>\n",
       "      <td>0</td>\n",
       "      <td>0</td>\n",
       "      <td>0</td>\n",
       "      <td>1</td>\n",
       "      <td>0</td>\n",
       "      <td>0</td>\n",
       "      <td>1</td>\n",
       "    </tr>\n",
       "    <tr>\n",
       "      <th>3</th>\n",
       "      <td>0</td>\n",
       "      <td>0</td>\n",
       "      <td>1</td>\n",
       "      <td>0</td>\n",
       "      <td>0</td>\n",
       "      <td>1</td>\n",
       "      <td>1</td>\n",
       "    </tr>\n",
       "    <tr>\n",
       "      <th>7</th>\n",
       "      <td>0</td>\n",
       "      <td>0</td>\n",
       "      <td>1</td>\n",
       "      <td>1</td>\n",
       "      <td>1</td>\n",
       "      <td>1</td>\n",
       "      <td>1</td>\n",
       "    </tr>\n",
       "    <tr>\n",
       "      <th>15</th>\n",
       "      <td>0</td>\n",
       "      <td>0</td>\n",
       "      <td>0</td>\n",
       "      <td>0</td>\n",
       "      <td>0</td>\n",
       "      <td>1</td>\n",
       "      <td>1</td>\n",
       "    </tr>\n",
       "    <tr>\n",
       "      <th>...</th>\n",
       "      <td>...</td>\n",
       "      <td>...</td>\n",
       "      <td>...</td>\n",
       "      <td>...</td>\n",
       "      <td>...</td>\n",
       "      <td>...</td>\n",
       "      <td>...</td>\n",
       "    </tr>\n",
       "    <tr>\n",
       "      <th>69993</th>\n",
       "      <td>0</td>\n",
       "      <td>0</td>\n",
       "      <td>1</td>\n",
       "      <td>0</td>\n",
       "      <td>0</td>\n",
       "      <td>0</td>\n",
       "      <td>1</td>\n",
       "    </tr>\n",
       "    <tr>\n",
       "      <th>69994</th>\n",
       "      <td>0</td>\n",
       "      <td>0</td>\n",
       "      <td>1</td>\n",
       "      <td>0</td>\n",
       "      <td>0</td>\n",
       "      <td>1</td>\n",
       "      <td>1</td>\n",
       "    </tr>\n",
       "    <tr>\n",
       "      <th>69996</th>\n",
       "      <td>0</td>\n",
       "      <td>0</td>\n",
       "      <td>1</td>\n",
       "      <td>1</td>\n",
       "      <td>1</td>\n",
       "      <td>1</td>\n",
       "      <td>1</td>\n",
       "    </tr>\n",
       "    <tr>\n",
       "      <th>69997</th>\n",
       "      <td>0</td>\n",
       "      <td>1</td>\n",
       "      <td>0</td>\n",
       "      <td>1</td>\n",
       "      <td>0</td>\n",
       "      <td>1</td>\n",
       "      <td>1</td>\n",
       "    </tr>\n",
       "    <tr>\n",
       "      <th>69998</th>\n",
       "      <td>0</td>\n",
       "      <td>0</td>\n",
       "      <td>0</td>\n",
       "      <td>0</td>\n",
       "      <td>1</td>\n",
       "      <td>1</td>\n",
       "      <td>1</td>\n",
       "    </tr>\n",
       "  </tbody>\n",
       "</table>\n",
       "<p>34979 rows × 7 columns</p>\n",
       "</div>"
      ],
      "text/plain": [
       "       smoke  alco  active  cholesterol  gluc overweight  cardio\n",
       "1          0     0       1            1     0          1       1\n",
       "2          0     0       0            1     0          0       1\n",
       "3          0     0       1            0     0          1       1\n",
       "7          0     0       1            1     1          1       1\n",
       "15         0     0       0            0     0          1       1\n",
       "...      ...   ...     ...          ...   ...        ...     ...\n",
       "69993      0     0       1            0     0          0       1\n",
       "69994      0     0       1            0     0          1       1\n",
       "69996      0     0       1            1     1          1       1\n",
       "69997      0     1       0            1     0          1       1\n",
       "69998      0     0       0            0     1          1       1\n",
       "\n",
       "[34979 rows x 7 columns]"
      ]
     },
     "execution_count": 28,
     "metadata": {},
     "output_type": "execute_result"
    }
   ],
   "source": [
    "cardio_1 = cardio_gr.get_group(1)\n",
    "cardio_1"
   ]
  },
  {
   "cell_type": "code",
   "execution_count": null,
   "id": "laden-motorcycle",
   "metadata": {},
   "outputs": [],
   "source": []
  },
  {
   "cell_type": "code",
   "execution_count": null,
   "id": "similar-thursday",
   "metadata": {},
   "outputs": [],
   "source": []
  },
  {
   "cell_type": "markdown",
   "id": "stainless-system",
   "metadata": {},
   "source": [
    "## Melt"
   ]
  },
  {
   "cell_type": "code",
   "execution_count": 31,
   "id": "interpreted-television",
   "metadata": {},
   "outputs": [
    {
     "data": {
      "text/html": [
       "<div>\n",
       "<style scoped>\n",
       "    .dataframe tbody tr th:only-of-type {\n",
       "        vertical-align: middle;\n",
       "    }\n",
       "\n",
       "    .dataframe tbody tr th {\n",
       "        vertical-align: top;\n",
       "    }\n",
       "\n",
       "    .dataframe thead th {\n",
       "        text-align: right;\n",
       "    }\n",
       "</style>\n",
       "<table border=\"1\" class=\"dataframe\">\n",
       "  <thead>\n",
       "    <tr style=\"text-align: right;\">\n",
       "      <th></th>\n",
       "      <th>variable</th>\n",
       "      <th>value</th>\n",
       "    </tr>\n",
       "  </thead>\n",
       "  <tbody>\n",
       "    <tr>\n",
       "      <th>0</th>\n",
       "      <td>smoke</td>\n",
       "      <td>0</td>\n",
       "    </tr>\n",
       "    <tr>\n",
       "      <th>1</th>\n",
       "      <td>smoke</td>\n",
       "      <td>0</td>\n",
       "    </tr>\n",
       "    <tr>\n",
       "      <th>2</th>\n",
       "      <td>smoke</td>\n",
       "      <td>0</td>\n",
       "    </tr>\n",
       "    <tr>\n",
       "      <th>3</th>\n",
       "      <td>smoke</td>\n",
       "      <td>0</td>\n",
       "    </tr>\n",
       "    <tr>\n",
       "      <th>4</th>\n",
       "      <td>smoke</td>\n",
       "      <td>0</td>\n",
       "    </tr>\n",
       "    <tr>\n",
       "      <th>...</th>\n",
       "      <td>...</td>\n",
       "      <td>...</td>\n",
       "    </tr>\n",
       "    <tr>\n",
       "      <th>210121</th>\n",
       "      <td>overweight</td>\n",
       "      <td>0</td>\n",
       "    </tr>\n",
       "    <tr>\n",
       "      <th>210122</th>\n",
       "      <td>overweight</td>\n",
       "      <td>0</td>\n",
       "    </tr>\n",
       "    <tr>\n",
       "      <th>210123</th>\n",
       "      <td>overweight</td>\n",
       "      <td>1</td>\n",
       "    </tr>\n",
       "    <tr>\n",
       "      <th>210124</th>\n",
       "      <td>overweight</td>\n",
       "      <td>1</td>\n",
       "    </tr>\n",
       "    <tr>\n",
       "      <th>210125</th>\n",
       "      <td>overweight</td>\n",
       "      <td>0</td>\n",
       "    </tr>\n",
       "  </tbody>\n",
       "</table>\n",
       "<p>210126 rows × 2 columns</p>\n",
       "</div>"
      ],
      "text/plain": [
       "          variable value\n",
       "0            smoke     0\n",
       "1            smoke     0\n",
       "2            smoke     0\n",
       "3            smoke     0\n",
       "4            smoke     0\n",
       "...            ...   ...\n",
       "210121  overweight     0\n",
       "210122  overweight     0\n",
       "210123  overweight     1\n",
       "210124  overweight     1\n",
       "210125  overweight     0\n",
       "\n",
       "[210126 rows x 2 columns]"
      ]
     },
     "execution_count": 31,
     "metadata": {},
     "output_type": "execute_result"
    }
   ],
   "source": [
    "melt_0 = pd.melt(cardio_0.drop(columns=['cardio']))\n",
    "melt_0"
   ]
  },
  {
   "cell_type": "code",
   "execution_count": 32,
   "id": "formal-generic",
   "metadata": {},
   "outputs": [
    {
     "data": {
      "text/html": [
       "<div>\n",
       "<style scoped>\n",
       "    .dataframe tbody tr th:only-of-type {\n",
       "        vertical-align: middle;\n",
       "    }\n",
       "\n",
       "    .dataframe tbody tr th {\n",
       "        vertical-align: top;\n",
       "    }\n",
       "\n",
       "    .dataframe thead th {\n",
       "        text-align: right;\n",
       "    }\n",
       "</style>\n",
       "<table border=\"1\" class=\"dataframe\">\n",
       "  <thead>\n",
       "    <tr style=\"text-align: right;\">\n",
       "      <th></th>\n",
       "      <th>variable</th>\n",
       "      <th>value</th>\n",
       "    </tr>\n",
       "  </thead>\n",
       "  <tbody>\n",
       "    <tr>\n",
       "      <th>0</th>\n",
       "      <td>smoke</td>\n",
       "      <td>0</td>\n",
       "    </tr>\n",
       "    <tr>\n",
       "      <th>1</th>\n",
       "      <td>smoke</td>\n",
       "      <td>0</td>\n",
       "    </tr>\n",
       "    <tr>\n",
       "      <th>2</th>\n",
       "      <td>smoke</td>\n",
       "      <td>0</td>\n",
       "    </tr>\n",
       "    <tr>\n",
       "      <th>3</th>\n",
       "      <td>smoke</td>\n",
       "      <td>0</td>\n",
       "    </tr>\n",
       "    <tr>\n",
       "      <th>4</th>\n",
       "      <td>smoke</td>\n",
       "      <td>0</td>\n",
       "    </tr>\n",
       "    <tr>\n",
       "      <th>...</th>\n",
       "      <td>...</td>\n",
       "      <td>...</td>\n",
       "    </tr>\n",
       "    <tr>\n",
       "      <th>209869</th>\n",
       "      <td>overweight</td>\n",
       "      <td>0</td>\n",
       "    </tr>\n",
       "    <tr>\n",
       "      <th>209870</th>\n",
       "      <td>overweight</td>\n",
       "      <td>1</td>\n",
       "    </tr>\n",
       "    <tr>\n",
       "      <th>209871</th>\n",
       "      <td>overweight</td>\n",
       "      <td>1</td>\n",
       "    </tr>\n",
       "    <tr>\n",
       "      <th>209872</th>\n",
       "      <td>overweight</td>\n",
       "      <td>1</td>\n",
       "    </tr>\n",
       "    <tr>\n",
       "      <th>209873</th>\n",
       "      <td>overweight</td>\n",
       "      <td>1</td>\n",
       "    </tr>\n",
       "  </tbody>\n",
       "</table>\n",
       "<p>209874 rows × 2 columns</p>\n",
       "</div>"
      ],
      "text/plain": [
       "          variable value\n",
       "0            smoke     0\n",
       "1            smoke     0\n",
       "2            smoke     0\n",
       "3            smoke     0\n",
       "4            smoke     0\n",
       "...            ...   ...\n",
       "209869  overweight     0\n",
       "209870  overweight     1\n",
       "209871  overweight     1\n",
       "209872  overweight     1\n",
       "209873  overweight     1\n",
       "\n",
       "[209874 rows x 2 columns]"
      ]
     },
     "execution_count": 32,
     "metadata": {},
     "output_type": "execute_result"
    }
   ],
   "source": [
    "melt_1 = pd.melt(cardio_1.drop(columns=['cardio']))\n",
    "melt_1"
   ]
  },
  {
   "cell_type": "code",
   "execution_count": null,
   "id": "adjusted-navigator",
   "metadata": {},
   "outputs": [],
   "source": []
  },
  {
   "cell_type": "markdown",
   "id": "competitive-marine",
   "metadata": {},
   "source": [
    "## Aggregation"
   ]
  },
  {
   "cell_type": "markdown",
   "id": "ahead-fiction",
   "metadata": {},
   "source": [
    "**group by variable applying count (value count)  \n",
    "or  \n",
    "group by variable and value**"
   ]
  },
  {
   "cell_type": "code",
   "execution_count": 52,
   "id": "suburban-julian",
   "metadata": {},
   "outputs": [
    {
     "data": {
      "text/plain": [
       "<pandas.core.groupby.generic.DataFrameGroupBy object at 0x7fd7474e6400>"
      ]
     },
     "execution_count": 52,
     "metadata": {},
     "output_type": "execute_result"
    }
   ],
   "source": [
    "agg_0 = melt_0.groupby(['variable', 'value'])\n",
    "agg_0"
   ]
  },
  {
   "cell_type": "code",
   "execution_count": 57,
   "id": "worth-third",
   "metadata": {},
   "outputs": [
    {
     "data": {
      "text/html": [
       "<div>\n",
       "<style scoped>\n",
       "    .dataframe tbody tr th:only-of-type {\n",
       "        vertical-align: middle;\n",
       "    }\n",
       "\n",
       "    .dataframe tbody tr th {\n",
       "        vertical-align: top;\n",
       "    }\n",
       "\n",
       "    .dataframe thead th {\n",
       "        text-align: right;\n",
       "    }\n",
       "</style>\n",
       "<table border=\"1\" class=\"dataframe\">\n",
       "  <thead>\n",
       "    <tr style=\"text-align: right;\">\n",
       "      <th></th>\n",
       "      <th></th>\n",
       "      <th>value</th>\n",
       "    </tr>\n",
       "    <tr>\n",
       "      <th>variable</th>\n",
       "      <th>value</th>\n",
       "      <th></th>\n",
       "    </tr>\n",
       "  </thead>\n",
       "  <tbody>\n",
       "    <tr>\n",
       "      <th rowspan=\"2\" valign=\"top\">active</th>\n",
       "      <th>0</th>\n",
       "      <td>0.0</td>\n",
       "    </tr>\n",
       "    <tr>\n",
       "      <th>1</th>\n",
       "      <td>1.0</td>\n",
       "    </tr>\n",
       "    <tr>\n",
       "      <th rowspan=\"2\" valign=\"top\">alco</th>\n",
       "      <th>0</th>\n",
       "      <td>0.0</td>\n",
       "    </tr>\n",
       "    <tr>\n",
       "      <th>1</th>\n",
       "      <td>1.0</td>\n",
       "    </tr>\n",
       "    <tr>\n",
       "      <th rowspan=\"2\" valign=\"top\">cholesterol</th>\n",
       "      <th>0</th>\n",
       "      <td>0.0</td>\n",
       "    </tr>\n",
       "    <tr>\n",
       "      <th>1</th>\n",
       "      <td>1.0</td>\n",
       "    </tr>\n",
       "    <tr>\n",
       "      <th rowspan=\"2\" valign=\"top\">gluc</th>\n",
       "      <th>0</th>\n",
       "      <td>0.0</td>\n",
       "    </tr>\n",
       "    <tr>\n",
       "      <th>1</th>\n",
       "      <td>1.0</td>\n",
       "    </tr>\n",
       "    <tr>\n",
       "      <th rowspan=\"2\" valign=\"top\">overweight</th>\n",
       "      <th>0</th>\n",
       "      <td>0.0</td>\n",
       "    </tr>\n",
       "    <tr>\n",
       "      <th>1</th>\n",
       "      <td>1.0</td>\n",
       "    </tr>\n",
       "    <tr>\n",
       "      <th rowspan=\"2\" valign=\"top\">smoke</th>\n",
       "      <th>0</th>\n",
       "      <td>0.0</td>\n",
       "    </tr>\n",
       "    <tr>\n",
       "      <th>1</th>\n",
       "      <td>1.0</td>\n",
       "    </tr>\n",
       "  </tbody>\n",
       "</table>\n",
       "</div>"
      ],
      "text/plain": [
       "                   value\n",
       "variable    value       \n",
       "active      0        0.0\n",
       "            1        1.0\n",
       "alco        0        0.0\n",
       "            1        1.0\n",
       "cholesterol 0        0.0\n",
       "            1        1.0\n",
       "gluc        0        0.0\n",
       "            1        1.0\n",
       "overweight  0        0.0\n",
       "            1        1.0\n",
       "smoke       0        0.0\n",
       "            1        1.0"
      ]
     },
     "execution_count": 57,
     "metadata": {},
     "output_type": "execute_result"
    }
   ],
   "source": [
    "agg_0.agg(pd.Series.mean)"
   ]
  },
  {
   "cell_type": "code",
   "execution_count": 60,
   "id": "wrapped-plastic",
   "metadata": {},
   "outputs": [
    {
     "data": {
      "text/plain": [
       "variable     value\n",
       "active       0         6378\n",
       "             1        28643\n",
       "alco         0        33080\n",
       "             1         1941\n",
       "cholesterol  0        29330\n",
       "             1         5691\n",
       "gluc         0        30894\n",
       "             1         4127\n",
       "overweight   0        15915\n",
       "             1        19106\n",
       "smoke        0        31781\n",
       "             1         3240\n",
       "dtype: int64"
      ]
     },
     "execution_count": 60,
     "metadata": {},
     "output_type": "execute_result"
    }
   ],
   "source": [
    "agg_0.agg(len)"
   ]
  },
  {
   "cell_type": "code",
   "execution_count": 66,
   "id": "needed-george",
   "metadata": {},
   "outputs": [
    {
     "data": {
      "text/plain": [
       "<AxesSubplot:xlabel='variable,value'>"
      ]
     },
     "execution_count": 66,
     "metadata": {},
     "output_type": "execute_result"
    },
    {
     "data": {
      "image/png": "[encoded data removed]",
      "text/plain": [
       "<Figure size 432x288 with 1 Axes>"
      ]
     },
     "metadata": {
      "needs_background": "light"
     },
     "output_type": "display_data"
    }
   ],
   "source": [
    "data_fig1 = agg_0.agg(len)\n",
    "data_fig1.plot(kind='bar')"
   ]
  },
  {
   "cell_type": "code",
   "execution_count": null,
   "id": "located-recall",
   "metadata": {},
   "outputs": [],
   "source": []
  },
  {
   "cell_type": "code",
   "execution_count": null,
   "id": "accepted-wonder",
   "metadata": {},
   "outputs": [],
   "source": []
  },
  {
   "cell_type": "code",
   "execution_count": null,
   "id": "signed-carry",
   "metadata": {},
   "outputs": [],
   "source": []
  },
  {
   "cell_type": "code",
   "execution_count": 41,
   "id": "signal-validity",
   "metadata": {},
   "outputs": [
    {
     "data": {
      "text/plain": [
       "<pandas.core.groupby.generic.DataFrameGroupBy object at 0x7fd74a0331f0>"
      ]
     },
     "execution_count": 41,
     "metadata": {},
     "output_type": "execute_result"
    }
   ],
   "source": [
    "agg_0 = melt_0.groupby('variable')\n",
    "agg_0"
   ]
  },
  {
   "cell_type": "code",
   "execution_count": 72,
   "id": "received-average",
   "metadata": {},
   "outputs": [
    {
     "data": {
      "text/plain": [
       "variable     value\n",
       "active       0         6378\n",
       "             1        28643\n",
       "alco         0        33080\n",
       "             1         1941\n",
       "cholesterol  0        29330\n",
       "             1         5691\n",
       "gluc         0        30894\n",
       "             1         4127\n",
       "overweight   0        15915\n",
       "             1        19106\n",
       "smoke        0        31781\n",
       "             1         3240\n",
       "dtype: int64"
      ]
     },
     "execution_count": 72,
     "metadata": {},
     "output_type": "execute_result"
    }
   ],
   "source": [
    "agg_0.agg(len)"
   ]
  },
  {
   "cell_type": "code",
   "execution_count": null,
   "id": "focal-marking",
   "metadata": {},
   "outputs": [],
   "source": []
  },
  {
   "cell_type": "code",
   "execution_count": null,
   "id": "caroline-preference",
   "metadata": {},
   "outputs": [],
   "source": []
  },
  {
   "cell_type": "code",
   "execution_count": null,
   "id": "planned-force",
   "metadata": {},
   "outputs": [],
   "source": []
  },
  {
   "cell_type": "code",
   "execution_count": null,
   "id": "chemical-shepherd",
   "metadata": {},
   "outputs": [],
   "source": []
  },
  {
   "cell_type": "code",
   "execution_count": null,
   "id": "broke-novel",
   "metadata": {},
   "outputs": [],
   "source": []
  },
  {
   "cell_type": "code",
   "execution_count": null,
   "id": "least-variety",
   "metadata": {},
   "outputs": [],
   "source": []
  },
  {
   "cell_type": "code",
   "execution_count": null,
   "id": "treated-brazil",
   "metadata": {},
   "outputs": [],
   "source": [
    "melt_groups_0 = melt_0.groupby(['variable'])\n",
    "melt_groups_0"
   ]
  },
  {
   "cell_type": "code",
   "execution_count": null,
   "id": "exact-velvet",
   "metadata": {},
   "outputs": [],
   "source": [
    "melt_groups_0.get_group('smoke')"
   ]
  },
  {
   "cell_type": "code",
   "execution_count": null,
   "id": "large-grain",
   "metadata": {},
   "outputs": [],
   "source": [
    "x = melt_groups_0.get_group('smoke')['value'].value_counts()\n",
    "x"
   ]
  },
  {
   "cell_type": "code",
   "execution_count": null,
   "id": "available-company",
   "metadata": {},
   "outputs": [],
   "source": [
    "melt_groups_0.count()"
   ]
  },
  {
   "cell_type": "code",
   "execution_count": null,
   "id": "unsigned-specific",
   "metadata": {},
   "outputs": [],
   "source": []
  },
  {
   "cell_type": "code",
   "execution_count": null,
   "id": "polish-moderator",
   "metadata": {},
   "outputs": [],
   "source": []
  },
  {
   "cell_type": "code",
   "execution_count": null,
   "id": "offshore-contractor",
   "metadata": {},
   "outputs": [],
   "source": []
  },
  {
   "cell_type": "code",
   "execution_count": null,
   "id": "corrected-check",
   "metadata": {},
   "outputs": [],
   "source": []
  },
  {
   "cell_type": "code",
   "execution_count": null,
   "id": "boolean-blanket",
   "metadata": {},
   "outputs": [],
   "source": [
    "sns.catplot(data=x)"
   ]
  },
  {
   "cell_type": "code",
   "execution_count": null,
   "id": "greatest-answer",
   "metadata": {},
   "outputs": [],
   "source": []
  },
  {
   "cell_type": "code",
   "execution_count": null,
   "id": "czech-malta",
   "metadata": {},
   "outputs": [],
   "source": [
    "df_cat = pd.melt(subj_exam_features)\n",
    "df_cat"
   ]
  },
  {
   "cell_type": "code",
   "execution_count": null,
   "id": "municipal-lightweight",
   "metadata": {},
   "outputs": [],
   "source": [
    "fs = df_cat['variable'] == 'smoke'\n",
    "fs"
   ]
  },
  {
   "cell_type": "code",
   "execution_count": null,
   "id": "allied-bradley",
   "metadata": {},
   "outputs": [],
   "source": [
    "df_cat.loc[fs]"
   ]
  },
  {
   "cell_type": "code",
   "execution_count": null,
   "id": "missing-enclosure",
   "metadata": {},
   "outputs": [],
   "source": []
  },
  {
   "cell_type": "code",
   "execution_count": null,
   "id": "universal-arthur",
   "metadata": {},
   "outputs": [],
   "source": []
  },
  {
   "cell_type": "code",
   "execution_count": null,
   "id": "intended-turtle",
   "metadata": {},
   "outputs": [],
   "source": [
    "a = [[10,20,30], [10,50,44], [90,20,80]]"
   ]
  },
  {
   "cell_type": "code",
   "execution_count": null,
   "id": "smaller-morris",
   "metadata": {},
   "outputs": [],
   "source": [
    "b = ['v1', 'v2', 'v3']"
   ]
  },
  {
   "cell_type": "code",
   "execution_count": null,
   "id": "accurate-weapon",
   "metadata": {},
   "outputs": [],
   "source": [
    "d = dict(zip(b, a))\n",
    "d"
   ]
  },
  {
   "cell_type": "code",
   "execution_count": null,
   "id": "balanced-moldova",
   "metadata": {},
   "outputs": [],
   "source": [
    "dff = pd.DataFrame(d)\n",
    "dff"
   ]
  },
  {
   "cell_type": "code",
   "execution_count": null,
   "id": "united-payroll",
   "metadata": {},
   "outputs": [],
   "source": [
    "# sns.catplot(a, b)"
   ]
  },
  {
   "cell_type": "code",
   "execution_count": null,
   "id": "cathedral-drunk",
   "metadata": {},
   "outputs": [],
   "source": []
  }
 ],
 "metadata": {
  "kernelspec": {
   "display_name": "Python 3",
   "language": "python",
   "name": "python3"
  },
  "language_info": {
   "codemirror_mode": {
    "name": "ipython",
    "version": 3
   },
   "file_extension": ".py",
   "mimetype": "text/x-python",
   "name": "python",
   "nbconvert_exporter": "python",
   "pygments_lexer": "ipython3",
   "version": "3.8.5"
  }
 },
 "nbformat": 4,
 "nbformat_minor": 5
}
