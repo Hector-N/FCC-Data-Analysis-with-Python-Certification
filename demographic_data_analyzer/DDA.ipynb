{
 "cells": [
  {
   "cell_type": "code",
   "execution_count": 17,
   "id": "retained-cambodia",
   "metadata": {},
   "outputs": [],
   "source": [
    "import pandas as pd"
   ]
  },
  {
   "cell_type": "code",
   "execution_count": 203,
   "id": "celtic-festival",
   "metadata": {},
   "outputs": [],
   "source": [
    "df = pd.read_csv('adult.data.csv', sep=',', index_col=None, )"
   ]
  },
  {
   "cell_type": "code",
   "execution_count": null,
   "id": "confirmed-temple",
   "metadata": {},
   "outputs": [],
   "source": []
  },
  {
   "cell_type": "code",
   "execution_count": 19,
   "id": "outstanding-vegetable",
   "metadata": {},
   "outputs": [
    {
     "name": "stdout",
     "output_type": "stream",
     "text": [
      "<class 'pandas.core.frame.DataFrame'>\n",
      "RangeIndex: 32561 entries, 0 to 32560\n",
      "Data columns (total 15 columns):\n",
      " #   Column          Non-Null Count  Dtype \n",
      "---  ------          --------------  ----- \n",
      " 0   age             32561 non-null  int64 \n",
      " 1   workclass       32561 non-null  object\n",
      " 2   fnlwgt          32561 non-null  int64 \n",
      " 3   education       32561 non-null  object\n",
      " 4   education-num   32561 non-null  int64 \n",
      " 5   marital-status  32561 non-null  object\n",
      " 6   occupation      32561 non-null  object\n",
      " 7   relationship    32561 non-null  object\n",
      " 8   race            32561 non-null  object\n",
      " 9   sex             32561 non-null  object\n",
      " 10  capital-gain    32561 non-null  int64 \n",
      " 11  capital-loss    32561 non-null  int64 \n",
      " 12  hours-per-week  32561 non-null  int64 \n",
      " 13  native-country  32561 non-null  object\n",
      " 14  salary          32561 non-null  object\n",
      "dtypes: int64(6), object(9)\n",
      "memory usage: 3.7+ MB\n"
     ]
    }
   ],
   "source": [
    "df.info()"
   ]
  },
  {
   "cell_type": "code",
   "execution_count": 20,
   "id": "hearing-census",
   "metadata": {},
   "outputs": [
    {
     "data": {
      "text/html": [
       "<div>\n",
       "<style scoped>\n",
       "    .dataframe tbody tr th:only-of-type {\n",
       "        vertical-align: middle;\n",
       "    }\n",
       "\n",
       "    .dataframe tbody tr th {\n",
       "        vertical-align: top;\n",
       "    }\n",
       "\n",
       "    .dataframe thead th {\n",
       "        text-align: right;\n",
       "    }\n",
       "</style>\n",
       "<table border=\"1\" class=\"dataframe\">\n",
       "  <thead>\n",
       "    <tr style=\"text-align: right;\">\n",
       "      <th></th>\n",
       "      <th>age</th>\n",
       "      <th>workclass</th>\n",
       "      <th>fnlwgt</th>\n",
       "      <th>education</th>\n",
       "      <th>education-num</th>\n",
       "      <th>marital-status</th>\n",
       "      <th>occupation</th>\n",
       "      <th>relationship</th>\n",
       "      <th>race</th>\n",
       "      <th>sex</th>\n",
       "      <th>capital-gain</th>\n",
       "      <th>capital-loss</th>\n",
       "      <th>hours-per-week</th>\n",
       "      <th>native-country</th>\n",
       "      <th>salary</th>\n",
       "    </tr>\n",
       "  </thead>\n",
       "  <tbody>\n",
       "    <tr>\n",
       "      <th>0</th>\n",
       "      <td>39</td>\n",
       "      <td>State-gov</td>\n",
       "      <td>77516</td>\n",
       "      <td>Bachelors</td>\n",
       "      <td>13</td>\n",
       "      <td>Never-married</td>\n",
       "      <td>Adm-clerical</td>\n",
       "      <td>Not-in-family</td>\n",
       "      <td>White</td>\n",
       "      <td>Male</td>\n",
       "      <td>2174</td>\n",
       "      <td>0</td>\n",
       "      <td>40</td>\n",
       "      <td>United-States</td>\n",
       "      <td>&lt;=50K</td>\n",
       "    </tr>\n",
       "    <tr>\n",
       "      <th>1</th>\n",
       "      <td>50</td>\n",
       "      <td>Self-emp-not-inc</td>\n",
       "      <td>83311</td>\n",
       "      <td>Bachelors</td>\n",
       "      <td>13</td>\n",
       "      <td>Married-civ-spouse</td>\n",
       "      <td>Exec-managerial</td>\n",
       "      <td>Husband</td>\n",
       "      <td>White</td>\n",
       "      <td>Male</td>\n",
       "      <td>0</td>\n",
       "      <td>0</td>\n",
       "      <td>13</td>\n",
       "      <td>United-States</td>\n",
       "      <td>&lt;=50K</td>\n",
       "    </tr>\n",
       "    <tr>\n",
       "      <th>2</th>\n",
       "      <td>38</td>\n",
       "      <td>Private</td>\n",
       "      <td>215646</td>\n",
       "      <td>HS-grad</td>\n",
       "      <td>9</td>\n",
       "      <td>Divorced</td>\n",
       "      <td>Handlers-cleaners</td>\n",
       "      <td>Not-in-family</td>\n",
       "      <td>White</td>\n",
       "      <td>Male</td>\n",
       "      <td>0</td>\n",
       "      <td>0</td>\n",
       "      <td>40</td>\n",
       "      <td>United-States</td>\n",
       "      <td>&lt;=50K</td>\n",
       "    </tr>\n",
       "    <tr>\n",
       "      <th>3</th>\n",
       "      <td>53</td>\n",
       "      <td>Private</td>\n",
       "      <td>234721</td>\n",
       "      <td>11th</td>\n",
       "      <td>7</td>\n",
       "      <td>Married-civ-spouse</td>\n",
       "      <td>Handlers-cleaners</td>\n",
       "      <td>Husband</td>\n",
       "      <td>Black</td>\n",
       "      <td>Male</td>\n",
       "      <td>0</td>\n",
       "      <td>0</td>\n",
       "      <td>40</td>\n",
       "      <td>United-States</td>\n",
       "      <td>&lt;=50K</td>\n",
       "    </tr>\n",
       "    <tr>\n",
       "      <th>4</th>\n",
       "      <td>28</td>\n",
       "      <td>Private</td>\n",
       "      <td>338409</td>\n",
       "      <td>Bachelors</td>\n",
       "      <td>13</td>\n",
       "      <td>Married-civ-spouse</td>\n",
       "      <td>Prof-specialty</td>\n",
       "      <td>Wife</td>\n",
       "      <td>Black</td>\n",
       "      <td>Female</td>\n",
       "      <td>0</td>\n",
       "      <td>0</td>\n",
       "      <td>40</td>\n",
       "      <td>Cuba</td>\n",
       "      <td>&lt;=50K</td>\n",
       "    </tr>\n",
       "    <tr>\n",
       "      <th>5</th>\n",
       "      <td>37</td>\n",
       "      <td>Private</td>\n",
       "      <td>284582</td>\n",
       "      <td>Masters</td>\n",
       "      <td>14</td>\n",
       "      <td>Married-civ-spouse</td>\n",
       "      <td>Exec-managerial</td>\n",
       "      <td>Wife</td>\n",
       "      <td>White</td>\n",
       "      <td>Female</td>\n",
       "      <td>0</td>\n",
       "      <td>0</td>\n",
       "      <td>40</td>\n",
       "      <td>United-States</td>\n",
       "      <td>&lt;=50K</td>\n",
       "    </tr>\n",
       "    <tr>\n",
       "      <th>6</th>\n",
       "      <td>49</td>\n",
       "      <td>Private</td>\n",
       "      <td>160187</td>\n",
       "      <td>9th</td>\n",
       "      <td>5</td>\n",
       "      <td>Married-spouse-absent</td>\n",
       "      <td>Other-service</td>\n",
       "      <td>Not-in-family</td>\n",
       "      <td>Black</td>\n",
       "      <td>Female</td>\n",
       "      <td>0</td>\n",
       "      <td>0</td>\n",
       "      <td>16</td>\n",
       "      <td>Jamaica</td>\n",
       "      <td>&lt;=50K</td>\n",
       "    </tr>\n",
       "  </tbody>\n",
       "</table>\n",
       "</div>"
      ],
      "text/plain": [
       "   age         workclass  fnlwgt  education  education-num  \\\n",
       "0   39         State-gov   77516  Bachelors             13   \n",
       "1   50  Self-emp-not-inc   83311  Bachelors             13   \n",
       "2   38           Private  215646    HS-grad              9   \n",
       "3   53           Private  234721       11th              7   \n",
       "4   28           Private  338409  Bachelors             13   \n",
       "5   37           Private  284582    Masters             14   \n",
       "6   49           Private  160187        9th              5   \n",
       "\n",
       "          marital-status         occupation   relationship   race     sex  \\\n",
       "0          Never-married       Adm-clerical  Not-in-family  White    Male   \n",
       "1     Married-civ-spouse    Exec-managerial        Husband  White    Male   \n",
       "2               Divorced  Handlers-cleaners  Not-in-family  White    Male   \n",
       "3     Married-civ-spouse  Handlers-cleaners        Husband  Black    Male   \n",
       "4     Married-civ-spouse     Prof-specialty           Wife  Black  Female   \n",
       "5     Married-civ-spouse    Exec-managerial           Wife  White  Female   \n",
       "6  Married-spouse-absent      Other-service  Not-in-family  Black  Female   \n",
       "\n",
       "   capital-gain  capital-loss  hours-per-week native-country salary  \n",
       "0          2174             0              40  United-States  <=50K  \n",
       "1             0             0              13  United-States  <=50K  \n",
       "2             0             0              40  United-States  <=50K  \n",
       "3             0             0              40  United-States  <=50K  \n",
       "4             0             0              40           Cuba  <=50K  \n",
       "5             0             0              40  United-States  <=50K  \n",
       "6             0             0              16        Jamaica  <=50K  "
      ]
     },
     "execution_count": 20,
     "metadata": {},
     "output_type": "execute_result"
    }
   ],
   "source": [
    "df.head(7)"
   ]
  },
  {
   "cell_type": "code",
   "execution_count": null,
   "id": "hybrid-adrian",
   "metadata": {},
   "outputs": [],
   "source": []
  },
  {
   "cell_type": "code",
   "execution_count": null,
   "id": "english-powder",
   "metadata": {},
   "outputs": [],
   "source": []
  },
  {
   "cell_type": "code",
   "execution_count": 35,
   "id": "opening-charlotte",
   "metadata": {},
   "outputs": [],
   "source": [
    "# How many of each race are represented in this dataset? This should be a Pandas series with race names as the index labels.\n",
    "race_count = df['race'].value_counts()"
   ]
  },
  {
   "cell_type": "code",
   "execution_count": null,
   "id": "sweet-administrator",
   "metadata": {},
   "outputs": [],
   "source": []
  },
  {
   "cell_type": "code",
   "execution_count": null,
   "id": "fifty-shadow",
   "metadata": {},
   "outputs": [],
   "source": []
  },
  {
   "cell_type": "code",
   "execution_count": 47,
   "id": "expensive-parcel",
   "metadata": {},
   "outputs": [],
   "source": [
    "# What is the average age of men?\n",
    "average_age_men = round(df['age'].mean(), 1)"
   ]
  },
  {
   "cell_type": "code",
   "execution_count": null,
   "id": "aware-emphasis",
   "metadata": {},
   "outputs": [],
   "source": []
  },
  {
   "cell_type": "code",
   "execution_count": null,
   "id": "corrected-anchor",
   "metadata": {},
   "outputs": [],
   "source": []
  },
  {
   "cell_type": "code",
   "execution_count": 73,
   "id": "sticky-stock",
   "metadata": {},
   "outputs": [],
   "source": [
    "# What is the percentage of people who have a Bachelor's degree?\n",
    "percentage_bachelors = df['education'].value_counts(normalize=True).mul(100).round(1).loc['Bachelors']"
   ]
  },
  {
   "cell_type": "code",
   "execution_count": null,
   "id": "informative-sussex",
   "metadata": {},
   "outputs": [],
   "source": []
  },
  {
   "cell_type": "code",
   "execution_count": null,
   "id": "inappropriate-radiation",
   "metadata": {},
   "outputs": [],
   "source": []
  },
  {
   "cell_type": "code",
   "execution_count": null,
   "id": "reported-chambers",
   "metadata": {},
   "outputs": [],
   "source": [
    "# What percentage of people with advanced education (`Bachelors`, `Masters`, or `Doctorate`) make more than 50K?\n",
    "# What percentage of people without advanced education make more than 50K?"
   ]
  },
  {
   "cell_type": "code",
   "execution_count": 38,
   "id": "grateful-adrian",
   "metadata": {},
   "outputs": [],
   "source": [
    "# with and without `Bachelors`, `Masters`, or `Doctorate`"
   ]
  },
  {
   "cell_type": "code",
   "execution_count": null,
   "id": "valuable-provider",
   "metadata": {},
   "outputs": [],
   "source": []
  },
  {
   "cell_type": "code",
   "execution_count": 128,
   "id": "equipped-engine",
   "metadata": {},
   "outputs": [],
   "source": [
    "edu_sal = df[['education', 'salary']]"
   ]
  },
  {
   "cell_type": "code",
   "execution_count": 118,
   "id": "designed-malpractice",
   "metadata": {},
   "outputs": [],
   "source": [
    "higher_education = edu_sal[(edu_sal['education'] == 'Bachelors') | \n",
    "                           (edu_sal['education'] == 'Masters') | \n",
    "                           (edu_sal['education'] == 'Doctorate')]"
   ]
  },
  {
   "cell_type": "code",
   "execution_count": 126,
   "id": "running-centre",
   "metadata": {},
   "outputs": [],
   "source": [
    "lower_education = edu_sal[(edu_sal['education'] != 'Bachelors') & \n",
    "                          (edu_sal['education'] != 'Masters') & \n",
    "                          (edu_sal['education'] != 'Doctorate')]"
   ]
  },
  {
   "cell_type": "code",
   "execution_count": 123,
   "id": "revised-accident",
   "metadata": {},
   "outputs": [],
   "source": [
    "# percentage with salary >50K\n",
    "higher_education_rich = higher_education['salary'].value_counts(normalize=True).mul(100).round(1).loc['>50K']\n",
    "lower_education_rich = lower_education['salary'].value_counts(normalize=True).mul(100).round(1).loc['>50K']"
   ]
  },
  {
   "cell_type": "code",
   "execution_count": null,
   "id": "federal-bargain",
   "metadata": {},
   "outputs": [],
   "source": []
  },
  {
   "cell_type": "code",
   "execution_count": null,
   "id": "harmful-words",
   "metadata": {},
   "outputs": [],
   "source": []
  },
  {
   "cell_type": "code",
   "execution_count": 144,
   "id": "central-organizer",
   "metadata": {},
   "outputs": [],
   "source": [
    "# What is the minimum number of hours a person works per week (hours-per-week feature)?\n",
    "min_work_hours = df['hours-per-week'].min()"
   ]
  },
  {
   "cell_type": "code",
   "execution_count": null,
   "id": "aerial-mailman",
   "metadata": {},
   "outputs": [],
   "source": []
  },
  {
   "cell_type": "code",
   "execution_count": null,
   "id": "corresponding-slovenia",
   "metadata": {},
   "outputs": [],
   "source": []
  },
  {
   "cell_type": "code",
   "execution_count": 277,
   "id": "corrected-killing",
   "metadata": {},
   "outputs": [],
   "source": [
    "# What percentage of the people who work the minimum number of hours per week have a salary of >50K?\n",
    "num_min_workers = df[['salary', 'hours-per-week']][df['hours-per-week'] == min_work_hours]\n",
    "rich_percentage = num_min_workers['salary'].value_counts(normalize=True).mul(100).round(1).loc['>50K']"
   ]
  },
  {
   "cell_type": "code",
   "execution_count": null,
   "id": "formed-manitoba",
   "metadata": {},
   "outputs": [],
   "source": []
  },
  {
   "cell_type": "code",
   "execution_count": null,
   "id": "hawaiian-persian",
   "metadata": {},
   "outputs": [],
   "source": []
  },
  {
   "cell_type": "code",
   "execution_count": 275,
   "id": "eight-librarian",
   "metadata": {},
   "outputs": [],
   "source": [
    "# What country has the highest percentage of people that earn >50K?"
   ]
  },
  {
   "cell_type": "code",
   "execution_count": 276,
   "id": "pleasant-porter",
   "metadata": {},
   "outputs": [],
   "source": [
    "rich_ratio = df.groupby('native-country')['salary'].apply(lambda x: x.str.contains('>').sum() / x.str.contains('50').sum() * 100)"
   ]
  },
  {
   "cell_type": "code",
   "execution_count": 272,
   "id": "aware-alias",
   "metadata": {},
   "outputs": [],
   "source": [
    "rich_country = rich_ratio[rich_ratio == rich_ratio.max()]"
   ]
  },
  {
   "cell_type": "code",
   "execution_count": 273,
   "id": "narrative-fluid",
   "metadata": {},
   "outputs": [],
   "source": [
    "highest_earning_country = rich_country.index[0]"
   ]
  },
  {
   "cell_type": "code",
   "execution_count": 274,
   "id": "built-honor",
   "metadata": {},
   "outputs": [],
   "source": [
    "highest_earning_country_percentage = round(rich_country[0], 1)"
   ]
  },
  {
   "cell_type": "code",
   "execution_count": null,
   "id": "lucky-consequence",
   "metadata": {},
   "outputs": [],
   "source": []
  },
  {
   "cell_type": "code",
   "execution_count": null,
   "id": "palestinian-consumption",
   "metadata": {},
   "outputs": [],
   "source": []
  },
  {
   "cell_type": "code",
   "execution_count": 244,
   "id": "distant-forty",
   "metadata": {},
   "outputs": [],
   "source": [
    "# Identify the most popular occupation for those who earn >50K in India."
   ]
  },
  {
   "cell_type": "code",
   "execution_count": 245,
   "id": "tamil-queen",
   "metadata": {},
   "outputs": [],
   "source": [
    "# ind = df[(df['native-country'] == 'India')]"
   ]
  },
  {
   "cell_type": "code",
   "execution_count": 246,
   "id": "municipal-valentine",
   "metadata": {},
   "outputs": [],
   "source": [
    "rich_ind = df[(df['native-country'] == 'India') & (df['salary'] == '>50K')]"
   ]
  },
  {
   "cell_type": "code",
   "execution_count": 270,
   "id": "aggressive-packet",
   "metadata": {},
   "outputs": [],
   "source": [
    "top_IN_occupation = rich_ind['occupation'].value_counts().index[0]"
   ]
  },
  {
   "cell_type": "code",
   "execution_count": null,
   "id": "north-vancouver",
   "metadata": {},
   "outputs": [],
   "source": [
    "\n"
   ]
  },
  {
   "cell_type": "code",
   "execution_count": 269,
   "id": "comparable-workshop",
   "metadata": {},
   "outputs": [],
   "source": [
    "# alt sol\n",
    "# go = df.groupby('native-country')['occupation'].value_counts()['India']\n",
    "# top_IN_occupation = go.index[0]"
   ]
  },
  {
   "cell_type": "code",
   "execution_count": null,
   "id": "opposite-enhancement",
   "metadata": {},
   "outputs": [],
   "source": []
  }
 ],
 "metadata": {
  "kernelspec": {
   "display_name": "Python 3",
   "language": "python",
   "name": "python3"
  },
  "language_info": {
   "codemirror_mode": {
    "name": "ipython",
    "version": 3
   },
   "file_extension": ".py",
   "mimetype": "text/x-python",
   "name": "python",
   "nbconvert_exporter": "python",
   "pygments_lexer": "ipython3",
   "version": "3.8.5"
  }
 },
 "nbformat": 4,
 "nbformat_minor": 5
}
