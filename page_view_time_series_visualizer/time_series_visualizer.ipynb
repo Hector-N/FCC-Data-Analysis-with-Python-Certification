{
 "cells": [
  {
   "cell_type": "code",
   "execution_count": 1,
   "id": "bizarre-indian",
   "metadata": {},
   "outputs": [],
   "source": [
    "import pandas as pd\n",
    "import seaborn as sns\n",
    "from matplotlib import pyplot as plt\n",
    "from operator import itemgetter"
   ]
  },
  {
   "cell_type": "code",
   "execution_count": 2,
   "id": "absolute-grove",
   "metadata": {},
   "outputs": [],
   "source": [
    "%matplotlib inline"
   ]
  },
  {
   "cell_type": "code",
   "execution_count": null,
   "id": "organized-silence",
   "metadata": {},
   "outputs": [],
   "source": []
  },
  {
   "cell_type": "markdown",
   "id": "complicated-luxury",
   "metadata": {},
   "source": [
    "## vid 14 0 bar plot example"
   ]
  },
  {
   "cell_type": "code",
   "execution_count": null,
   "id": "cubic-turkey",
   "metadata": {},
   "outputs": [],
   "source": []
  },
  {
   "cell_type": "markdown",
   "id": "traditional-insured",
   "metadata": {},
   "source": [
    "## Read data"
   ]
  },
  {
   "cell_type": "code",
   "execution_count": 3,
   "id": "starting-kitchen",
   "metadata": {},
   "outputs": [
    {
     "data": {
      "text/html": [
       "<div>\n",
       "<style scoped>\n",
       "    .dataframe tbody tr th:only-of-type {\n",
       "        vertical-align: middle;\n",
       "    }\n",
       "\n",
       "    .dataframe tbody tr th {\n",
       "        vertical-align: top;\n",
       "    }\n",
       "\n",
       "    .dataframe thead th {\n",
       "        text-align: right;\n",
       "    }\n",
       "</style>\n",
       "<table border=\"1\" class=\"dataframe\">\n",
       "  <thead>\n",
       "    <tr style=\"text-align: right;\">\n",
       "      <th></th>\n",
       "      <th>value</th>\n",
       "    </tr>\n",
       "    <tr>\n",
       "      <th>date</th>\n",
       "      <th></th>\n",
       "    </tr>\n",
       "  </thead>\n",
       "  <tbody>\n",
       "    <tr>\n",
       "      <th>2016-05-09</th>\n",
       "      <td>1201</td>\n",
       "    </tr>\n",
       "    <tr>\n",
       "      <th>2016-05-10</th>\n",
       "      <td>2329</td>\n",
       "    </tr>\n",
       "    <tr>\n",
       "      <th>2016-05-11</th>\n",
       "      <td>1716</td>\n",
       "    </tr>\n",
       "    <tr>\n",
       "      <th>2016-05-12</th>\n",
       "      <td>10539</td>\n",
       "    </tr>\n",
       "    <tr>\n",
       "      <th>2016-05-13</th>\n",
       "      <td>6933</td>\n",
       "    </tr>\n",
       "    <tr>\n",
       "      <th>...</th>\n",
       "      <td>...</td>\n",
       "    </tr>\n",
       "    <tr>\n",
       "      <th>2019-11-29</th>\n",
       "      <td>171584</td>\n",
       "    </tr>\n",
       "    <tr>\n",
       "      <th>2019-11-30</th>\n",
       "      <td>141161</td>\n",
       "    </tr>\n",
       "    <tr>\n",
       "      <th>2019-12-01</th>\n",
       "      <td>142918</td>\n",
       "    </tr>\n",
       "    <tr>\n",
       "      <th>2019-12-02</th>\n",
       "      <td>220144</td>\n",
       "    </tr>\n",
       "    <tr>\n",
       "      <th>2019-12-03</th>\n",
       "      <td>158549</td>\n",
       "    </tr>\n",
       "  </tbody>\n",
       "</table>\n",
       "<p>1304 rows × 1 columns</p>\n",
       "</div>"
      ],
      "text/plain": [
       "             value\n",
       "date              \n",
       "2016-05-09    1201\n",
       "2016-05-10    2329\n",
       "2016-05-11    1716\n",
       "2016-05-12   10539\n",
       "2016-05-13    6933\n",
       "...            ...\n",
       "2019-11-29  171584\n",
       "2019-11-30  141161\n",
       "2019-12-01  142918\n",
       "2019-12-02  220144\n",
       "2019-12-03  158549\n",
       "\n",
       "[1304 rows x 1 columns]"
      ]
     },
     "execution_count": 3,
     "metadata": {},
     "output_type": "execute_result"
    }
   ],
   "source": [
    "views = pd.read_csv('fcc-forum-pageviews.csv', parse_dates=True, index_col='date')\n",
    "views"
   ]
  },
  {
   "cell_type": "code",
   "execution_count": 4,
   "id": "varying-delay",
   "metadata": {},
   "outputs": [],
   "source": [
    "# views.median()"
   ]
  },
  {
   "cell_type": "code",
   "execution_count": 5,
   "id": "naval-doctrine",
   "metadata": {},
   "outputs": [],
   "source": [
    "# views.value.quantile(0.5)"
   ]
  },
  {
   "cell_type": "code",
   "execution_count": 6,
   "id": "independent-sunday",
   "metadata": {},
   "outputs": [],
   "source": [
    "# views.value.mean().round(1)"
   ]
  },
  {
   "cell_type": "code",
   "execution_count": 7,
   "id": "vietnamese-tender",
   "metadata": {},
   "outputs": [
    {
     "data": {
      "text/plain": [
       "177613.075"
      ]
     },
     "execution_count": 7,
     "metadata": {},
     "output_type": "execute_result"
    }
   ],
   "source": [
    "q_975 = views.value.quantile(0.975)\n",
    "q_975"
   ]
  },
  {
   "cell_type": "code",
   "execution_count": 8,
   "id": "emotional-might",
   "metadata": {
    "scrolled": true
   },
   "outputs": [
    {
     "data": {
      "text/plain": [
       "17876.4"
      ]
     },
     "execution_count": 8,
     "metadata": {},
     "output_type": "execute_result"
    }
   ],
   "source": [
    "q_025 = views.value.quantile(0.025)\n",
    "q_025"
   ]
  },
  {
   "cell_type": "code",
   "execution_count": 9,
   "id": "mediterranean-spine",
   "metadata": {},
   "outputs": [],
   "source": [
    "filt_outstanding = (views.value <= q_975) & (views.value >= q_025)"
   ]
  },
  {
   "cell_type": "code",
   "execution_count": 10,
   "id": "drawn-agriculture",
   "metadata": {},
   "outputs": [
    {
     "data": {
      "text/html": [
       "<div>\n",
       "<style scoped>\n",
       "    .dataframe tbody tr th:only-of-type {\n",
       "        vertical-align: middle;\n",
       "    }\n",
       "\n",
       "    .dataframe tbody tr th {\n",
       "        vertical-align: top;\n",
       "    }\n",
       "\n",
       "    .dataframe thead th {\n",
       "        text-align: right;\n",
       "    }\n",
       "</style>\n",
       "<table border=\"1\" class=\"dataframe\">\n",
       "  <thead>\n",
       "    <tr style=\"text-align: right;\">\n",
       "      <th></th>\n",
       "      <th>value</th>\n",
       "    </tr>\n",
       "    <tr>\n",
       "      <th>date</th>\n",
       "      <th></th>\n",
       "    </tr>\n",
       "  </thead>\n",
       "  <tbody>\n",
       "    <tr>\n",
       "      <th>2016-05-19</th>\n",
       "      <td>19736</td>\n",
       "    </tr>\n",
       "    <tr>\n",
       "      <th>2016-05-26</th>\n",
       "      <td>18060</td>\n",
       "    </tr>\n",
       "    <tr>\n",
       "      <th>2016-05-27</th>\n",
       "      <td>19997</td>\n",
       "    </tr>\n",
       "    <tr>\n",
       "      <th>2016-05-28</th>\n",
       "      <td>19044</td>\n",
       "    </tr>\n",
       "    <tr>\n",
       "      <th>2016-05-29</th>\n",
       "      <td>20325</td>\n",
       "    </tr>\n",
       "    <tr>\n",
       "      <th>...</th>\n",
       "      <td>...</td>\n",
       "    </tr>\n",
       "    <tr>\n",
       "      <th>2019-11-24</th>\n",
       "      <td>138875</td>\n",
       "    </tr>\n",
       "    <tr>\n",
       "      <th>2019-11-29</th>\n",
       "      <td>171584</td>\n",
       "    </tr>\n",
       "    <tr>\n",
       "      <th>2019-11-30</th>\n",
       "      <td>141161</td>\n",
       "    </tr>\n",
       "    <tr>\n",
       "      <th>2019-12-01</th>\n",
       "      <td>142918</td>\n",
       "    </tr>\n",
       "    <tr>\n",
       "      <th>2019-12-03</th>\n",
       "      <td>158549</td>\n",
       "    </tr>\n",
       "  </tbody>\n",
       "</table>\n",
       "<p>1238 rows × 1 columns</p>\n",
       "</div>"
      ],
      "text/plain": [
       "             value\n",
       "date              \n",
       "2016-05-19   19736\n",
       "2016-05-26   18060\n",
       "2016-05-27   19997\n",
       "2016-05-28   19044\n",
       "2016-05-29   20325\n",
       "...            ...\n",
       "2019-11-24  138875\n",
       "2019-11-29  171584\n",
       "2019-11-30  141161\n",
       "2019-12-01  142918\n",
       "2019-12-03  158549\n",
       "\n",
       "[1238 rows x 1 columns]"
      ]
     },
     "execution_count": 10,
     "metadata": {},
     "output_type": "execute_result"
    }
   ],
   "source": [
    "views_cleaned = views.loc[filt_outstanding, :].copy()\n",
    "views_cleaned"
   ]
  },
  {
   "cell_type": "code",
   "execution_count": null,
   "id": "recent-madrid",
   "metadata": {},
   "outputs": [],
   "source": []
  },
  {
   "cell_type": "markdown",
   "id": "minus-testing",
   "metadata": {},
   "source": [
    "## draw_line_plot\n"
   ]
  },
  {
   "cell_type": "code",
   "execution_count": 11,
   "id": "dominican-authorization",
   "metadata": {},
   "outputs": [],
   "source": [
    "def draw_line_plot():\n",
    "    # Draw line plot\n",
    "\n",
    "    fig = plt.figure()\n",
    "    \n",
    "    # plot title\n",
    "    plt.title('Daily freeCodeCamp Forum Page Views 5/2016-12/2019')\n",
    "\n",
    "    # axes labels\n",
    "    plt.xlabel('Date')\n",
    "    plt.ylabel('Page Views')\n",
    "\n",
    "    # data\n",
    "    x = views_cleaned.index\n",
    "    y = views_cleaned.value\n",
    "\n",
    "    plt.plot(x, y)\n",
    "    # plt.show()\n",
    "    # plt.savefig('line_plot.png')\n",
    "\n",
    "    # Save image and return fig (don't change this part)\n",
    "    fig.savefig('line_plot.png')\n",
    "    return fig"
   ]
  },
  {
   "cell_type": "code",
   "execution_count": 12,
   "id": "acoustic-therapy",
   "metadata": {},
   "outputs": [
    {
     "data": {
      "image/png": "[encoded data removed]",
      "text/plain": [
       "<Figure size 432x288 with 1 Axes>"
      ]
     },
     "metadata": {
      "needs_background": "light"
     },
     "output_type": "display_data"
    }
   ],
   "source": [
    "fi = draw_line_plot()"
   ]
  },
  {
   "cell_type": "code",
   "execution_count": 13,
   "id": "arbitrary-faith",
   "metadata": {},
   "outputs": [],
   "source": [
    "# fi?\n",
    "\n",
    "# fi.axes?\n",
    "\n",
    "# len(fi.axes)\n",
    "\n",
    "# fi.axes[0]\n",
    "\n",
    "# fi.axes[0].get_title()"
   ]
  },
  {
   "cell_type": "code",
   "execution_count": null,
   "id": "israeli-found",
   "metadata": {},
   "outputs": [],
   "source": []
  },
  {
   "cell_type": "markdown",
   "id": "fabulous-coalition",
   "metadata": {},
   "source": [
    "## draw_bar_plot"
   ]
  },
  {
   "cell_type": "code",
   "execution_count": 14,
   "id": "suited-center",
   "metadata": {},
   "outputs": [],
   "source": [
    "# show average daily page views for each month grouped by year\n",
    "# legend should show month labels and have a title of \"Months\"\n",
    "# On the chart, the label on the x axis should be \"Years\"\n",
    "# and the label on the y axis should be \"Average Page Views\"."
   ]
  },
  {
   "cell_type": "code",
   "execution_count": 15,
   "id": "incorporate-bennett",
   "metadata": {},
   "outputs": [],
   "source": [
    "def draw_bar_plot():\n",
    "    # Copy and modify data for monthly bar plot\n",
    "    #     df_bar = df.copy()\n",
    "    df_bar = views_cleaned.copy()\n",
    "\n",
    "    # add year\n",
    "    df_bar['year'] = df_bar.index.year\n",
    "    df_bar.year.value_counts().sort_index()\n",
    "\n",
    "    # add month name\n",
    "    df_bar['month'] = df_bar.index.month_name()\n",
    "    df_bar.month.value_counts(normalize=True).mul(100).round(1)\n",
    "\n",
    "    # add month index\n",
    "    df_bar['month_index'] = df_bar.index.month\n",
    "\n",
    "    # get sorted months\n",
    "    month_gr = df_bar.groupby('month')\n",
    "    months_indexes = month_gr.nth(0)\n",
    "    months_indexes['combo'] = tuple(zip(months_indexes.index, months_indexes.month_index))\n",
    "    month_tuples = list(months_indexes.combo)\n",
    "    months_ordered = sorted(month_tuples, key=lambda x: x[1])\n",
    "    months_ordered = [month for month, index in months_ordered]\n",
    "    # months_ordered = ['January', 'February', 'March', 'April', 'May', 'June', 'July', 'August', 'September', 'October', 'November', 'December']\n",
    "\n",
    "    # define month as categorical data; Specify logical ordering of the category ---- ordered categories\n",
    "    month_type = pd.api.types.CategoricalDtype(categories=months_ordered, ordered=True)\n",
    "    df_bar['month'] = df_bar.month.astype(month_type)\n",
    "\n",
    "    # data for bar plot\n",
    "    # todo: make pivot_table instead of this lines\n",
    "    df_bar.drop(columns='month_index', inplace=True)\n",
    "    df_bar_gr = df_bar.groupby(['year', 'month'])\n",
    "    mean = df_bar_gr.mean().sort_index()\n",
    "    data_for_plot = mean.unstack()\n",
    "    data_for_plot.columns = months_ordered\n",
    "\n",
    "    # Draw bar plot\n",
    "    ax = data_for_plot.plot(kind='bar', figsize=(8, 6), xlabel='Years', ylabel='Average Page Views', legend=True)\n",
    "    ax.legend(title='Months')\n",
    "    fig = ax.get_figure()\n",
    "\n",
    "    # Save image and return fig (don't change this part)\n",
    "    # todo: issue with saving figure\n",
    "    fig.savefig('bar_plot.png', dpi=300, transparent=False)\n",
    "    return fig"
   ]
  },
  {
   "cell_type": "code",
   "execution_count": 16,
   "id": "local-motel",
   "metadata": {},
   "outputs": [
    {
     "data": {
      "image/png": "[encoded data removed]",
      "text/plain": [
       "<Figure size 576x432 with 1 Axes>"
      ]
     },
     "metadata": {
      "needs_background": "light"
     },
     "output_type": "display_data"
    }
   ],
   "source": [
    "fig = draw_bar_plot()"
   ]
  },
  {
   "cell_type": "code",
   "execution_count": null,
   "id": "aggregate-margin",
   "metadata": {},
   "outputs": [],
   "source": []
  },
  {
   "cell_type": "markdown",
   "id": "homeless-friendly",
   "metadata": {},
   "source": [
    "## Box Plot"
   ]
  },
  {
   "cell_type": "code",
   "execution_count": null,
   "id": "elder-action",
   "metadata": {},
   "outputs": [],
   "source": [
    "def draw_box_plot():\n",
    "    # Prepare data for box plots (this part is done!)\n",
    "    df_box = df.copy()\n",
    "    df_box.reset_index(inplace=True)\n",
    "    df_box['year'] = [d.year for d in df_box.date]\n",
    "    df_box['month'] = [d.strftime('%b') for d in df_box.date]\n",
    "\n",
    "    # Draw box plots (using Seaborn)\n",
    "\n",
    "\n",
    "\n",
    "\n",
    "\n",
    "    # Save image and return fig (don't change this part)\n",
    "    fig.savefig('box_plot.png')\n",
    "    return fig"
   ]
  },
  {
   "cell_type": "code",
   "execution_count": null,
   "id": "local-volleyball",
   "metadata": {},
   "outputs": [],
   "source": []
  },
  {
   "cell_type": "code",
   "execution_count": 17,
   "id": "enhanced-simpson",
   "metadata": {},
   "outputs": [
    {
     "data": {
      "text/plain": [
       "value    int64\n",
       "dtype: object"
      ]
     },
     "execution_count": 17,
     "metadata": {},
     "output_type": "execute_result"
    }
   ],
   "source": [
    "df_box = views_cleaned.copy()\n",
    "df_box.dtypes"
   ]
  },
  {
   "cell_type": "code",
   "execution_count": null,
   "id": "frequent-tours",
   "metadata": {},
   "outputs": [],
   "source": [
    "df_box.index.dtype"
   ]
  },
  {
   "cell_type": "code",
   "execution_count": null,
   "id": "excited-solid",
   "metadata": {},
   "outputs": [],
   "source": []
  },
  {
   "cell_type": "code",
   "execution_count": null,
   "id": "ranking-entrance",
   "metadata": {},
   "outputs": [],
   "source": [
    "df_box.index[0]"
   ]
  },
  {
   "cell_type": "code",
   "execution_count": null,
   "id": "short-french",
   "metadata": {},
   "outputs": [],
   "source": [
    "df_box.index[0].year"
   ]
  },
  {
   "cell_type": "code",
   "execution_count": null,
   "id": "three-lesson",
   "metadata": {},
   "outputs": [],
   "source": [
    "df_box.index.year"
   ]
  },
  {
   "cell_type": "code",
   "execution_count": null,
   "id": "grateful-hobby",
   "metadata": {},
   "outputs": [],
   "source": [
    "df_box.index"
   ]
  },
  {
   "cell_type": "code",
   "execution_count": null,
   "id": "colonial-liechtenstein",
   "metadata": {},
   "outputs": [],
   "source": [
    "dir(df_box.index)"
   ]
  },
  {
   "cell_type": "code",
   "execution_count": null,
   "id": "considered-toolbox",
   "metadata": {},
   "outputs": [],
   "source": [
    "df_box.index?"
   ]
  },
  {
   "cell_type": "code",
   "execution_count": null,
   "id": "filled-point",
   "metadata": {},
   "outputs": [],
   "source": []
  },
  {
   "cell_type": "code",
   "execution_count": null,
   "id": "official-syracuse",
   "metadata": {},
   "outputs": [],
   "source": [
    "df_box.reset_index(inplace=True)"
   ]
  },
  {
   "cell_type": "code",
   "execution_count": null,
   "id": "featured-washer",
   "metadata": {},
   "outputs": [],
   "source": [
    "df_box.dtypes"
   ]
  },
  {
   "cell_type": "code",
   "execution_count": null,
   "id": "packed-empire",
   "metadata": {},
   "outputs": [],
   "source": [
    "df_box.date.dtype"
   ]
  },
  {
   "cell_type": "code",
   "execution_count": null,
   "id": "subject-heading",
   "metadata": {},
   "outputs": [],
   "source": []
  },
  {
   "cell_type": "code",
   "execution_count": null,
   "id": "liberal-joyce",
   "metadata": {},
   "outputs": [],
   "source": [
    "df_box.date[0]"
   ]
  },
  {
   "cell_type": "code",
   "execution_count": null,
   "id": "first-procurement",
   "metadata": {},
   "outputs": [],
   "source": [
    "df_box.date[0].year"
   ]
  },
  {
   "cell_type": "code",
   "execution_count": null,
   "id": "three-danger",
   "metadata": {},
   "outputs": [],
   "source": [
    "# todo: WHY CAN'T APPLY VECTORIZED OPERATION HERE???\n",
    "df_box.date.year"
   ]
  },
  {
   "cell_type": "code",
   "execution_count": null,
   "id": "satisfied-knitting",
   "metadata": {},
   "outputs": [],
   "source": [
    "df_box.date"
   ]
  },
  {
   "cell_type": "code",
   "execution_count": null,
   "id": "oriental-fourth",
   "metadata": {},
   "outputs": [],
   "source": [
    "df_box.loc[:, 'date']"
   ]
  },
  {
   "cell_type": "code",
   "execution_count": null,
   "id": "headed-musical",
   "metadata": {},
   "outputs": [],
   "source": [
    "dir(df_box.loc[:, 'date'])"
   ]
  },
  {
   "cell_type": "code",
   "execution_count": null,
   "id": "detailed-focus",
   "metadata": {},
   "outputs": [],
   "source": [
    "df_box.date?"
   ]
  },
  {
   "cell_type": "code",
   "execution_count": null,
   "id": "polish-lodging",
   "metadata": {},
   "outputs": [],
   "source": [
    "(('======' * 10) + '\\n')"
   ]
  },
  {
   "cell_type": "code",
   "execution_count": null,
   "id": "governmental-chicago",
   "metadata": {},
   "outputs": [],
   "source": []
  },
  {
   "cell_type": "code",
   "execution_count": null,
   "id": "quarterly-trail",
   "metadata": {},
   "outputs": [],
   "source": []
  },
  {
   "cell_type": "markdown",
   "id": "sufficient-recycling",
   "metadata": {},
   "source": [
    "# data prepare BOX"
   ]
  },
  {
   "cell_type": "code",
   "execution_count": 49,
   "id": "therapeutic-defense",
   "metadata": {},
   "outputs": [
    {
     "data": {
      "text/html": [
       "<div>\n",
       "<style scoped>\n",
       "    .dataframe tbody tr th:only-of-type {\n",
       "        vertical-align: middle;\n",
       "    }\n",
       "\n",
       "    .dataframe tbody tr th {\n",
       "        vertical-align: top;\n",
       "    }\n",
       "\n",
       "    .dataframe thead th {\n",
       "        text-align: right;\n",
       "    }\n",
       "</style>\n",
       "<table border=\"1\" class=\"dataframe\">\n",
       "  <thead>\n",
       "    <tr style=\"text-align: right;\">\n",
       "      <th></th>\n",
       "      <th>Date</th>\n",
       "      <th>Page Views</th>\n",
       "      <th>Year</th>\n",
       "      <th>Month</th>\n",
       "    </tr>\n",
       "  </thead>\n",
       "  <tbody>\n",
       "    <tr>\n",
       "      <th>0</th>\n",
       "      <td>2016-05-19</td>\n",
       "      <td>19736</td>\n",
       "      <td>2016</td>\n",
       "      <td>May</td>\n",
       "    </tr>\n",
       "    <tr>\n",
       "      <th>1</th>\n",
       "      <td>2016-05-26</td>\n",
       "      <td>18060</td>\n",
       "      <td>2016</td>\n",
       "      <td>May</td>\n",
       "    </tr>\n",
       "    <tr>\n",
       "      <th>2</th>\n",
       "      <td>2016-05-27</td>\n",
       "      <td>19997</td>\n",
       "      <td>2016</td>\n",
       "      <td>May</td>\n",
       "    </tr>\n",
       "    <tr>\n",
       "      <th>3</th>\n",
       "      <td>2016-05-28</td>\n",
       "      <td>19044</td>\n",
       "      <td>2016</td>\n",
       "      <td>May</td>\n",
       "    </tr>\n",
       "    <tr>\n",
       "      <th>4</th>\n",
       "      <td>2016-05-29</td>\n",
       "      <td>20325</td>\n",
       "      <td>2016</td>\n",
       "      <td>May</td>\n",
       "    </tr>\n",
       "    <tr>\n",
       "      <th>5</th>\n",
       "      <td>2016-06-07</td>\n",
       "      <td>18335</td>\n",
       "      <td>2016</td>\n",
       "      <td>Jun</td>\n",
       "    </tr>\n",
       "    <tr>\n",
       "      <th>6</th>\n",
       "      <td>2016-06-08</td>\n",
       "      <td>18072</td>\n",
       "      <td>2016</td>\n",
       "      <td>Jun</td>\n",
       "    </tr>\n",
       "    <tr>\n",
       "      <th>7</th>\n",
       "      <td>2016-06-09</td>\n",
       "      <td>18139</td>\n",
       "      <td>2016</td>\n",
       "      <td>Jun</td>\n",
       "    </tr>\n",
       "  </tbody>\n",
       "</table>\n",
       "</div>"
      ],
      "text/plain": [
       "        Date  Page Views  Year Month\n",
       "0 2016-05-19       19736  2016   May\n",
       "1 2016-05-26       18060  2016   May\n",
       "2 2016-05-27       19997  2016   May\n",
       "3 2016-05-28       19044  2016   May\n",
       "4 2016-05-29       20325  2016   May\n",
       "5 2016-06-07       18335  2016   Jun\n",
       "6 2016-06-08       18072  2016   Jun\n",
       "7 2016-06-09       18139  2016   Jun"
      ]
     },
     "execution_count": 49,
     "metadata": {},
     "output_type": "execute_result"
    }
   ],
   "source": [
    "df_box = views_cleaned.copy()\n",
    "df_box = views_cleaned.copy()\n",
    "df_box.reset_index(inplace=True)\n",
    "df_box['year'] = [d.year for d in df_box.date]\n",
    "df_box['month'] = [d.strftime('%b') for d in df_box.date]\n",
    "\n",
    "df_box.rename({'month': 'Month', \n",
    "               'year': 'Year', \n",
    "               'value': 'Page Views', \n",
    "               'date': 'Date'}, axis=1, inplace=True)\n",
    "\n",
    "df_box.head(8)\n"
   ]
  },
  {
   "cell_type": "code",
   "execution_count": null,
   "id": "comfortable-minister",
   "metadata": {},
   "outputs": [],
   "source": []
  },
  {
   "cell_type": "markdown",
   "id": "cellular-resort",
   "metadata": {},
   "source": [
    "### Title: 'Year-wise Box Plot (Trend)'"
   ]
  },
  {
   "cell_type": "markdown",
   "id": "fallen-extension",
   "metadata": {},
   "source": [
    "###### X: 'Year'\n",
    "###### Y: 'Page Views'"
   ]
  },
  {
   "cell_type": "code",
   "execution_count": null,
   "id": "tribal-nepal",
   "metadata": {},
   "outputs": [],
   "source": [
    "# sns.boxplot(df_box.loc[:, 'date':'year'].groupby('year').mean())"
   ]
  },
  {
   "cell_type": "code",
   "execution_count": 51,
   "id": "dominant-router",
   "metadata": {},
   "outputs": [
    {
     "data": {
      "text/html": [
       "<div>\n",
       "<style scoped>\n",
       "    .dataframe tbody tr th:only-of-type {\n",
       "        vertical-align: middle;\n",
       "    }\n",
       "\n",
       "    .dataframe tbody tr th {\n",
       "        vertical-align: top;\n",
       "    }\n",
       "\n",
       "    .dataframe thead th {\n",
       "        text-align: right;\n",
       "    }\n",
       "</style>\n",
       "<table border=\"1\" class=\"dataframe\">\n",
       "  <thead>\n",
       "    <tr style=\"text-align: right;\">\n",
       "      <th></th>\n",
       "      <th>Page Views</th>\n",
       "      <th>Year</th>\n",
       "    </tr>\n",
       "  </thead>\n",
       "  <tbody>\n",
       "    <tr>\n",
       "      <th>0</th>\n",
       "      <td>19736</td>\n",
       "      <td>2016</td>\n",
       "    </tr>\n",
       "    <tr>\n",
       "      <th>1</th>\n",
       "      <td>18060</td>\n",
       "      <td>2016</td>\n",
       "    </tr>\n",
       "    <tr>\n",
       "      <th>2</th>\n",
       "      <td>19997</td>\n",
       "      <td>2016</td>\n",
       "    </tr>\n",
       "    <tr>\n",
       "      <th>3</th>\n",
       "      <td>19044</td>\n",
       "      <td>2016</td>\n",
       "    </tr>\n",
       "    <tr>\n",
       "      <th>4</th>\n",
       "      <td>20325</td>\n",
       "      <td>2016</td>\n",
       "    </tr>\n",
       "    <tr>\n",
       "      <th>...</th>\n",
       "      <td>...</td>\n",
       "      <td>...</td>\n",
       "    </tr>\n",
       "    <tr>\n",
       "      <th>1233</th>\n",
       "      <td>138875</td>\n",
       "      <td>2019</td>\n",
       "    </tr>\n",
       "    <tr>\n",
       "      <th>1234</th>\n",
       "      <td>171584</td>\n",
       "      <td>2019</td>\n",
       "    </tr>\n",
       "    <tr>\n",
       "      <th>1235</th>\n",
       "      <td>141161</td>\n",
       "      <td>2019</td>\n",
       "    </tr>\n",
       "    <tr>\n",
       "      <th>1236</th>\n",
       "      <td>142918</td>\n",
       "      <td>2019</td>\n",
       "    </tr>\n",
       "    <tr>\n",
       "      <th>1237</th>\n",
       "      <td>158549</td>\n",
       "      <td>2019</td>\n",
       "    </tr>\n",
       "  </tbody>\n",
       "</table>\n",
       "<p>1238 rows × 2 columns</p>\n",
       "</div>"
      ],
      "text/plain": [
       "      Page Views  Year\n",
       "0          19736  2016\n",
       "1          18060  2016\n",
       "2          19997  2016\n",
       "3          19044  2016\n",
       "4          20325  2016\n",
       "...          ...   ...\n",
       "1233      138875  2019\n",
       "1234      171584  2019\n",
       "1235      141161  2019\n",
       "1236      142918  2019\n",
       "1237      158549  2019\n",
       "\n",
       "[1238 rows x 2 columns]"
      ]
     },
     "execution_count": 51,
     "metadata": {},
     "output_type": "execute_result"
    }
   ],
   "source": [
    "# data = df_box.loc[:, 'date':'year'].groupby('year').mean()\n",
    "# data_1 = df_box.loc[:, 'date':'year']\n",
    "data_1 = df_box.loc[:, 'Page Views':'Year']\n",
    "data_1"
   ]
  },
  {
   "cell_type": "code",
   "execution_count": 52,
   "id": "varied-queen",
   "metadata": {},
   "outputs": [
    {
     "name": "stdout",
     "output_type": "stream",
     "text": [
      "<class 'pandas.core.frame.DataFrame'>\n",
      "RangeIndex: 1238 entries, 0 to 1237\n",
      "Data columns (total 2 columns):\n",
      " #   Column      Non-Null Count  Dtype\n",
      "---  ------      --------------  -----\n",
      " 0   Page Views  1238 non-null   int64\n",
      " 1   Year        1238 non-null   int64\n",
      "dtypes: int64(2)\n",
      "memory usage: 19.5 KB\n"
     ]
    }
   ],
   "source": [
    "data_1.info()"
   ]
  },
  {
   "cell_type": "code",
   "execution_count": 53,
   "id": "chronic-heart",
   "metadata": {},
   "outputs": [
    {
     "data": {
      "text/html": [
       "<div>\n",
       "<style scoped>\n",
       "    .dataframe tbody tr th:only-of-type {\n",
       "        vertical-align: middle;\n",
       "    }\n",
       "\n",
       "    .dataframe tbody tr th {\n",
       "        vertical-align: top;\n",
       "    }\n",
       "\n",
       "    .dataframe thead th {\n",
       "        text-align: right;\n",
       "    }\n",
       "</style>\n",
       "<table border=\"1\" class=\"dataframe\">\n",
       "  <thead>\n",
       "    <tr style=\"text-align: right;\">\n",
       "      <th></th>\n",
       "      <th>Page Views</th>\n",
       "      <th>Year</th>\n",
       "    </tr>\n",
       "  </thead>\n",
       "  <tbody>\n",
       "    <tr>\n",
       "      <th>count</th>\n",
       "      <td>1238.000000</td>\n",
       "      <td>1238.000000</td>\n",
       "    </tr>\n",
       "    <tr>\n",
       "      <th>mean</th>\n",
       "      <td>63060.147819</td>\n",
       "      <td>2017.621163</td>\n",
       "    </tr>\n",
       "    <tr>\n",
       "      <th>std</th>\n",
       "      <td>31674.626598</td>\n",
       "      <td>1.030389</td>\n",
       "    </tr>\n",
       "    <tr>\n",
       "      <th>min</th>\n",
       "      <td>18060.000000</td>\n",
       "      <td>2016.000000</td>\n",
       "    </tr>\n",
       "    <tr>\n",
       "      <th>25%</th>\n",
       "      <td>37244.250000</td>\n",
       "      <td>2017.000000</td>\n",
       "    </tr>\n",
       "    <tr>\n",
       "      <th>50%</th>\n",
       "      <td>57197.500000</td>\n",
       "      <td>2018.000000</td>\n",
       "    </tr>\n",
       "    <tr>\n",
       "      <th>75%</th>\n",
       "      <td>81646.500000</td>\n",
       "      <td>2018.000000</td>\n",
       "    </tr>\n",
       "    <tr>\n",
       "      <th>max</th>\n",
       "      <td>177588.000000</td>\n",
       "      <td>2019.000000</td>\n",
       "    </tr>\n",
       "  </tbody>\n",
       "</table>\n",
       "</div>"
      ],
      "text/plain": [
       "          Page Views         Year\n",
       "count    1238.000000  1238.000000\n",
       "mean    63060.147819  2017.621163\n",
       "std     31674.626598     1.030389\n",
       "min     18060.000000  2016.000000\n",
       "25%     37244.250000  2017.000000\n",
       "50%     57197.500000  2018.000000\n",
       "75%     81646.500000  2018.000000\n",
       "max    177588.000000  2019.000000"
      ]
     },
     "execution_count": 53,
     "metadata": {},
     "output_type": "execute_result"
    }
   ],
   "source": [
    "data_1.describe()"
   ]
  },
  {
   "cell_type": "code",
   "execution_count": 54,
   "id": "ruled-replacement",
   "metadata": {},
   "outputs": [],
   "source": [
    "d1_gr = data_1.groupby('Year')"
   ]
  },
  {
   "cell_type": "code",
   "execution_count": 55,
   "id": "related-report",
   "metadata": {},
   "outputs": [
    {
     "data": {
      "text/html": [
       "<div>\n",
       "<style scoped>\n",
       "    .dataframe tbody tr th:only-of-type {\n",
       "        vertical-align: middle;\n",
       "    }\n",
       "\n",
       "    .dataframe tbody tr th {\n",
       "        vertical-align: top;\n",
       "    }\n",
       "\n",
       "    .dataframe thead tr th {\n",
       "        text-align: left;\n",
       "    }\n",
       "\n",
       "    .dataframe thead tr:last-of-type th {\n",
       "        text-align: right;\n",
       "    }\n",
       "</style>\n",
       "<table border=\"1\" class=\"dataframe\">\n",
       "  <thead>\n",
       "    <tr>\n",
       "      <th></th>\n",
       "      <th colspan=\"4\" halign=\"left\">Page Views</th>\n",
       "    </tr>\n",
       "    <tr>\n",
       "      <th></th>\n",
       "      <th>min</th>\n",
       "      <th>max</th>\n",
       "      <th>mean</th>\n",
       "      <th>std</th>\n",
       "    </tr>\n",
       "    <tr>\n",
       "      <th>Year</th>\n",
       "      <th></th>\n",
       "      <th></th>\n",
       "      <th></th>\n",
       "      <th></th>\n",
       "    </tr>\n",
       "  </thead>\n",
       "  <tbody>\n",
       "    <tr>\n",
       "      <th>2016</th>\n",
       "      <td>18060</td>\n",
       "      <td>159186</td>\n",
       "      <td>30830.746341</td>\n",
       "      <td>13973.990893</td>\n",
       "    </tr>\n",
       "    <tr>\n",
       "      <th>2017</th>\n",
       "      <td>23219</td>\n",
       "      <td>136744</td>\n",
       "      <td>43113.136986</td>\n",
       "      <td>13987.658565</td>\n",
       "    </tr>\n",
       "    <tr>\n",
       "      <th>2018</th>\n",
       "      <td>25830</td>\n",
       "      <td>176175</td>\n",
       "      <td>69569.201657</td>\n",
       "      <td>21150.318427</td>\n",
       "    </tr>\n",
       "    <tr>\n",
       "      <th>2019</th>\n",
       "      <td>55069</td>\n",
       "      <td>177588</td>\n",
       "      <td>100744.490196</td>\n",
       "      <td>22936.766596</td>\n",
       "    </tr>\n",
       "  </tbody>\n",
       "</table>\n",
       "</div>"
      ],
      "text/plain": [
       "     Page Views                                     \n",
       "            min     max           mean           std\n",
       "Year                                                \n",
       "2016      18060  159186   30830.746341  13973.990893\n",
       "2017      23219  136744   43113.136986  13987.658565\n",
       "2018      25830  176175   69569.201657  21150.318427\n",
       "2019      55069  177588  100744.490196  22936.766596"
      ]
     },
     "execution_count": 55,
     "metadata": {},
     "output_type": "execute_result"
    }
   ],
   "source": [
    "d1_gr.agg(['min', 'max', 'mean', 'std'])"
   ]
  },
  {
   "cell_type": "code",
   "execution_count": 56,
   "id": "preceding-player",
   "metadata": {},
   "outputs": [],
   "source": [
    "# data_1.sort_values('year', ascending=True, inplace=True)\n",
    "# sns.boxplot(x=data_1.year, y=data_1.value, data=data_1)"
   ]
  },
  {
   "cell_type": "code",
   "execution_count": null,
   "id": "sticky-individual",
   "metadata": {},
   "outputs": [],
   "source": []
  },
  {
   "cell_type": "markdown",
   "id": "adolescent-shore",
   "metadata": {},
   "source": [
    "### Title: 'Month-wise Box Plot (Seasonality)'"
   ]
  },
  {
   "cell_type": "markdown",
   "id": "current-document",
   "metadata": {},
   "source": [
    "###### X: 'Month'\n",
    "###### Y: 'Page Views'"
   ]
  },
  {
   "cell_type": "code",
   "execution_count": 59,
   "id": "looking-herald",
   "metadata": {},
   "outputs": [
    {
     "data": {
      "text/html": [
       "<div>\n",
       "<style scoped>\n",
       "    .dataframe tbody tr th:only-of-type {\n",
       "        vertical-align: middle;\n",
       "    }\n",
       "\n",
       "    .dataframe tbody tr th {\n",
       "        vertical-align: top;\n",
       "    }\n",
       "\n",
       "    .dataframe thead th {\n",
       "        text-align: right;\n",
       "    }\n",
       "</style>\n",
       "<table border=\"1\" class=\"dataframe\">\n",
       "  <thead>\n",
       "    <tr style=\"text-align: right;\">\n",
       "      <th></th>\n",
       "      <th>Page Views</th>\n",
       "      <th>Month</th>\n",
       "    </tr>\n",
       "  </thead>\n",
       "  <tbody>\n",
       "    <tr>\n",
       "      <th>0</th>\n",
       "      <td>19736</td>\n",
       "      <td>May</td>\n",
       "    </tr>\n",
       "    <tr>\n",
       "      <th>1</th>\n",
       "      <td>18060</td>\n",
       "      <td>May</td>\n",
       "    </tr>\n",
       "    <tr>\n",
       "      <th>2</th>\n",
       "      <td>19997</td>\n",
       "      <td>May</td>\n",
       "    </tr>\n",
       "    <tr>\n",
       "      <th>3</th>\n",
       "      <td>19044</td>\n",
       "      <td>May</td>\n",
       "    </tr>\n",
       "    <tr>\n",
       "      <th>4</th>\n",
       "      <td>20325</td>\n",
       "      <td>May</td>\n",
       "    </tr>\n",
       "    <tr>\n",
       "      <th>...</th>\n",
       "      <td>...</td>\n",
       "      <td>...</td>\n",
       "    </tr>\n",
       "    <tr>\n",
       "      <th>1233</th>\n",
       "      <td>138875</td>\n",
       "      <td>Nov</td>\n",
       "    </tr>\n",
       "    <tr>\n",
       "      <th>1234</th>\n",
       "      <td>171584</td>\n",
       "      <td>Nov</td>\n",
       "    </tr>\n",
       "    <tr>\n",
       "      <th>1235</th>\n",
       "      <td>141161</td>\n",
       "      <td>Nov</td>\n",
       "    </tr>\n",
       "    <tr>\n",
       "      <th>1236</th>\n",
       "      <td>142918</td>\n",
       "      <td>Dec</td>\n",
       "    </tr>\n",
       "    <tr>\n",
       "      <th>1237</th>\n",
       "      <td>158549</td>\n",
       "      <td>Dec</td>\n",
       "    </tr>\n",
       "  </tbody>\n",
       "</table>\n",
       "<p>1238 rows × 2 columns</p>\n",
       "</div>"
      ],
      "text/plain": [
       "      Page Views Month\n",
       "0          19736   May\n",
       "1          18060   May\n",
       "2          19997   May\n",
       "3          19044   May\n",
       "4          20325   May\n",
       "...          ...   ...\n",
       "1233      138875   Nov\n",
       "1234      171584   Nov\n",
       "1235      141161   Nov\n",
       "1236      142918   Dec\n",
       "1237      158549   Dec\n",
       "\n",
       "[1238 rows x 2 columns]"
      ]
     },
     "execution_count": 59,
     "metadata": {},
     "output_type": "execute_result"
    }
   ],
   "source": [
    "data_2 = df_box.loc[:, ['Page Views', 'Month']]\n",
    "data_2"
   ]
  },
  {
   "cell_type": "markdown",
   "id": "experimental-creation",
   "metadata": {},
   "source": [
    "### Set month as category and give it order"
   ]
  },
  {
   "cell_type": "code",
   "execution_count": 66,
   "id": "clinical-statement",
   "metadata": {},
   "outputs": [
    {
     "data": {
      "text/plain": [
       "['May', 'Jun', 'Jul', 'Aug', 'Sep', ..., 'Dec', 'Jan', 'Feb', 'Mar', 'Apr']\n",
       "Length: 12\n",
       "Categories (12, object): ['Jan' < 'Feb' < 'Mar' < 'Apr' ... 'Sep' < 'Oct' < 'Nov' < 'Dec']"
      ]
     },
     "execution_count": 66,
     "metadata": {},
     "output_type": "execute_result"
    }
   ],
   "source": [
    "months_abbr = data_2.Month.unique()\n",
    "\n",
    "months_abbr_sorted = ['Jan', 'Feb', 'Mar', 'Apr', 'May', 'Jun', 'Jul', 'Aug', 'Sep', 'Oct', 'Nov', 'Dec']\n",
    "\n",
    "months_abbr_type = pd.api.types.CategoricalDtype(categories=months_abbr_sorted, ordered=True)\n",
    "\n",
    "data_2['Month'] = data_2.Month.astype(months_abbr_type)\n",
    "\n",
    "data_2"
   ]
  },
  {
   "cell_type": "code",
   "execution_count": 71,
   "id": "outstanding-faculty",
   "metadata": {},
   "outputs": [],
   "source": [
    "# data_2.dtypes\n",
    "\n",
    "# data_2.month\n",
    "\n",
    "# data_2.sort_values('Month')\n",
    "\n",
    "# data_2.sort_values('value')\n",
    "\n",
    "# sns.boxplot(x=data_2.month, y=data_2.value, data=data_2)"
   ]
  },
  {
   "cell_type": "code",
   "execution_count": null,
   "id": "eight-complex",
   "metadata": {},
   "outputs": [],
   "source": []
  },
  {
   "cell_type": "markdown",
   "id": "mechanical-connecticut",
   "metadata": {},
   "source": [
    "# Combine box plots on one figure"
   ]
  },
  {
   "cell_type": "code",
   "execution_count": 74,
   "id": "technological-campaign",
   "metadata": {},
   "outputs": [
    {
     "data": {
      "text/plain": [
       "<matplotlib.axes._axes.Axes at 0x7f0482d0c4f0>"
      ]
     },
     "execution_count": 74,
     "metadata": {},
     "output_type": "execute_result"
    },
    {
     "data": {
      "image/png": "[encoded data removed]",
      "text/plain": [
       "<Figure size 720x360 with 2 Axes>"
      ]
     },
     "metadata": {
      "needs_background": "light"
     },
     "output_type": "display_data"
    }
   ],
   "source": [
    "fig = plt.figure(figsize=(10.0, 5.0))\n",
    "\n",
    "axes_1 = fig.add_axes([0, 0, 0.5, 1])\n",
    "axes_1.set_title('Year-wise Box Plot (Trend)')\n",
    "# axes_1.set_xlabel('Year')\n",
    "# axes_1.set_ylabel('Page Views')\n",
    "sns.boxplot(x=data_1.Year, y=data_1['Page Views'], data=data_1, ax=axes_1)\n",
    "\n",
    "axes_2 = fig.add_axes([0.6, 0.0, \n",
    "                       0.5, 1])\n",
    "axes_2.set_title('Month-wise Box Plot (Seasonality)')\n",
    "# axes_2.set_xlabel('Month')\n",
    "# axes_2.set_ylabel('Page Views')\n",
    "sns.boxplot(x='Month', y='Page Views', data=data_2, ax=axes_2)"
   ]
  },
  {
   "cell_type": "code",
   "execution_count": null,
   "id": "delayed-tunnel",
   "metadata": {},
   "outputs": [],
   "source": []
  },
  {
   "cell_type": "code",
   "execution_count": 75,
   "id": "vulnerable-championship",
   "metadata": {},
   "outputs": [
    {
     "data": {
      "text/plain": [
       "<AxesSubplot:title={'center':'Month-wise Box Plot (Seasonality)'}, xlabel='Month', ylabel='Page Views'>"
      ]
     },
     "execution_count": 75,
     "metadata": {},
     "output_type": "execute_result"
    },
    {
     "data": {
      "image/png": "[encoded data removed]",
      "text/plain": [
       "<Figure size 720x360 with 2 Axes>"
      ]
     },
     "metadata": {
      "needs_background": "light"
     },
     "output_type": "display_data"
    }
   ],
   "source": [
    "fig, axes_list = plt.subplots(figsize=(10.0, 5.0), nrows=1, ncols=2)\n",
    "axes_1 = axes_list[0]\n",
    "axes_2 = axes_list[1]\n",
    "\n",
    "# axes_1 = fig.add_axes([0, 0, 0.5, 1])\n",
    "axes_1.set_title('Year-wise Box Plot (Trend)')\n",
    "# axes_1.set_xlabel('Year')\n",
    "# axes_1.set_ylabel('Page Views')\n",
    "sns.boxplot(x=data_1.Year, y=data_1['Page Views'], data=data_1, ax=axes_1)\n",
    "\n",
    "# axes_2 = fig.add_axes([0.6, 0.0, 0.5, 1])\n",
    "axes_2.set_title('Month-wise Box Plot (Seasonality)')\n",
    "# axes_2.set_xlabel('Month')\n",
    "# axes_2.set_ylabel('Page Views')\n",
    "sns.boxplot(x='Month', y='Page Views', data=data_2, ax=axes_2)"
   ]
  },
  {
   "cell_type": "code",
   "execution_count": null,
   "id": "young-baking",
   "metadata": {},
   "outputs": [],
   "source": []
  },
  {
   "cell_type": "code",
   "execution_count": 35,
   "id": "palestinian-auditor",
   "metadata": {
    "scrolled": true
   },
   "outputs": [
    {
     "data": {
      "image/png": "[encoded data removed]",
      "text/plain": [
       "<Figure size 720x360 with 2 Axes>"
      ]
     },
     "execution_count": 35,
     "metadata": {},
     "output_type": "execute_result"
    }
   ],
   "source": [
    "fig"
   ]
  },
  {
   "cell_type": "code",
   "execution_count": null,
   "id": "unavailable-uruguay",
   "metadata": {},
   "outputs": [],
   "source": [
    "fig.add_gridspec"
   ]
  },
  {
   "cell_type": "code",
   "execution_count": null,
   "id": "appreciated-cookbook",
   "metadata": {},
   "outputs": [],
   "source": []
  },
  {
   "cell_type": "code",
   "execution_count": null,
   "id": "about-statement",
   "metadata": {},
   "outputs": [],
   "source": []
  },
  {
   "cell_type": "code",
   "execution_count": null,
   "id": "powered-payroll",
   "metadata": {},
   "outputs": [],
   "source": []
  },
  {
   "cell_type": "code",
   "execution_count": null,
   "id": "accessory-deviation",
   "metadata": {},
   "outputs": [],
   "source": []
  },
  {
   "cell_type": "code",
   "execution_count": null,
   "id": "first-chemical",
   "metadata": {},
   "outputs": [],
   "source": []
  },
  {
   "cell_type": "markdown",
   "id": "exclusive-bleeding",
   "metadata": {},
   "source": [
    "# Bar Plot"
   ]
  },
  {
   "cell_type": "markdown",
   "id": "bottom-douglas",
   "metadata": {},
   "source": [
    "### Copy dataframe"
   ]
  },
  {
   "cell_type": "code",
   "execution_count": null,
   "id": "harmful-projection",
   "metadata": {},
   "outputs": [],
   "source": [
    "vc = views_cleaned.copy()"
   ]
  },
  {
   "cell_type": "code",
   "execution_count": null,
   "id": "disturbed-squad",
   "metadata": {},
   "outputs": [],
   "source": [
    "vc.head()"
   ]
  },
  {
   "cell_type": "code",
   "execution_count": null,
   "id": "offshore-people",
   "metadata": {},
   "outputs": [],
   "source": [
    " "
   ]
  },
  {
   "cell_type": "markdown",
   "id": "through-technique",
   "metadata": {},
   "source": [
    "### Add year "
   ]
  },
  {
   "cell_type": "code",
   "execution_count": null,
   "id": "unexpected-resident",
   "metadata": {},
   "outputs": [],
   "source": [
    "vc['year'] = vc.index.year"
   ]
  },
  {
   "cell_type": "code",
   "execution_count": null,
   "id": "conditional-clause",
   "metadata": {},
   "outputs": [],
   "source": [
    "vc.head()"
   ]
  },
  {
   "cell_type": "code",
   "execution_count": null,
   "id": "protecting-minimum",
   "metadata": {},
   "outputs": [],
   "source": [
    "vc.index[0]"
   ]
  },
  {
   "cell_type": "code",
   "execution_count": null,
   "id": "comparative-korean",
   "metadata": {},
   "outputs": [],
   "source": [
    "vc.index[0].year"
   ]
  },
  {
   "cell_type": "code",
   "execution_count": null,
   "id": "existing-technique",
   "metadata": {},
   "outputs": [],
   "source": [
    "vc.year.value_counts().sort_index()"
   ]
  },
  {
   "cell_type": "markdown",
   "id": "laden-delight",
   "metadata": {},
   "source": [
    "### Add month name"
   ]
  },
  {
   "cell_type": "code",
   "execution_count": null,
   "id": "drawn-session",
   "metadata": {},
   "outputs": [],
   "source": [
    "vc['month'] = vc.index.month_name()"
   ]
  },
  {
   "cell_type": "code",
   "execution_count": null,
   "id": "following-scholar",
   "metadata": {},
   "outputs": [],
   "source": [
    "vc.month.value_counts(normalize=True).mul(100).round(1)"
   ]
  },
  {
   "cell_type": "code",
   "execution_count": null,
   "id": "demonstrated-excuse",
   "metadata": {},
   "outputs": [],
   "source": [
    "vc.head()"
   ]
  },
  {
   "cell_type": "code",
   "execution_count": null,
   "id": "friendly-longitude",
   "metadata": {},
   "outputs": [],
   "source": []
  },
  {
   "cell_type": "markdown",
   "id": "moderate-navigation",
   "metadata": {},
   "source": [
    "### Add month index"
   ]
  },
  {
   "cell_type": "code",
   "execution_count": null,
   "id": "helpful-cheese",
   "metadata": {},
   "outputs": [],
   "source": [
    "vc['month_index'] = vc.index.month"
   ]
  },
  {
   "cell_type": "code",
   "execution_count": null,
   "id": "fiscal-mapping",
   "metadata": {},
   "outputs": [],
   "source": [
    "vc.head()"
   ]
  },
  {
   "cell_type": "code",
   "execution_count": null,
   "id": "third-quantity",
   "metadata": {},
   "outputs": [],
   "source": [
    "vc.dtypes"
   ]
  },
  {
   "cell_type": "code",
   "execution_count": null,
   "id": "driving-privilege",
   "metadata": {},
   "outputs": [],
   "source": []
  },
  {
   "cell_type": "markdown",
   "id": "dedicated-pointer",
   "metadata": {},
   "source": [
    "### get sorted months"
   ]
  },
  {
   "cell_type": "code",
   "execution_count": null,
   "id": "parliamentary-messaging",
   "metadata": {},
   "outputs": [],
   "source": [
    "month_gr = vc.groupby('month')"
   ]
  },
  {
   "cell_type": "code",
   "execution_count": null,
   "id": "entire-engineering",
   "metadata": {},
   "outputs": [],
   "source": [
    "months_indexes = month_gr.nth(0)\n",
    "months_indexes"
   ]
  },
  {
   "cell_type": "code",
   "execution_count": null,
   "id": "aggregate-blake",
   "metadata": {},
   "outputs": [],
   "source": [
    "months_indexes['combo'] = tuple(zip(months_indexes.index, months_indexes.month_index))\n",
    "months_indexes"
   ]
  },
  {
   "cell_type": "code",
   "execution_count": null,
   "id": "organic-corruption",
   "metadata": {},
   "outputs": [],
   "source": [
    "month_tuples = list(months_indexes.combo)\n",
    "# list(month_tuples)\n",
    "# month_tuples\n",
    "month_tuples"
   ]
  },
  {
   "cell_type": "code",
   "execution_count": null,
   "id": "hispanic-hamburg",
   "metadata": {},
   "outputs": [],
   "source": [
    "months_ordered = sorted(month_tuples, key=lambda x: x[1])\n",
    "months_ordered = [month for month, index in months_ordered]\n",
    "# months_ordered = ['January', 'February', 'March', 'April', 'May', 'June', 'July', 'August', 'September', 'October', 'November', 'December']\n",
    "months_ordered"
   ]
  },
  {
   "cell_type": "markdown",
   "id": "greatest-offering",
   "metadata": {},
   "source": [
    "# todo: define month as categorical data; Specify logical ordering of the category ---- ordered categories"
   ]
  },
  {
   "cell_type": "code",
   "execution_count": null,
   "id": "productive-brook",
   "metadata": {},
   "outputs": [],
   "source": [
    "month_type = pd.api.types.CategoricalDtype(categories=months_ordered, ordered=True)"
   ]
  },
  {
   "cell_type": "code",
   "execution_count": null,
   "id": "reflected-campus",
   "metadata": {},
   "outputs": [],
   "source": [
    "vc['month'] = vc.month.astype(month_type)"
   ]
  },
  {
   "cell_type": "code",
   "execution_count": null,
   "id": "integral-wells",
   "metadata": {},
   "outputs": [],
   "source": [
    "vc.dtypes"
   ]
  },
  {
   "cell_type": "code",
   "execution_count": null,
   "id": "uniform-blogger",
   "metadata": {},
   "outputs": [],
   "source": []
  },
  {
   "cell_type": "code",
   "execution_count": null,
   "id": "sized-toronto",
   "metadata": {},
   "outputs": [],
   "source": []
  },
  {
   "cell_type": "markdown",
   "id": "enhanced-attraction",
   "metadata": {},
   "source": [
    "## data for bar plot"
   ]
  },
  {
   "cell_type": "code",
   "execution_count": null,
   "id": "surrounded-topic",
   "metadata": {},
   "outputs": [],
   "source": []
  },
  {
   "cell_type": "code",
   "execution_count": null,
   "id": "incorporated-parent",
   "metadata": {},
   "outputs": [],
   "source": [
    "vc.drop(columns='month_index', inplace=True)\n",
    "vc"
   ]
  },
  {
   "cell_type": "code",
   "execution_count": null,
   "id": "representative-unknown",
   "metadata": {},
   "outputs": [],
   "source": []
  },
  {
   "cell_type": "code",
   "execution_count": null,
   "id": "affiliated-flesh",
   "metadata": {},
   "outputs": [],
   "source": [
    "vcg = vc.groupby(['year', 'month'])"
   ]
  },
  {
   "cell_type": "code",
   "execution_count": null,
   "id": "average-compound",
   "metadata": {},
   "outputs": [],
   "source": [
    "vcg.mean().sort_index().head(10)"
   ]
  },
  {
   "cell_type": "code",
   "execution_count": null,
   "id": "quick-wheel",
   "metadata": {},
   "outputs": [],
   "source": [
    "vcg.mean().sort_index().plot(kind='bar')"
   ]
  },
  {
   "cell_type": "code",
   "execution_count": null,
   "id": "parental-resolution",
   "metadata": {},
   "outputs": [],
   "source": []
  },
  {
   "cell_type": "markdown",
   "id": "polished-gossip",
   "metadata": {},
   "source": [
    "## rotate data to get year as index and months list as columns"
   ]
  },
  {
   "cell_type": "code",
   "execution_count": null,
   "id": "reserved-killer",
   "metadata": {},
   "outputs": [],
   "source": [
    "mean = vcg.mean().sort_index()"
   ]
  },
  {
   "cell_type": "code",
   "execution_count": null,
   "id": "dressed-monitoring",
   "metadata": {},
   "outputs": [],
   "source": [
    "mean.head(10)"
   ]
  },
  {
   "cell_type": "code",
   "execution_count": null,
   "id": "vocal-equipment",
   "metadata": {},
   "outputs": [],
   "source": [
    "xx = mean.unstack()\n",
    "xx"
   ]
  },
  {
   "cell_type": "code",
   "execution_count": null,
   "id": "blank-somalia",
   "metadata": {},
   "outputs": [],
   "source": [
    "xx.index"
   ]
  },
  {
   "cell_type": "code",
   "execution_count": null,
   "id": "mechanical-mistress",
   "metadata": {},
   "outputs": [],
   "source": [
    "xx.columns"
   ]
  },
  {
   "cell_type": "code",
   "execution_count": null,
   "id": "medium-citation",
   "metadata": {},
   "outputs": [],
   "source": [
    "xx.columns = months_ordered"
   ]
  },
  {
   "cell_type": "code",
   "execution_count": null,
   "id": "cathedral-greeting",
   "metadata": {},
   "outputs": [],
   "source": [
    "xx"
   ]
  },
  {
   "cell_type": "code",
   "execution_count": null,
   "id": "liberal-material",
   "metadata": {
    "scrolled": false
   },
   "outputs": [],
   "source": [
    "ax = xx.plot(kind='bar', figsize=(8, 6), \n",
    "            xlabel='Years', \n",
    "            ylabel='Average Page Views', \n",
    "            legend=True)\n",
    "\n",
    "ax.legend(title='Months')"
   ]
  },
  {
   "cell_type": "code",
   "execution_count": null,
   "id": "square-change",
   "metadata": {},
   "outputs": [],
   "source": []
  },
  {
   "cell_type": "code",
   "execution_count": null,
   "id": "comparative-barrier",
   "metadata": {},
   "outputs": [],
   "source": [
    "ax.legend?"
   ]
  },
  {
   "cell_type": "code",
   "execution_count": null,
   "id": "standing-gamma",
   "metadata": {},
   "outputs": [],
   "source": [
    "print(type(ax))\n",
    "ax"
   ]
  },
  {
   "cell_type": "code",
   "execution_count": null,
   "id": "third-delicious",
   "metadata": {},
   "outputs": [],
   "source": [
    "fig = ax.get_figure()"
   ]
  },
  {
   "cell_type": "code",
   "execution_count": null,
   "id": "directed-intervention",
   "metadata": {},
   "outputs": [],
   "source": [
    "fig.savefig('wow.png', dpi=200, transparent=False)"
   ]
  },
  {
   "cell_type": "code",
   "execution_count": null,
   "id": "collaborative-median",
   "metadata": {},
   "outputs": [],
   "source": [
    "ax = fig.axes[0]\n",
    "ax"
   ]
  },
  {
   "cell_type": "code",
   "execution_count": null,
   "id": "detailed-ending",
   "metadata": {},
   "outputs": [],
   "source": []
  }
 ],
 "metadata": {
  "kernelspec": {
   "display_name": "Python 3",
   "language": "python",
   "name": "python3"
  },
  "language_info": {
   "codemirror_mode": {
    "name": "ipython",
    "version": 3
   },
   "file_extension": ".py",
   "mimetype": "text/x-python",
   "name": "python",
   "nbconvert_exporter": "python",
   "pygments_lexer": "ipython3",
   "version": "3.8.5"
  }
 },
 "nbformat": 4,
 "nbformat_minor": 5
}
