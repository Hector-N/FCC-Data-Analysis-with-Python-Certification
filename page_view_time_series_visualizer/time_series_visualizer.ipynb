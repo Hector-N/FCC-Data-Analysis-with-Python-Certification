{
 "cells": [
  {
   "cell_type": "code",
   "execution_count": 1,
   "id": "bizarre-indian",
   "metadata": {},
   "outputs": [],
   "source": [
    "import pandas as pd\n",
    "from matplotlib import pyplot as plt\n",
    "from operator import itemgetter"
   ]
  },
  {
   "cell_type": "code",
   "execution_count": 2,
   "id": "absolute-grove",
   "metadata": {},
   "outputs": [],
   "source": [
    "%matplotlib inline"
   ]
  },
  {
   "cell_type": "code",
   "execution_count": null,
   "id": "organized-silence",
   "metadata": {},
   "outputs": [],
   "source": []
  },
  {
   "cell_type": "markdown",
   "id": "complicated-luxury",
   "metadata": {},
   "source": [
    "## vid 14 0 bar plot example"
   ]
  },
  {
   "cell_type": "code",
   "execution_count": null,
   "id": "cubic-turkey",
   "metadata": {},
   "outputs": [],
   "source": []
  },
  {
   "cell_type": "markdown",
   "id": "traditional-insured",
   "metadata": {},
   "source": [
    "## Read data"
   ]
  },
  {
   "cell_type": "code",
   "execution_count": 3,
   "id": "starting-kitchen",
   "metadata": {},
   "outputs": [
    {
     "data": {
      "text/html": [
       "<div>\n",
       "<style scoped>\n",
       "    .dataframe tbody tr th:only-of-type {\n",
       "        vertical-align: middle;\n",
       "    }\n",
       "\n",
       "    .dataframe tbody tr th {\n",
       "        vertical-align: top;\n",
       "    }\n",
       "\n",
       "    .dataframe thead th {\n",
       "        text-align: right;\n",
       "    }\n",
       "</style>\n",
       "<table border=\"1\" class=\"dataframe\">\n",
       "  <thead>\n",
       "    <tr style=\"text-align: right;\">\n",
       "      <th></th>\n",
       "      <th>value</th>\n",
       "    </tr>\n",
       "    <tr>\n",
       "      <th>date</th>\n",
       "      <th></th>\n",
       "    </tr>\n",
       "  </thead>\n",
       "  <tbody>\n",
       "    <tr>\n",
       "      <th>2016-05-09</th>\n",
       "      <td>1201</td>\n",
       "    </tr>\n",
       "    <tr>\n",
       "      <th>2016-05-10</th>\n",
       "      <td>2329</td>\n",
       "    </tr>\n",
       "    <tr>\n",
       "      <th>2016-05-11</th>\n",
       "      <td>1716</td>\n",
       "    </tr>\n",
       "    <tr>\n",
       "      <th>2016-05-12</th>\n",
       "      <td>10539</td>\n",
       "    </tr>\n",
       "    <tr>\n",
       "      <th>2016-05-13</th>\n",
       "      <td>6933</td>\n",
       "    </tr>\n",
       "    <tr>\n",
       "      <th>...</th>\n",
       "      <td>...</td>\n",
       "    </tr>\n",
       "    <tr>\n",
       "      <th>2019-11-29</th>\n",
       "      <td>171584</td>\n",
       "    </tr>\n",
       "    <tr>\n",
       "      <th>2019-11-30</th>\n",
       "      <td>141161</td>\n",
       "    </tr>\n",
       "    <tr>\n",
       "      <th>2019-12-01</th>\n",
       "      <td>142918</td>\n",
       "    </tr>\n",
       "    <tr>\n",
       "      <th>2019-12-02</th>\n",
       "      <td>220144</td>\n",
       "    </tr>\n",
       "    <tr>\n",
       "      <th>2019-12-03</th>\n",
       "      <td>158549</td>\n",
       "    </tr>\n",
       "  </tbody>\n",
       "</table>\n",
       "<p>1304 rows × 1 columns</p>\n",
       "</div>"
      ],
      "text/plain": [
       "             value\n",
       "date              \n",
       "2016-05-09    1201\n",
       "2016-05-10    2329\n",
       "2016-05-11    1716\n",
       "2016-05-12   10539\n",
       "2016-05-13    6933\n",
       "...            ...\n",
       "2019-11-29  171584\n",
       "2019-11-30  141161\n",
       "2019-12-01  142918\n",
       "2019-12-02  220144\n",
       "2019-12-03  158549\n",
       "\n",
       "[1304 rows x 1 columns]"
      ]
     },
     "execution_count": 3,
     "metadata": {},
     "output_type": "execute_result"
    }
   ],
   "source": [
    "views = pd.read_csv('fcc-forum-pageviews.csv', parse_dates=True, index_col='date')\n",
    "views"
   ]
  },
  {
   "cell_type": "code",
   "execution_count": 4,
   "id": "varying-delay",
   "metadata": {},
   "outputs": [
    {
     "data": {
      "text/plain": [
       "value    57197.5\n",
       "dtype: float64"
      ]
     },
     "execution_count": 4,
     "metadata": {},
     "output_type": "execute_result"
    }
   ],
   "source": [
    "views.median()"
   ]
  },
  {
   "cell_type": "code",
   "execution_count": 5,
   "id": "naval-doctrine",
   "metadata": {},
   "outputs": [
    {
     "data": {
      "text/plain": [
       "57197.5"
      ]
     },
     "execution_count": 5,
     "metadata": {},
     "output_type": "execute_result"
    }
   ],
   "source": [
    "views.value.quantile(0.5)"
   ]
  },
  {
   "cell_type": "code",
   "execution_count": 6,
   "id": "independent-sunday",
   "metadata": {},
   "outputs": [
    {
     "data": {
      "text/plain": [
       "67220.7"
      ]
     },
     "execution_count": 6,
     "metadata": {},
     "output_type": "execute_result"
    }
   ],
   "source": [
    "views.value.mean().round(1)"
   ]
  },
  {
   "cell_type": "code",
   "execution_count": 7,
   "id": "vietnamese-tender",
   "metadata": {},
   "outputs": [
    {
     "data": {
      "text/plain": [
       "177613.075"
      ]
     },
     "execution_count": 7,
     "metadata": {},
     "output_type": "execute_result"
    }
   ],
   "source": [
    "q_975 = views.value.quantile(0.975)\n",
    "q_975"
   ]
  },
  {
   "cell_type": "code",
   "execution_count": 8,
   "id": "emotional-might",
   "metadata": {
    "scrolled": true
   },
   "outputs": [
    {
     "data": {
      "text/plain": [
       "17876.4"
      ]
     },
     "execution_count": 8,
     "metadata": {},
     "output_type": "execute_result"
    }
   ],
   "source": [
    "q_025 = views.value.quantile(0.025)\n",
    "q_025"
   ]
  },
  {
   "cell_type": "code",
   "execution_count": 9,
   "id": "mediterranean-spine",
   "metadata": {},
   "outputs": [],
   "source": [
    "filt_outstanding = (views.value <= q_975) & (views.value >= q_025)"
   ]
  },
  {
   "cell_type": "code",
   "execution_count": 10,
   "id": "drawn-agriculture",
   "metadata": {},
   "outputs": [
    {
     "data": {
      "text/html": [
       "<div>\n",
       "<style scoped>\n",
       "    .dataframe tbody tr th:only-of-type {\n",
       "        vertical-align: middle;\n",
       "    }\n",
       "\n",
       "    .dataframe tbody tr th {\n",
       "        vertical-align: top;\n",
       "    }\n",
       "\n",
       "    .dataframe thead th {\n",
       "        text-align: right;\n",
       "    }\n",
       "</style>\n",
       "<table border=\"1\" class=\"dataframe\">\n",
       "  <thead>\n",
       "    <tr style=\"text-align: right;\">\n",
       "      <th></th>\n",
       "      <th>value</th>\n",
       "    </tr>\n",
       "    <tr>\n",
       "      <th>date</th>\n",
       "      <th></th>\n",
       "    </tr>\n",
       "  </thead>\n",
       "  <tbody>\n",
       "    <tr>\n",
       "      <th>2016-05-19</th>\n",
       "      <td>19736</td>\n",
       "    </tr>\n",
       "    <tr>\n",
       "      <th>2016-05-26</th>\n",
       "      <td>18060</td>\n",
       "    </tr>\n",
       "    <tr>\n",
       "      <th>2016-05-27</th>\n",
       "      <td>19997</td>\n",
       "    </tr>\n",
       "    <tr>\n",
       "      <th>2016-05-28</th>\n",
       "      <td>19044</td>\n",
       "    </tr>\n",
       "    <tr>\n",
       "      <th>2016-05-29</th>\n",
       "      <td>20325</td>\n",
       "    </tr>\n",
       "    <tr>\n",
       "      <th>...</th>\n",
       "      <td>...</td>\n",
       "    </tr>\n",
       "    <tr>\n",
       "      <th>2019-11-24</th>\n",
       "      <td>138875</td>\n",
       "    </tr>\n",
       "    <tr>\n",
       "      <th>2019-11-29</th>\n",
       "      <td>171584</td>\n",
       "    </tr>\n",
       "    <tr>\n",
       "      <th>2019-11-30</th>\n",
       "      <td>141161</td>\n",
       "    </tr>\n",
       "    <tr>\n",
       "      <th>2019-12-01</th>\n",
       "      <td>142918</td>\n",
       "    </tr>\n",
       "    <tr>\n",
       "      <th>2019-12-03</th>\n",
       "      <td>158549</td>\n",
       "    </tr>\n",
       "  </tbody>\n",
       "</table>\n",
       "<p>1238 rows × 1 columns</p>\n",
       "</div>"
      ],
      "text/plain": [
       "             value\n",
       "date              \n",
       "2016-05-19   19736\n",
       "2016-05-26   18060\n",
       "2016-05-27   19997\n",
       "2016-05-28   19044\n",
       "2016-05-29   20325\n",
       "...            ...\n",
       "2019-11-24  138875\n",
       "2019-11-29  171584\n",
       "2019-11-30  141161\n",
       "2019-12-01  142918\n",
       "2019-12-03  158549\n",
       "\n",
       "[1238 rows x 1 columns]"
      ]
     },
     "execution_count": 10,
     "metadata": {},
     "output_type": "execute_result"
    }
   ],
   "source": [
    "views_cleaned = views.loc[filt_outstanding, :].copy()\n",
    "views_cleaned"
   ]
  },
  {
   "cell_type": "code",
   "execution_count": null,
   "id": "recent-madrid",
   "metadata": {},
   "outputs": [],
   "source": []
  },
  {
   "cell_type": "markdown",
   "id": "minus-testing",
   "metadata": {},
   "source": [
    "## draw_line_plot\n"
   ]
  },
  {
   "cell_type": "code",
   "execution_count": 11,
   "id": "dominican-authorization",
   "metadata": {},
   "outputs": [],
   "source": [
    "def draw_line_plot():\n",
    "    # Draw line plot\n",
    "\n",
    "    fig = plt.figure()\n",
    "    \n",
    "    # plot title\n",
    "    plt.title('Daily freeCodeCamp Forum Page Views 5/2016-12/2019')\n",
    "\n",
    "    # axes labels\n",
    "    plt.xlabel('Date')\n",
    "    plt.ylabel('Page Views')\n",
    "\n",
    "    # data\n",
    "    x = views_cleaned.index\n",
    "    y = views_cleaned.value\n",
    "\n",
    "    plt.plot(x, y)\n",
    "    # plt.show()\n",
    "    # plt.savefig('line_plot.png')\n",
    "\n",
    "    # Save image and return fig (don't change this part)\n",
    "    fig.savefig('line_plot.png')\n",
    "    return fig"
   ]
  },
  {
   "cell_type": "code",
   "execution_count": 12,
   "id": "acoustic-therapy",
   "metadata": {},
   "outputs": [
    {
     "data": {
      "image/png": "[encoded data removed]",
      "text/plain": [
       "<Figure size 432x288 with 1 Axes>"
      ]
     },
     "metadata": {
      "needs_background": "light"
     },
     "output_type": "display_data"
    }
   ],
   "source": [
    "fi = draw_line_plot()"
   ]
  },
  {
   "cell_type": "code",
   "execution_count": null,
   "id": "arbitrary-faith",
   "metadata": {},
   "outputs": [],
   "source": [
    "fi?"
   ]
  },
  {
   "cell_type": "code",
   "execution_count": null,
   "id": "banner-division",
   "metadata": {},
   "outputs": [],
   "source": [
    "fi.axes?"
   ]
  },
  {
   "cell_type": "code",
   "execution_count": null,
   "id": "manual-burst",
   "metadata": {},
   "outputs": [],
   "source": [
    "len(fi.axes)"
   ]
  },
  {
   "cell_type": "code",
   "execution_count": null,
   "id": "veterinary-eagle",
   "metadata": {},
   "outputs": [],
   "source": [
    "fi.axes[0]"
   ]
  },
  {
   "cell_type": "code",
   "execution_count": null,
   "id": "junior-aside",
   "metadata": {},
   "outputs": [],
   "source": [
    "fi.axes[0].get_title()"
   ]
  },
  {
   "cell_type": "code",
   "execution_count": null,
   "id": "israeli-found",
   "metadata": {},
   "outputs": [],
   "source": []
  },
  {
   "cell_type": "markdown",
   "id": "fabulous-coalition",
   "metadata": {},
   "source": [
    "## draw_bar_plot"
   ]
  },
  {
   "cell_type": "code",
   "execution_count": null,
   "id": "suited-center",
   "metadata": {},
   "outputs": [],
   "source": [
    "# show average daily page views for each month grouped by year\n",
    "# legend should show month labels and have a title of \"Months\"\n",
    "# On the chart, the label on the x axis should be \"Years\"\n",
    "# and the label on the y axis should be \"Average Page Views\"."
   ]
  },
  {
   "cell_type": "code",
   "execution_count": null,
   "id": "underlying-financing",
   "metadata": {},
   "outputs": [],
   "source": [
    "def draw_bar_plot():\n",
    "    # Copy and modify data for monthly bar plot\n",
    "    df_bar = views_cleaned.copy()\n",
    "    df_bar['year'] = df_bar.index.year\n",
    "    df_bar['month'] = df_bar.index.month_name()\n",
    "    df_bar['month_index'] = df_bar.index.month\n",
    "    month_gr = df_bar.groupby('month')\n",
    "    months_indexes = month_gr.nth(0)\n",
    "    months_indexes['combo'] = tuple(zip(months_indexes.index, months_indexes.month_index))\n",
    "    month_tuples = list(months_indexes.combo)\n",
    "    months_ordered = sorted(month_tuples, key=lambda x: x[1])\n",
    "    months_ordered = [month for month, index in months_ordered]\n",
    "    month_type = pd.api.types.CategoricalDtype(categories=months_ordered, ordered=True)\n",
    "    df_bar['month'] = df_bar.month.astype(month_type)\n",
    "    \n",
    "    df_bar.drop(columns='month_index', inplace=True)\n",
    "    df_bar_gr = df_bar.groupby(['year', 'month'])\n",
    "    \n",
    "    mean = df_bar_gr.mean().sort_index()\n",
    "    mean.stack().unstack(level='month')\n",
    "    \n",
    "    x = mean.stack().unstack(level='month')\n",
    "    \n",
    "    # Draw bar plot\n",
    "    fig = plt.figure()\n",
    "    \n",
    "    \n",
    "#     plt.title()\n",
    "#     plt.legend()\n",
    "    plt.xlabel('Years')\n",
    "    plt.ylabel('Average Page Views')\n",
    "    \n",
    "    x.plot(kind='bar')\n",
    "    \n",
    "    # Save image and return fig (don't change this part)\n",
    "    fig.savefig('bar_plot.png')\n",
    "    return fig"
   ]
  },
  {
   "cell_type": "code",
   "execution_count": 59,
   "id": "incorporate-bennett",
   "metadata": {},
   "outputs": [],
   "source": [
    "def draw_bar_plot():\n",
    "    # Copy and modify data for monthly bar plot\n",
    "#     df_bar = df.copy()\n",
    "    df_bar = views_cleaned.copy()\n",
    "\n",
    "    # add year\n",
    "    df_bar['year'] = df_bar.index.year\n",
    "    df_bar.year.value_counts().sort_index()\n",
    "\n",
    "    # add month name\n",
    "    df_bar['month'] = df_bar.index.month_name()\n",
    "    df_bar.month.value_counts(normalize=True).mul(100).round(1)\n",
    "\n",
    "    # add month index\n",
    "    df_bar['month_index'] = df_bar.index.month\n",
    "\n",
    "    # get sorted months\n",
    "    month_gr = df_bar.groupby('month')\n",
    "    months_indexes = month_gr.nth(0)\n",
    "    months_indexes['combo'] = tuple(zip(months_indexes.index, months_indexes.month_index))\n",
    "    month_tuples = list(months_indexes.combo)\n",
    "    months_ordered = sorted(month_tuples, key=lambda x: x[1])\n",
    "    months_ordered = [month for month, index in months_ordered]\n",
    "    # months_ordered = ['January', 'February', 'March', 'April', 'May', 'June', 'July', 'August', 'September', 'October', 'November', 'December']\n",
    "\n",
    "    # define month as categorical data; Specify logical ordering of the category ---- ordered categories\n",
    "    month_type = pd.api.types.CategoricalDtype(categories=months_ordered, ordered=True)\n",
    "    df_bar['month'] = df_bar.month.astype(month_type)\n",
    "\n",
    "    # data for bar plot\n",
    "    df_bar.drop(columns='month_index', inplace=True)\n",
    "    df_bar_gr = df_bar.groupby(['year', 'month'])\n",
    "    mean = df_bar_gr.mean().sort_index()\n",
    "    data_for_plot = mean.unstack()\n",
    "    data_for_plot.columns = months_ordered\n",
    "\n",
    "    # Draw bar plot\n",
    "    fig = plt.figure()\n",
    "#     plt.title('blabla')\n",
    "\n",
    "    data_for_plot.plot(kind='bar')\n",
    "    \n",
    "    plt.show()\n",
    "\n",
    "    \n",
    "    # Save image and return fig (don't change this part)\n",
    "    \n",
    "    # fig.savefig('bar_plot.png')\n",
    "    \n",
    "    plt.savefig('bar_plot.png')\n",
    "    \n",
    "    return fig"
   ]
  },
  {
   "cell_type": "code",
   "execution_count": 60,
   "id": "local-motel",
   "metadata": {},
   "outputs": [
    {
     "data": {
      "text/plain": [
       "<Figure size 432x288 with 0 Axes>"
      ]
     },
     "metadata": {},
     "output_type": "display_data"
    },
    {
     "data": {
      "image/png": "[encoded data removed]",
      "text/plain": [
       "<Figure size 432x288 with 1 Axes>"
      ]
     },
     "metadata": {
      "needs_background": "light"
     },
     "output_type": "display_data"
    },
    {
     "data": {
      "text/plain": [
       "<Figure size 432x288 with 0 Axes>"
      ]
     },
     "execution_count": 60,
     "metadata": {},
     "output_type": "execute_result"
    },
    {
     "data": {
      "text/plain": [
       "<Figure size 432x288 with 0 Axes>"
      ]
     },
     "metadata": {},
     "output_type": "display_data"
    }
   ],
   "source": [
    "draw_bar_plot()"
   ]
  },
  {
   "cell_type": "markdown",
   "id": "bottom-douglas",
   "metadata": {},
   "source": [
    "### Copy dataframe"
   ]
  },
  {
   "cell_type": "code",
   "execution_count": 22,
   "id": "harmful-projection",
   "metadata": {},
   "outputs": [],
   "source": [
    "vc = views_cleaned.copy()"
   ]
  },
  {
   "cell_type": "code",
   "execution_count": 23,
   "id": "disturbed-squad",
   "metadata": {},
   "outputs": [
    {
     "data": {
      "text/html": [
       "<div>\n",
       "<style scoped>\n",
       "    .dataframe tbody tr th:only-of-type {\n",
       "        vertical-align: middle;\n",
       "    }\n",
       "\n",
       "    .dataframe tbody tr th {\n",
       "        vertical-align: top;\n",
       "    }\n",
       "\n",
       "    .dataframe thead th {\n",
       "        text-align: right;\n",
       "    }\n",
       "</style>\n",
       "<table border=\"1\" class=\"dataframe\">\n",
       "  <thead>\n",
       "    <tr style=\"text-align: right;\">\n",
       "      <th></th>\n",
       "      <th>value</th>\n",
       "    </tr>\n",
       "    <tr>\n",
       "      <th>date</th>\n",
       "      <th></th>\n",
       "    </tr>\n",
       "  </thead>\n",
       "  <tbody>\n",
       "    <tr>\n",
       "      <th>2016-05-19</th>\n",
       "      <td>19736</td>\n",
       "    </tr>\n",
       "    <tr>\n",
       "      <th>2016-05-26</th>\n",
       "      <td>18060</td>\n",
       "    </tr>\n",
       "    <tr>\n",
       "      <th>2016-05-27</th>\n",
       "      <td>19997</td>\n",
       "    </tr>\n",
       "    <tr>\n",
       "      <th>2016-05-28</th>\n",
       "      <td>19044</td>\n",
       "    </tr>\n",
       "    <tr>\n",
       "      <th>2016-05-29</th>\n",
       "      <td>20325</td>\n",
       "    </tr>\n",
       "  </tbody>\n",
       "</table>\n",
       "</div>"
      ],
      "text/plain": [
       "            value\n",
       "date             \n",
       "2016-05-19  19736\n",
       "2016-05-26  18060\n",
       "2016-05-27  19997\n",
       "2016-05-28  19044\n",
       "2016-05-29  20325"
      ]
     },
     "execution_count": 23,
     "metadata": {},
     "output_type": "execute_result"
    }
   ],
   "source": [
    "vc.head()"
   ]
  },
  {
   "cell_type": "code",
   "execution_count": null,
   "id": "offshore-people",
   "metadata": {},
   "outputs": [],
   "source": [
    " "
   ]
  },
  {
   "cell_type": "markdown",
   "id": "through-technique",
   "metadata": {},
   "source": [
    "### Add year "
   ]
  },
  {
   "cell_type": "code",
   "execution_count": 24,
   "id": "unexpected-resident",
   "metadata": {},
   "outputs": [],
   "source": [
    "vc['year'] = vc.index.year"
   ]
  },
  {
   "cell_type": "code",
   "execution_count": 25,
   "id": "existing-technique",
   "metadata": {},
   "outputs": [
    {
     "data": {
      "text/plain": [
       "2016    205\n",
       "2017    365\n",
       "2018    362\n",
       "2019    306\n",
       "Name: year, dtype: int64"
      ]
     },
     "execution_count": 25,
     "metadata": {},
     "output_type": "execute_result"
    }
   ],
   "source": [
    "vc.year.value_counts().sort_index()"
   ]
  },
  {
   "cell_type": "markdown",
   "id": "laden-delight",
   "metadata": {},
   "source": [
    "### Add month name"
   ]
  },
  {
   "cell_type": "code",
   "execution_count": 26,
   "id": "drawn-session",
   "metadata": {},
   "outputs": [],
   "source": [
    "vc['month'] = vc.index.month_name()"
   ]
  },
  {
   "cell_type": "code",
   "execution_count": 27,
   "id": "following-scholar",
   "metadata": {},
   "outputs": [
    {
     "data": {
      "text/plain": [
       "August       9.9\n",
       "July         9.7\n",
       "September    9.7\n",
       "October      9.0\n",
       "June         8.6\n",
       "November     8.4\n",
       "May          7.9\n",
       "December     7.7\n",
       "January      7.5\n",
       "March        7.5\n",
       "April        7.3\n",
       "February     6.8\n",
       "Name: month, dtype: float64"
      ]
     },
     "execution_count": 27,
     "metadata": {},
     "output_type": "execute_result"
    }
   ],
   "source": [
    "vc.month.value_counts(normalize=True).mul(100).round(1)"
   ]
  },
  {
   "cell_type": "code",
   "execution_count": 28,
   "id": "demonstrated-excuse",
   "metadata": {},
   "outputs": [
    {
     "data": {
      "text/html": [
       "<div>\n",
       "<style scoped>\n",
       "    .dataframe tbody tr th:only-of-type {\n",
       "        vertical-align: middle;\n",
       "    }\n",
       "\n",
       "    .dataframe tbody tr th {\n",
       "        vertical-align: top;\n",
       "    }\n",
       "\n",
       "    .dataframe thead th {\n",
       "        text-align: right;\n",
       "    }\n",
       "</style>\n",
       "<table border=\"1\" class=\"dataframe\">\n",
       "  <thead>\n",
       "    <tr style=\"text-align: right;\">\n",
       "      <th></th>\n",
       "      <th>value</th>\n",
       "      <th>year</th>\n",
       "      <th>month</th>\n",
       "    </tr>\n",
       "    <tr>\n",
       "      <th>date</th>\n",
       "      <th></th>\n",
       "      <th></th>\n",
       "      <th></th>\n",
       "    </tr>\n",
       "  </thead>\n",
       "  <tbody>\n",
       "    <tr>\n",
       "      <th>2016-05-19</th>\n",
       "      <td>19736</td>\n",
       "      <td>2016</td>\n",
       "      <td>May</td>\n",
       "    </tr>\n",
       "    <tr>\n",
       "      <th>2016-05-26</th>\n",
       "      <td>18060</td>\n",
       "      <td>2016</td>\n",
       "      <td>May</td>\n",
       "    </tr>\n",
       "    <tr>\n",
       "      <th>2016-05-27</th>\n",
       "      <td>19997</td>\n",
       "      <td>2016</td>\n",
       "      <td>May</td>\n",
       "    </tr>\n",
       "    <tr>\n",
       "      <th>2016-05-28</th>\n",
       "      <td>19044</td>\n",
       "      <td>2016</td>\n",
       "      <td>May</td>\n",
       "    </tr>\n",
       "    <tr>\n",
       "      <th>2016-05-29</th>\n",
       "      <td>20325</td>\n",
       "      <td>2016</td>\n",
       "      <td>May</td>\n",
       "    </tr>\n",
       "  </tbody>\n",
       "</table>\n",
       "</div>"
      ],
      "text/plain": [
       "            value  year month\n",
       "date                         \n",
       "2016-05-19  19736  2016   May\n",
       "2016-05-26  18060  2016   May\n",
       "2016-05-27  19997  2016   May\n",
       "2016-05-28  19044  2016   May\n",
       "2016-05-29  20325  2016   May"
      ]
     },
     "execution_count": 28,
     "metadata": {},
     "output_type": "execute_result"
    }
   ],
   "source": [
    "vc.head()"
   ]
  },
  {
   "cell_type": "code",
   "execution_count": null,
   "id": "friendly-longitude",
   "metadata": {},
   "outputs": [],
   "source": []
  },
  {
   "cell_type": "markdown",
   "id": "moderate-navigation",
   "metadata": {},
   "source": [
    "### Add month index"
   ]
  },
  {
   "cell_type": "code",
   "execution_count": 29,
   "id": "helpful-cheese",
   "metadata": {},
   "outputs": [],
   "source": [
    "vc['month_index'] = vc.index.month"
   ]
  },
  {
   "cell_type": "code",
   "execution_count": 30,
   "id": "fiscal-mapping",
   "metadata": {},
   "outputs": [
    {
     "data": {
      "text/html": [
       "<div>\n",
       "<style scoped>\n",
       "    .dataframe tbody tr th:only-of-type {\n",
       "        vertical-align: middle;\n",
       "    }\n",
       "\n",
       "    .dataframe tbody tr th {\n",
       "        vertical-align: top;\n",
       "    }\n",
       "\n",
       "    .dataframe thead th {\n",
       "        text-align: right;\n",
       "    }\n",
       "</style>\n",
       "<table border=\"1\" class=\"dataframe\">\n",
       "  <thead>\n",
       "    <tr style=\"text-align: right;\">\n",
       "      <th></th>\n",
       "      <th>value</th>\n",
       "      <th>year</th>\n",
       "      <th>month</th>\n",
       "      <th>month_index</th>\n",
       "    </tr>\n",
       "    <tr>\n",
       "      <th>date</th>\n",
       "      <th></th>\n",
       "      <th></th>\n",
       "      <th></th>\n",
       "      <th></th>\n",
       "    </tr>\n",
       "  </thead>\n",
       "  <tbody>\n",
       "    <tr>\n",
       "      <th>2016-05-19</th>\n",
       "      <td>19736</td>\n",
       "      <td>2016</td>\n",
       "      <td>May</td>\n",
       "      <td>5</td>\n",
       "    </tr>\n",
       "    <tr>\n",
       "      <th>2016-05-26</th>\n",
       "      <td>18060</td>\n",
       "      <td>2016</td>\n",
       "      <td>May</td>\n",
       "      <td>5</td>\n",
       "    </tr>\n",
       "    <tr>\n",
       "      <th>2016-05-27</th>\n",
       "      <td>19997</td>\n",
       "      <td>2016</td>\n",
       "      <td>May</td>\n",
       "      <td>5</td>\n",
       "    </tr>\n",
       "    <tr>\n",
       "      <th>2016-05-28</th>\n",
       "      <td>19044</td>\n",
       "      <td>2016</td>\n",
       "      <td>May</td>\n",
       "      <td>5</td>\n",
       "    </tr>\n",
       "    <tr>\n",
       "      <th>2016-05-29</th>\n",
       "      <td>20325</td>\n",
       "      <td>2016</td>\n",
       "      <td>May</td>\n",
       "      <td>5</td>\n",
       "    </tr>\n",
       "  </tbody>\n",
       "</table>\n",
       "</div>"
      ],
      "text/plain": [
       "            value  year month  month_index\n",
       "date                                      \n",
       "2016-05-19  19736  2016   May            5\n",
       "2016-05-26  18060  2016   May            5\n",
       "2016-05-27  19997  2016   May            5\n",
       "2016-05-28  19044  2016   May            5\n",
       "2016-05-29  20325  2016   May            5"
      ]
     },
     "execution_count": 30,
     "metadata": {},
     "output_type": "execute_result"
    }
   ],
   "source": [
    "vc.head()"
   ]
  },
  {
   "cell_type": "code",
   "execution_count": 31,
   "id": "third-quantity",
   "metadata": {},
   "outputs": [
    {
     "data": {
      "text/plain": [
       "value           int64\n",
       "year            int64\n",
       "month          object\n",
       "month_index     int64\n",
       "dtype: object"
      ]
     },
     "execution_count": 31,
     "metadata": {},
     "output_type": "execute_result"
    }
   ],
   "source": [
    "vc.dtypes"
   ]
  },
  {
   "cell_type": "code",
   "execution_count": null,
   "id": "driving-privilege",
   "metadata": {},
   "outputs": [],
   "source": []
  },
  {
   "cell_type": "markdown",
   "id": "dedicated-pointer",
   "metadata": {},
   "source": [
    "### get sorted months"
   ]
  },
  {
   "cell_type": "code",
   "execution_count": 32,
   "id": "parliamentary-messaging",
   "metadata": {},
   "outputs": [],
   "source": [
    "month_gr = vc.groupby('month')"
   ]
  },
  {
   "cell_type": "code",
   "execution_count": 33,
   "id": "entire-engineering",
   "metadata": {},
   "outputs": [
    {
     "data": {
      "text/html": [
       "<div>\n",
       "<style scoped>\n",
       "    .dataframe tbody tr th:only-of-type {\n",
       "        vertical-align: middle;\n",
       "    }\n",
       "\n",
       "    .dataframe tbody tr th {\n",
       "        vertical-align: top;\n",
       "    }\n",
       "\n",
       "    .dataframe thead th {\n",
       "        text-align: right;\n",
       "    }\n",
       "</style>\n",
       "<table border=\"1\" class=\"dataframe\">\n",
       "  <thead>\n",
       "    <tr style=\"text-align: right;\">\n",
       "      <th></th>\n",
       "      <th>value</th>\n",
       "      <th>year</th>\n",
       "      <th>month_index</th>\n",
       "    </tr>\n",
       "    <tr>\n",
       "      <th>month</th>\n",
       "      <th></th>\n",
       "      <th></th>\n",
       "      <th></th>\n",
       "    </tr>\n",
       "  </thead>\n",
       "  <tbody>\n",
       "    <tr>\n",
       "      <th>April</th>\n",
       "      <td>23762</td>\n",
       "      <td>2017</td>\n",
       "      <td>4</td>\n",
       "    </tr>\n",
       "    <tr>\n",
       "      <th>August</th>\n",
       "      <td>20947</td>\n",
       "      <td>2016</td>\n",
       "      <td>8</td>\n",
       "    </tr>\n",
       "    <tr>\n",
       "      <th>December</th>\n",
       "      <td>32666</td>\n",
       "      <td>2016</td>\n",
       "      <td>12</td>\n",
       "    </tr>\n",
       "    <tr>\n",
       "      <th>February</th>\n",
       "      <td>30124</td>\n",
       "      <td>2017</td>\n",
       "      <td>2</td>\n",
       "    </tr>\n",
       "    <tr>\n",
       "      <th>January</th>\n",
       "      <td>26185</td>\n",
       "      <td>2017</td>\n",
       "      <td>1</td>\n",
       "    </tr>\n",
       "    <tr>\n",
       "      <th>July</th>\n",
       "      <td>28372</td>\n",
       "      <td>2016</td>\n",
       "      <td>7</td>\n",
       "    </tr>\n",
       "    <tr>\n",
       "      <th>June</th>\n",
       "      <td>18335</td>\n",
       "      <td>2016</td>\n",
       "      <td>6</td>\n",
       "    </tr>\n",
       "    <tr>\n",
       "      <th>March</th>\n",
       "      <td>33258</td>\n",
       "      <td>2017</td>\n",
       "      <td>3</td>\n",
       "    </tr>\n",
       "    <tr>\n",
       "      <th>May</th>\n",
       "      <td>19736</td>\n",
       "      <td>2016</td>\n",
       "      <td>5</td>\n",
       "    </tr>\n",
       "    <tr>\n",
       "      <th>November</th>\n",
       "      <td>25856</td>\n",
       "      <td>2016</td>\n",
       "      <td>11</td>\n",
       "    </tr>\n",
       "    <tr>\n",
       "      <th>October</th>\n",
       "      <td>49179</td>\n",
       "      <td>2016</td>\n",
       "      <td>10</td>\n",
       "    </tr>\n",
       "    <tr>\n",
       "      <th>September</th>\n",
       "      <td>40709</td>\n",
       "      <td>2016</td>\n",
       "      <td>9</td>\n",
       "    </tr>\n",
       "  </tbody>\n",
       "</table>\n",
       "</div>"
      ],
      "text/plain": [
       "           value  year  month_index\n",
       "month                              \n",
       "April      23762  2017            4\n",
       "August     20947  2016            8\n",
       "December   32666  2016           12\n",
       "February   30124  2017            2\n",
       "January    26185  2017            1\n",
       "July       28372  2016            7\n",
       "June       18335  2016            6\n",
       "March      33258  2017            3\n",
       "May        19736  2016            5\n",
       "November   25856  2016           11\n",
       "October    49179  2016           10\n",
       "September  40709  2016            9"
      ]
     },
     "execution_count": 33,
     "metadata": {},
     "output_type": "execute_result"
    }
   ],
   "source": [
    "months_indexes = month_gr.nth(0)\n",
    "months_indexes"
   ]
  },
  {
   "cell_type": "code",
   "execution_count": 34,
   "id": "aggregate-blake",
   "metadata": {},
   "outputs": [
    {
     "data": {
      "text/html": [
       "<div>\n",
       "<style scoped>\n",
       "    .dataframe tbody tr th:only-of-type {\n",
       "        vertical-align: middle;\n",
       "    }\n",
       "\n",
       "    .dataframe tbody tr th {\n",
       "        vertical-align: top;\n",
       "    }\n",
       "\n",
       "    .dataframe thead th {\n",
       "        text-align: right;\n",
       "    }\n",
       "</style>\n",
       "<table border=\"1\" class=\"dataframe\">\n",
       "  <thead>\n",
       "    <tr style=\"text-align: right;\">\n",
       "      <th></th>\n",
       "      <th>value</th>\n",
       "      <th>year</th>\n",
       "      <th>month_index</th>\n",
       "      <th>combo</th>\n",
       "    </tr>\n",
       "    <tr>\n",
       "      <th>month</th>\n",
       "      <th></th>\n",
       "      <th></th>\n",
       "      <th></th>\n",
       "      <th></th>\n",
       "    </tr>\n",
       "  </thead>\n",
       "  <tbody>\n",
       "    <tr>\n",
       "      <th>April</th>\n",
       "      <td>23762</td>\n",
       "      <td>2017</td>\n",
       "      <td>4</td>\n",
       "      <td>(April, 4)</td>\n",
       "    </tr>\n",
       "    <tr>\n",
       "      <th>August</th>\n",
       "      <td>20947</td>\n",
       "      <td>2016</td>\n",
       "      <td>8</td>\n",
       "      <td>(August, 8)</td>\n",
       "    </tr>\n",
       "    <tr>\n",
       "      <th>December</th>\n",
       "      <td>32666</td>\n",
       "      <td>2016</td>\n",
       "      <td>12</td>\n",
       "      <td>(December, 12)</td>\n",
       "    </tr>\n",
       "    <tr>\n",
       "      <th>February</th>\n",
       "      <td>30124</td>\n",
       "      <td>2017</td>\n",
       "      <td>2</td>\n",
       "      <td>(February, 2)</td>\n",
       "    </tr>\n",
       "    <tr>\n",
       "      <th>January</th>\n",
       "      <td>26185</td>\n",
       "      <td>2017</td>\n",
       "      <td>1</td>\n",
       "      <td>(January, 1)</td>\n",
       "    </tr>\n",
       "    <tr>\n",
       "      <th>July</th>\n",
       "      <td>28372</td>\n",
       "      <td>2016</td>\n",
       "      <td>7</td>\n",
       "      <td>(July, 7)</td>\n",
       "    </tr>\n",
       "    <tr>\n",
       "      <th>June</th>\n",
       "      <td>18335</td>\n",
       "      <td>2016</td>\n",
       "      <td>6</td>\n",
       "      <td>(June, 6)</td>\n",
       "    </tr>\n",
       "    <tr>\n",
       "      <th>March</th>\n",
       "      <td>33258</td>\n",
       "      <td>2017</td>\n",
       "      <td>3</td>\n",
       "      <td>(March, 3)</td>\n",
       "    </tr>\n",
       "    <tr>\n",
       "      <th>May</th>\n",
       "      <td>19736</td>\n",
       "      <td>2016</td>\n",
       "      <td>5</td>\n",
       "      <td>(May, 5)</td>\n",
       "    </tr>\n",
       "    <tr>\n",
       "      <th>November</th>\n",
       "      <td>25856</td>\n",
       "      <td>2016</td>\n",
       "      <td>11</td>\n",
       "      <td>(November, 11)</td>\n",
       "    </tr>\n",
       "    <tr>\n",
       "      <th>October</th>\n",
       "      <td>49179</td>\n",
       "      <td>2016</td>\n",
       "      <td>10</td>\n",
       "      <td>(October, 10)</td>\n",
       "    </tr>\n",
       "    <tr>\n",
       "      <th>September</th>\n",
       "      <td>40709</td>\n",
       "      <td>2016</td>\n",
       "      <td>9</td>\n",
       "      <td>(September, 9)</td>\n",
       "    </tr>\n",
       "  </tbody>\n",
       "</table>\n",
       "</div>"
      ],
      "text/plain": [
       "           value  year  month_index           combo\n",
       "month                                              \n",
       "April      23762  2017            4      (April, 4)\n",
       "August     20947  2016            8     (August, 8)\n",
       "December   32666  2016           12  (December, 12)\n",
       "February   30124  2017            2   (February, 2)\n",
       "January    26185  2017            1    (January, 1)\n",
       "July       28372  2016            7       (July, 7)\n",
       "June       18335  2016            6       (June, 6)\n",
       "March      33258  2017            3      (March, 3)\n",
       "May        19736  2016            5        (May, 5)\n",
       "November   25856  2016           11  (November, 11)\n",
       "October    49179  2016           10   (October, 10)\n",
       "September  40709  2016            9  (September, 9)"
      ]
     },
     "execution_count": 34,
     "metadata": {},
     "output_type": "execute_result"
    }
   ],
   "source": [
    "months_indexes['combo'] = tuple(zip(months_indexes.index, months_indexes.month_index))\n",
    "months_indexes"
   ]
  },
  {
   "cell_type": "code",
   "execution_count": 35,
   "id": "organic-corruption",
   "metadata": {},
   "outputs": [
    {
     "data": {
      "text/plain": [
       "[('April', 4),\n",
       " ('August', 8),\n",
       " ('December', 12),\n",
       " ('February', 2),\n",
       " ('January', 1),\n",
       " ('July', 7),\n",
       " ('June', 6),\n",
       " ('March', 3),\n",
       " ('May', 5),\n",
       " ('November', 11),\n",
       " ('October', 10),\n",
       " ('September', 9)]"
      ]
     },
     "execution_count": 35,
     "metadata": {},
     "output_type": "execute_result"
    }
   ],
   "source": [
    "month_tuples = list(months_indexes.combo)\n",
    "# list(month_tuples)\n",
    "# month_tuples\n",
    "month_tuples"
   ]
  },
  {
   "cell_type": "code",
   "execution_count": 36,
   "id": "hispanic-hamburg",
   "metadata": {},
   "outputs": [
    {
     "data": {
      "text/plain": [
       "['January',\n",
       " 'February',\n",
       " 'March',\n",
       " 'April',\n",
       " 'May',\n",
       " 'June',\n",
       " 'July',\n",
       " 'August',\n",
       " 'September',\n",
       " 'October',\n",
       " 'November',\n",
       " 'December']"
      ]
     },
     "execution_count": 36,
     "metadata": {},
     "output_type": "execute_result"
    }
   ],
   "source": [
    "months_ordered = sorted(month_tuples, key=lambda x: x[1])\n",
    "months_ordered = [month for month, index in months_ordered]\n",
    "# months_ordered = ['January', 'February', 'March', 'April', 'May', 'June', 'July', 'August', 'September', 'October', 'November', 'December']\n",
    "months_ordered"
   ]
  },
  {
   "cell_type": "markdown",
   "id": "greatest-offering",
   "metadata": {},
   "source": [
    "# todo: define month as categorical data; Specify logical ordering of the category ---- ordered categories"
   ]
  },
  {
   "cell_type": "code",
   "execution_count": 37,
   "id": "productive-brook",
   "metadata": {},
   "outputs": [],
   "source": [
    "month_type = pd.api.types.CategoricalDtype(categories=months_ordered, ordered=True)"
   ]
  },
  {
   "cell_type": "code",
   "execution_count": 38,
   "id": "reflected-campus",
   "metadata": {},
   "outputs": [],
   "source": [
    "vc['month'] = vc.month.astype(month_type)"
   ]
  },
  {
   "cell_type": "code",
   "execution_count": 39,
   "id": "integral-wells",
   "metadata": {},
   "outputs": [
    {
     "data": {
      "text/plain": [
       "value             int64\n",
       "year              int64\n",
       "month          category\n",
       "month_index       int64\n",
       "dtype: object"
      ]
     },
     "execution_count": 39,
     "metadata": {},
     "output_type": "execute_result"
    }
   ],
   "source": [
    "vc.dtypes"
   ]
  },
  {
   "cell_type": "code",
   "execution_count": null,
   "id": "uniform-blogger",
   "metadata": {},
   "outputs": [],
   "source": []
  },
  {
   "cell_type": "code",
   "execution_count": null,
   "id": "sized-toronto",
   "metadata": {},
   "outputs": [],
   "source": []
  },
  {
   "cell_type": "markdown",
   "id": "enhanced-attraction",
   "metadata": {},
   "source": [
    "## data for bar plot"
   ]
  },
  {
   "cell_type": "code",
   "execution_count": null,
   "id": "surrounded-topic",
   "metadata": {},
   "outputs": [],
   "source": []
  },
  {
   "cell_type": "code",
   "execution_count": 40,
   "id": "incorporated-parent",
   "metadata": {},
   "outputs": [
    {
     "data": {
      "text/html": [
       "<div>\n",
       "<style scoped>\n",
       "    .dataframe tbody tr th:only-of-type {\n",
       "        vertical-align: middle;\n",
       "    }\n",
       "\n",
       "    .dataframe tbody tr th {\n",
       "        vertical-align: top;\n",
       "    }\n",
       "\n",
       "    .dataframe thead th {\n",
       "        text-align: right;\n",
       "    }\n",
       "</style>\n",
       "<table border=\"1\" class=\"dataframe\">\n",
       "  <thead>\n",
       "    <tr style=\"text-align: right;\">\n",
       "      <th></th>\n",
       "      <th>value</th>\n",
       "      <th>year</th>\n",
       "      <th>month</th>\n",
       "    </tr>\n",
       "    <tr>\n",
       "      <th>date</th>\n",
       "      <th></th>\n",
       "      <th></th>\n",
       "      <th></th>\n",
       "    </tr>\n",
       "  </thead>\n",
       "  <tbody>\n",
       "    <tr>\n",
       "      <th>2016-05-19</th>\n",
       "      <td>19736</td>\n",
       "      <td>2016</td>\n",
       "      <td>May</td>\n",
       "    </tr>\n",
       "    <tr>\n",
       "      <th>2016-05-26</th>\n",
       "      <td>18060</td>\n",
       "      <td>2016</td>\n",
       "      <td>May</td>\n",
       "    </tr>\n",
       "    <tr>\n",
       "      <th>2016-05-27</th>\n",
       "      <td>19997</td>\n",
       "      <td>2016</td>\n",
       "      <td>May</td>\n",
       "    </tr>\n",
       "    <tr>\n",
       "      <th>2016-05-28</th>\n",
       "      <td>19044</td>\n",
       "      <td>2016</td>\n",
       "      <td>May</td>\n",
       "    </tr>\n",
       "    <tr>\n",
       "      <th>2016-05-29</th>\n",
       "      <td>20325</td>\n",
       "      <td>2016</td>\n",
       "      <td>May</td>\n",
       "    </tr>\n",
       "    <tr>\n",
       "      <th>...</th>\n",
       "      <td>...</td>\n",
       "      <td>...</td>\n",
       "      <td>...</td>\n",
       "    </tr>\n",
       "    <tr>\n",
       "      <th>2019-11-24</th>\n",
       "      <td>138875</td>\n",
       "      <td>2019</td>\n",
       "      <td>November</td>\n",
       "    </tr>\n",
       "    <tr>\n",
       "      <th>2019-11-29</th>\n",
       "      <td>171584</td>\n",
       "      <td>2019</td>\n",
       "      <td>November</td>\n",
       "    </tr>\n",
       "    <tr>\n",
       "      <th>2019-11-30</th>\n",
       "      <td>141161</td>\n",
       "      <td>2019</td>\n",
       "      <td>November</td>\n",
       "    </tr>\n",
       "    <tr>\n",
       "      <th>2019-12-01</th>\n",
       "      <td>142918</td>\n",
       "      <td>2019</td>\n",
       "      <td>December</td>\n",
       "    </tr>\n",
       "    <tr>\n",
       "      <th>2019-12-03</th>\n",
       "      <td>158549</td>\n",
       "      <td>2019</td>\n",
       "      <td>December</td>\n",
       "    </tr>\n",
       "  </tbody>\n",
       "</table>\n",
       "<p>1238 rows × 3 columns</p>\n",
       "</div>"
      ],
      "text/plain": [
       "             value  year     month\n",
       "date                              \n",
       "2016-05-19   19736  2016       May\n",
       "2016-05-26   18060  2016       May\n",
       "2016-05-27   19997  2016       May\n",
       "2016-05-28   19044  2016       May\n",
       "2016-05-29   20325  2016       May\n",
       "...            ...   ...       ...\n",
       "2019-11-24  138875  2019  November\n",
       "2019-11-29  171584  2019  November\n",
       "2019-11-30  141161  2019  November\n",
       "2019-12-01  142918  2019  December\n",
       "2019-12-03  158549  2019  December\n",
       "\n",
       "[1238 rows x 3 columns]"
      ]
     },
     "execution_count": 40,
     "metadata": {},
     "output_type": "execute_result"
    }
   ],
   "source": [
    "vc.drop(columns='month_index', inplace=True)\n",
    "vc"
   ]
  },
  {
   "cell_type": "code",
   "execution_count": null,
   "id": "representative-unknown",
   "metadata": {},
   "outputs": [],
   "source": []
  },
  {
   "cell_type": "code",
   "execution_count": 41,
   "id": "affiliated-flesh",
   "metadata": {},
   "outputs": [],
   "source": [
    "vcg = vc.groupby(['year', 'month'])"
   ]
  },
  {
   "cell_type": "code",
   "execution_count": 42,
   "id": "average-compound",
   "metadata": {},
   "outputs": [
    {
     "data": {
      "text/html": [
       "<div>\n",
       "<style scoped>\n",
       "    .dataframe tbody tr th:only-of-type {\n",
       "        vertical-align: middle;\n",
       "    }\n",
       "\n",
       "    .dataframe tbody tr th {\n",
       "        vertical-align: top;\n",
       "    }\n",
       "\n",
       "    .dataframe thead th {\n",
       "        text-align: right;\n",
       "    }\n",
       "</style>\n",
       "<table border=\"1\" class=\"dataframe\">\n",
       "  <thead>\n",
       "    <tr style=\"text-align: right;\">\n",
       "      <th></th>\n",
       "      <th></th>\n",
       "      <th>value</th>\n",
       "    </tr>\n",
       "    <tr>\n",
       "      <th>year</th>\n",
       "      <th>month</th>\n",
       "      <th></th>\n",
       "    </tr>\n",
       "  </thead>\n",
       "  <tbody>\n",
       "    <tr>\n",
       "      <th rowspan=\"10\" valign=\"top\">2016</th>\n",
       "      <th>January</th>\n",
       "      <td>NaN</td>\n",
       "    </tr>\n",
       "    <tr>\n",
       "      <th>February</th>\n",
       "      <td>NaN</td>\n",
       "    </tr>\n",
       "    <tr>\n",
       "      <th>March</th>\n",
       "      <td>NaN</td>\n",
       "    </tr>\n",
       "    <tr>\n",
       "      <th>April</th>\n",
       "      <td>NaN</td>\n",
       "    </tr>\n",
       "    <tr>\n",
       "      <th>May</th>\n",
       "      <td>19432.400000</td>\n",
       "    </tr>\n",
       "    <tr>\n",
       "      <th>June</th>\n",
       "      <td>21875.105263</td>\n",
       "    </tr>\n",
       "    <tr>\n",
       "      <th>July</th>\n",
       "      <td>24109.678571</td>\n",
       "    </tr>\n",
       "    <tr>\n",
       "      <th>August</th>\n",
       "      <td>31049.193548</td>\n",
       "    </tr>\n",
       "    <tr>\n",
       "      <th>September</th>\n",
       "      <td>41476.866667</td>\n",
       "    </tr>\n",
       "    <tr>\n",
       "      <th>October</th>\n",
       "      <td>27398.322581</td>\n",
       "    </tr>\n",
       "  </tbody>\n",
       "</table>\n",
       "</div>"
      ],
      "text/plain": [
       "                       value\n",
       "year month                  \n",
       "2016 January             NaN\n",
       "     February            NaN\n",
       "     March               NaN\n",
       "     April               NaN\n",
       "     May        19432.400000\n",
       "     June       21875.105263\n",
       "     July       24109.678571\n",
       "     August     31049.193548\n",
       "     September  41476.866667\n",
       "     October    27398.322581"
      ]
     },
     "execution_count": 42,
     "metadata": {},
     "output_type": "execute_result"
    }
   ],
   "source": [
    "vcg.mean().sort_index().head(10)"
   ]
  },
  {
   "cell_type": "code",
   "execution_count": 43,
   "id": "quick-wheel",
   "metadata": {},
   "outputs": [
    {
     "data": {
      "text/plain": [
       "<AxesSubplot:xlabel='year,month'>"
      ]
     },
     "execution_count": 43,
     "metadata": {},
     "output_type": "execute_result"
    },
    {
     "data": {
      "image/png": "[encoded data removed]",
      "text/plain": [
       "<Figure size 432x288 with 1 Axes>"
      ]
     },
     "metadata": {
      "needs_background": "light"
     },
     "output_type": "display_data"
    }
   ],
   "source": [
    "vcg.mean().sort_index().plot(kind='bar')"
   ]
  },
  {
   "cell_type": "code",
   "execution_count": null,
   "id": "parental-resolution",
   "metadata": {},
   "outputs": [],
   "source": []
  },
  {
   "cell_type": "markdown",
   "id": "polished-gossip",
   "metadata": {},
   "source": [
    "## rotate data to get year as index and months list as columns"
   ]
  },
  {
   "cell_type": "code",
   "execution_count": 44,
   "id": "reserved-killer",
   "metadata": {},
   "outputs": [],
   "source": [
    "mean = vcg.mean().sort_index()"
   ]
  },
  {
   "cell_type": "code",
   "execution_count": 45,
   "id": "dressed-monitoring",
   "metadata": {},
   "outputs": [
    {
     "data": {
      "text/html": [
       "<div>\n",
       "<style scoped>\n",
       "    .dataframe tbody tr th:only-of-type {\n",
       "        vertical-align: middle;\n",
       "    }\n",
       "\n",
       "    .dataframe tbody tr th {\n",
       "        vertical-align: top;\n",
       "    }\n",
       "\n",
       "    .dataframe thead th {\n",
       "        text-align: right;\n",
       "    }\n",
       "</style>\n",
       "<table border=\"1\" class=\"dataframe\">\n",
       "  <thead>\n",
       "    <tr style=\"text-align: right;\">\n",
       "      <th></th>\n",
       "      <th></th>\n",
       "      <th>value</th>\n",
       "    </tr>\n",
       "    <tr>\n",
       "      <th>year</th>\n",
       "      <th>month</th>\n",
       "      <th></th>\n",
       "    </tr>\n",
       "  </thead>\n",
       "  <tbody>\n",
       "    <tr>\n",
       "      <th rowspan=\"10\" valign=\"top\">2016</th>\n",
       "      <th>January</th>\n",
       "      <td>NaN</td>\n",
       "    </tr>\n",
       "    <tr>\n",
       "      <th>February</th>\n",
       "      <td>NaN</td>\n",
       "    </tr>\n",
       "    <tr>\n",
       "      <th>March</th>\n",
       "      <td>NaN</td>\n",
       "    </tr>\n",
       "    <tr>\n",
       "      <th>April</th>\n",
       "      <td>NaN</td>\n",
       "    </tr>\n",
       "    <tr>\n",
       "      <th>May</th>\n",
       "      <td>19432.400000</td>\n",
       "    </tr>\n",
       "    <tr>\n",
       "      <th>June</th>\n",
       "      <td>21875.105263</td>\n",
       "    </tr>\n",
       "    <tr>\n",
       "      <th>July</th>\n",
       "      <td>24109.678571</td>\n",
       "    </tr>\n",
       "    <tr>\n",
       "      <th>August</th>\n",
       "      <td>31049.193548</td>\n",
       "    </tr>\n",
       "    <tr>\n",
       "      <th>September</th>\n",
       "      <td>41476.866667</td>\n",
       "    </tr>\n",
       "    <tr>\n",
       "      <th>October</th>\n",
       "      <td>27398.322581</td>\n",
       "    </tr>\n",
       "  </tbody>\n",
       "</table>\n",
       "</div>"
      ],
      "text/plain": [
       "                       value\n",
       "year month                  \n",
       "2016 January             NaN\n",
       "     February            NaN\n",
       "     March               NaN\n",
       "     April               NaN\n",
       "     May        19432.400000\n",
       "     June       21875.105263\n",
       "     July       24109.678571\n",
       "     August     31049.193548\n",
       "     September  41476.866667\n",
       "     October    27398.322581"
      ]
     },
     "execution_count": 45,
     "metadata": {},
     "output_type": "execute_result"
    }
   ],
   "source": [
    "mean.head(10)"
   ]
  },
  {
   "cell_type": "code",
   "execution_count": 46,
   "id": "vocal-equipment",
   "metadata": {},
   "outputs": [
    {
     "data": {
      "text/html": [
       "<div>\n",
       "<style scoped>\n",
       "    .dataframe tbody tr th:only-of-type {\n",
       "        vertical-align: middle;\n",
       "    }\n",
       "\n",
       "    .dataframe tbody tr th {\n",
       "        vertical-align: top;\n",
       "    }\n",
       "\n",
       "    .dataframe thead tr th {\n",
       "        text-align: left;\n",
       "    }\n",
       "\n",
       "    .dataframe thead tr:last-of-type th {\n",
       "        text-align: right;\n",
       "    }\n",
       "</style>\n",
       "<table border=\"1\" class=\"dataframe\">\n",
       "  <thead>\n",
       "    <tr>\n",
       "      <th></th>\n",
       "      <th colspan=\"12\" halign=\"left\">value</th>\n",
       "    </tr>\n",
       "    <tr>\n",
       "      <th>month</th>\n",
       "      <th>January</th>\n",
       "      <th>February</th>\n",
       "      <th>March</th>\n",
       "      <th>April</th>\n",
       "      <th>May</th>\n",
       "      <th>June</th>\n",
       "      <th>July</th>\n",
       "      <th>August</th>\n",
       "      <th>September</th>\n",
       "      <th>October</th>\n",
       "      <th>November</th>\n",
       "      <th>December</th>\n",
       "    </tr>\n",
       "    <tr>\n",
       "      <th>year</th>\n",
       "      <th></th>\n",
       "      <th></th>\n",
       "      <th></th>\n",
       "      <th></th>\n",
       "      <th></th>\n",
       "      <th></th>\n",
       "      <th></th>\n",
       "      <th></th>\n",
       "      <th></th>\n",
       "      <th></th>\n",
       "      <th></th>\n",
       "      <th></th>\n",
       "    </tr>\n",
       "  </thead>\n",
       "  <tbody>\n",
       "    <tr>\n",
       "      <th>2016</th>\n",
       "      <td>NaN</td>\n",
       "      <td>NaN</td>\n",
       "      <td>NaN</td>\n",
       "      <td>NaN</td>\n",
       "      <td>19432.400000</td>\n",
       "      <td>21875.105263</td>\n",
       "      <td>24109.678571</td>\n",
       "      <td>31049.193548</td>\n",
       "      <td>41476.866667</td>\n",
       "      <td>27398.322581</td>\n",
       "      <td>40448.633333</td>\n",
       "      <td>27832.419355</td>\n",
       "    </tr>\n",
       "    <tr>\n",
       "      <th>2017</th>\n",
       "      <td>32785.161290</td>\n",
       "      <td>31113.071429</td>\n",
       "      <td>29369.096774</td>\n",
       "      <td>30878.733333</td>\n",
       "      <td>34244.290323</td>\n",
       "      <td>43577.500000</td>\n",
       "      <td>65806.838710</td>\n",
       "      <td>47712.451613</td>\n",
       "      <td>47376.800000</td>\n",
       "      <td>47438.709677</td>\n",
       "      <td>57701.566667</td>\n",
       "      <td>48420.580645</td>\n",
       "    </tr>\n",
       "    <tr>\n",
       "      <th>2018</th>\n",
       "      <td>58580.096774</td>\n",
       "      <td>65679.000000</td>\n",
       "      <td>62693.774194</td>\n",
       "      <td>62350.833333</td>\n",
       "      <td>56562.870968</td>\n",
       "      <td>70117.000000</td>\n",
       "      <td>63591.064516</td>\n",
       "      <td>62831.612903</td>\n",
       "      <td>65941.733333</td>\n",
       "      <td>111378.142857</td>\n",
       "      <td>78688.333333</td>\n",
       "      <td>80047.483871</td>\n",
       "    </tr>\n",
       "    <tr>\n",
       "      <th>2019</th>\n",
       "      <td>102056.516129</td>\n",
       "      <td>105968.357143</td>\n",
       "      <td>91214.483871</td>\n",
       "      <td>89368.433333</td>\n",
       "      <td>91439.903226</td>\n",
       "      <td>90435.642857</td>\n",
       "      <td>97236.566667</td>\n",
       "      <td>102717.310345</td>\n",
       "      <td>97268.833333</td>\n",
       "      <td>122802.272727</td>\n",
       "      <td>143166.428571</td>\n",
       "      <td>150733.500000</td>\n",
       "    </tr>\n",
       "  </tbody>\n",
       "</table>\n",
       "</div>"
      ],
      "text/plain": [
       "               value                                                           \\\n",
       "month        January       February         March         April           May   \n",
       "year                                                                            \n",
       "2016             NaN            NaN           NaN           NaN  19432.400000   \n",
       "2017    32785.161290   31113.071429  29369.096774  30878.733333  34244.290323   \n",
       "2018    58580.096774   65679.000000  62693.774194  62350.833333  56562.870968   \n",
       "2019   102056.516129  105968.357143  91214.483871  89368.433333  91439.903226   \n",
       "\n",
       "                                                                               \\\n",
       "month          June          July         August     September        October   \n",
       "year                                                                            \n",
       "2016   21875.105263  24109.678571   31049.193548  41476.866667   27398.322581   \n",
       "2017   43577.500000  65806.838710   47712.451613  47376.800000   47438.709677   \n",
       "2018   70117.000000  63591.064516   62831.612903  65941.733333  111378.142857   \n",
       "2019   90435.642857  97236.566667  102717.310345  97268.833333  122802.272727   \n",
       "\n",
       "                                     \n",
       "month       November       December  \n",
       "year                                 \n",
       "2016    40448.633333   27832.419355  \n",
       "2017    57701.566667   48420.580645  \n",
       "2018    78688.333333   80047.483871  \n",
       "2019   143166.428571  150733.500000  "
      ]
     },
     "execution_count": 46,
     "metadata": {},
     "output_type": "execute_result"
    }
   ],
   "source": [
    "xx = mean.unstack()\n",
    "xx"
   ]
  },
  {
   "cell_type": "code",
   "execution_count": 48,
   "id": "blank-somalia",
   "metadata": {},
   "outputs": [
    {
     "data": {
      "text/plain": [
       "Int64Index([2016, 2017, 2018, 2019], dtype='int64', name='year')"
      ]
     },
     "execution_count": 48,
     "metadata": {},
     "output_type": "execute_result"
    }
   ],
   "source": [
    "xx.index"
   ]
  },
  {
   "cell_type": "code",
   "execution_count": 49,
   "id": "mechanical-mistress",
   "metadata": {},
   "outputs": [
    {
     "data": {
      "text/plain": [
       "MultiIndex([('value',   'January'),\n",
       "            ('value',  'February'),\n",
       "            ('value',     'March'),\n",
       "            ('value',     'April'),\n",
       "            ('value',       'May'),\n",
       "            ('value',      'June'),\n",
       "            ('value',      'July'),\n",
       "            ('value',    'August'),\n",
       "            ('value', 'September'),\n",
       "            ('value',   'October'),\n",
       "            ('value',  'November'),\n",
       "            ('value',  'December')],\n",
       "           names=[None, 'month'])"
      ]
     },
     "execution_count": 49,
     "metadata": {},
     "output_type": "execute_result"
    }
   ],
   "source": [
    "xx.columns"
   ]
  },
  {
   "cell_type": "code",
   "execution_count": 50,
   "id": "medium-citation",
   "metadata": {},
   "outputs": [],
   "source": [
    "xx.columns = months_ordered"
   ]
  },
  {
   "cell_type": "code",
   "execution_count": 53,
   "id": "cathedral-greeting",
   "metadata": {},
   "outputs": [
    {
     "data": {
      "text/html": [
       "<div>\n",
       "<style scoped>\n",
       "    .dataframe tbody tr th:only-of-type {\n",
       "        vertical-align: middle;\n",
       "    }\n",
       "\n",
       "    .dataframe tbody tr th {\n",
       "        vertical-align: top;\n",
       "    }\n",
       "\n",
       "    .dataframe thead th {\n",
       "        text-align: right;\n",
       "    }\n",
       "</style>\n",
       "<table border=\"1\" class=\"dataframe\">\n",
       "  <thead>\n",
       "    <tr style=\"text-align: right;\">\n",
       "      <th></th>\n",
       "      <th>January</th>\n",
       "      <th>February</th>\n",
       "      <th>March</th>\n",
       "      <th>April</th>\n",
       "      <th>May</th>\n",
       "      <th>June</th>\n",
       "      <th>July</th>\n",
       "      <th>August</th>\n",
       "      <th>September</th>\n",
       "      <th>October</th>\n",
       "      <th>November</th>\n",
       "      <th>December</th>\n",
       "    </tr>\n",
       "    <tr>\n",
       "      <th>year</th>\n",
       "      <th></th>\n",
       "      <th></th>\n",
       "      <th></th>\n",
       "      <th></th>\n",
       "      <th></th>\n",
       "      <th></th>\n",
       "      <th></th>\n",
       "      <th></th>\n",
       "      <th></th>\n",
       "      <th></th>\n",
       "      <th></th>\n",
       "      <th></th>\n",
       "    </tr>\n",
       "  </thead>\n",
       "  <tbody>\n",
       "    <tr>\n",
       "      <th>2016</th>\n",
       "      <td>NaN</td>\n",
       "      <td>NaN</td>\n",
       "      <td>NaN</td>\n",
       "      <td>NaN</td>\n",
       "      <td>19432.400000</td>\n",
       "      <td>21875.105263</td>\n",
       "      <td>24109.678571</td>\n",
       "      <td>31049.193548</td>\n",
       "      <td>41476.866667</td>\n",
       "      <td>27398.322581</td>\n",
       "      <td>40448.633333</td>\n",
       "      <td>27832.419355</td>\n",
       "    </tr>\n",
       "    <tr>\n",
       "      <th>2017</th>\n",
       "      <td>32785.161290</td>\n",
       "      <td>31113.071429</td>\n",
       "      <td>29369.096774</td>\n",
       "      <td>30878.733333</td>\n",
       "      <td>34244.290323</td>\n",
       "      <td>43577.500000</td>\n",
       "      <td>65806.838710</td>\n",
       "      <td>47712.451613</td>\n",
       "      <td>47376.800000</td>\n",
       "      <td>47438.709677</td>\n",
       "      <td>57701.566667</td>\n",
       "      <td>48420.580645</td>\n",
       "    </tr>\n",
       "    <tr>\n",
       "      <th>2018</th>\n",
       "      <td>58580.096774</td>\n",
       "      <td>65679.000000</td>\n",
       "      <td>62693.774194</td>\n",
       "      <td>62350.833333</td>\n",
       "      <td>56562.870968</td>\n",
       "      <td>70117.000000</td>\n",
       "      <td>63591.064516</td>\n",
       "      <td>62831.612903</td>\n",
       "      <td>65941.733333</td>\n",
       "      <td>111378.142857</td>\n",
       "      <td>78688.333333</td>\n",
       "      <td>80047.483871</td>\n",
       "    </tr>\n",
       "    <tr>\n",
       "      <th>2019</th>\n",
       "      <td>102056.516129</td>\n",
       "      <td>105968.357143</td>\n",
       "      <td>91214.483871</td>\n",
       "      <td>89368.433333</td>\n",
       "      <td>91439.903226</td>\n",
       "      <td>90435.642857</td>\n",
       "      <td>97236.566667</td>\n",
       "      <td>102717.310345</td>\n",
       "      <td>97268.833333</td>\n",
       "      <td>122802.272727</td>\n",
       "      <td>143166.428571</td>\n",
       "      <td>150733.500000</td>\n",
       "    </tr>\n",
       "  </tbody>\n",
       "</table>\n",
       "</div>"
      ],
      "text/plain": [
       "            January       February         March         April           May  \\\n",
       "year                                                                           \n",
       "2016            NaN            NaN           NaN           NaN  19432.400000   \n",
       "2017   32785.161290   31113.071429  29369.096774  30878.733333  34244.290323   \n",
       "2018   58580.096774   65679.000000  62693.774194  62350.833333  56562.870968   \n",
       "2019  102056.516129  105968.357143  91214.483871  89368.433333  91439.903226   \n",
       "\n",
       "              June          July         August     September        October  \\\n",
       "year                                                                           \n",
       "2016  21875.105263  24109.678571   31049.193548  41476.866667   27398.322581   \n",
       "2017  43577.500000  65806.838710   47712.451613  47376.800000   47438.709677   \n",
       "2018  70117.000000  63591.064516   62831.612903  65941.733333  111378.142857   \n",
       "2019  90435.642857  97236.566667  102717.310345  97268.833333  122802.272727   \n",
       "\n",
       "           November       December  \n",
       "year                                \n",
       "2016   40448.633333   27832.419355  \n",
       "2017   57701.566667   48420.580645  \n",
       "2018   78688.333333   80047.483871  \n",
       "2019  143166.428571  150733.500000  "
      ]
     },
     "execution_count": 53,
     "metadata": {},
     "output_type": "execute_result"
    }
   ],
   "source": [
    "xx"
   ]
  },
  {
   "cell_type": "code",
   "execution_count": 75,
   "id": "fuzzy-eating",
   "metadata": {},
   "outputs": [
    {
     "data": {
      "image/png": "[encoded data removed]",
      "text/plain": [
       "<Figure size 432x288 with 1 Axes>"
      ]
     },
     "metadata": {
      "needs_background": "light"
     },
     "output_type": "display_data"
    }
   ],
   "source": [
    "ax = xx.plot(kind='bar')"
   ]
  },
  {
   "cell_type": "code",
   "execution_count": 74,
   "id": "solar-presence",
   "metadata": {},
   "outputs": [
    {
     "data": {
      "text/plain": [
       "<matplotlib.legend.Legend at 0x7fb7a517a340>"
      ]
     },
     "execution_count": 74,
     "metadata": {},
     "output_type": "execute_result"
    },
    {
     "data": {
      "image/png": "[encoded data removed]",
      "text/plain": [
       "<Figure size 432x288 with 1 Axes>"
      ]
     },
     "metadata": {
      "needs_background": "light"
     },
     "output_type": "display_data"
    }
   ],
   "source": [
    "plt.legend('YearsZ')"
   ]
  },
  {
   "cell_type": "code",
   "execution_count": 77,
   "id": "absent-mainstream",
   "metadata": {},
   "outputs": [
    {
     "data": {
      "text/plain": [
       "<AxesSubplot:xlabel='year'>"
      ]
     },
     "execution_count": 77,
     "metadata": {},
     "output_type": "execute_result"
    }
   ],
   "source": [
    "ax"
   ]
  },
  {
   "cell_type": "code",
   "execution_count": 78,
   "id": "third-delicious",
   "metadata": {},
   "outputs": [],
   "source": [
    "fig = ax.get_figure()"
   ]
  },
  {
   "cell_type": "code",
   "execution_count": 79,
   "id": "directed-intervention",
   "metadata": {},
   "outputs": [],
   "source": [
    "fig.savefig('hahaha.png', dpi=200, transparent=False)"
   ]
  },
  {
   "cell_type": "code",
   "execution_count": null,
   "id": "collaborative-median",
   "metadata": {},
   "outputs": [],
   "source": []
  },
  {
   "cell_type": "code",
   "execution_count": null,
   "id": "dressed-sweden",
   "metadata": {},
   "outputs": [],
   "source": []
  }
 ],
 "metadata": {
  "kernelspec": {
   "display_name": "Python 3",
   "language": "python",
   "name": "python3"
  },
  "language_info": {
   "codemirror_mode": {
    "name": "ipython",
    "version": 3
   },
   "file_extension": ".py",
   "mimetype": "text/x-python",
   "name": "python",
   "nbconvert_exporter": "python",
   "pygments_lexer": "ipython3",
   "version": "3.8.5"
  }
 },
 "nbformat": 4,
 "nbformat_minor": 5
}
