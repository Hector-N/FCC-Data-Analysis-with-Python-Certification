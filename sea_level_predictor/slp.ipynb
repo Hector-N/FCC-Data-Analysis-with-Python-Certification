{
 "cells": [
  {
   "cell_type": "code",
   "execution_count": 60,
   "id": "returning-electric",
   "metadata": {},
   "outputs": [],
   "source": [
    "import numpy as np\n",
    "import pandas as pd\n",
    "import seaborn as sns\n",
    "from matplotlib import pyplot as plt\n",
    "from scipy.stats import linregress\n",
    "\n",
    "%matplotlib inline"
   ]
  },
  {
   "cell_type": "code",
   "execution_count": null,
   "id": "classified-income",
   "metadata": {},
   "outputs": [],
   "source": []
  },
  {
   "cell_type": "markdown",
   "id": "operating-postage",
   "metadata": {},
   "source": [
    "##  Import data"
   ]
  },
  {
   "cell_type": "code",
   "execution_count": 50,
   "id": "starting-sandwich",
   "metadata": {},
   "outputs": [],
   "source": [
    "cols = 'Year-CSIRO Adjusted Sea Level-Lower Error Bound-Upper Error Bound-NOAA Adjusted Sea Level'.split('-')\n",
    "cols = ['Year', 'CSIRO Adjusted Sea Level', 'Lower Error Bound', 'Upper Error Bound', 'NOAA Adjusted Sea Level']"
   ]
  },
  {
   "cell_type": "code",
   "execution_count": 51,
   "id": "empty-george",
   "metadata": {},
   "outputs": [
    {
     "data": {
      "text/html": [
       "<div>\n",
       "<style scoped>\n",
       "    .dataframe tbody tr th:only-of-type {\n",
       "        vertical-align: middle;\n",
       "    }\n",
       "\n",
       "    .dataframe tbody tr th {\n",
       "        vertical-align: top;\n",
       "    }\n",
       "\n",
       "    .dataframe thead th {\n",
       "        text-align: right;\n",
       "    }\n",
       "</style>\n",
       "<table border=\"1\" class=\"dataframe\">\n",
       "  <thead>\n",
       "    <tr style=\"text-align: right;\">\n",
       "      <th></th>\n",
       "      <th>Year</th>\n",
       "      <th>CSIRO Adjusted Sea Level</th>\n",
       "      <th>Lower Error Bound</th>\n",
       "      <th>Upper Error Bound</th>\n",
       "      <th>NOAA Adjusted Sea Level</th>\n",
       "    </tr>\n",
       "  </thead>\n",
       "  <tbody>\n",
       "    <tr>\n",
       "      <th>0</th>\n",
       "      <td>1880</td>\n",
       "      <td>0.000000</td>\n",
       "      <td>-0.952756</td>\n",
       "      <td>0.952756</td>\n",
       "      <td>NaN</td>\n",
       "    </tr>\n",
       "    <tr>\n",
       "      <th>1</th>\n",
       "      <td>1881</td>\n",
       "      <td>0.220472</td>\n",
       "      <td>-0.732283</td>\n",
       "      <td>1.173228</td>\n",
       "      <td>NaN</td>\n",
       "    </tr>\n",
       "    <tr>\n",
       "      <th>2</th>\n",
       "      <td>1882</td>\n",
       "      <td>-0.440945</td>\n",
       "      <td>-1.346457</td>\n",
       "      <td>0.464567</td>\n",
       "      <td>NaN</td>\n",
       "    </tr>\n",
       "    <tr>\n",
       "      <th>3</th>\n",
       "      <td>1883</td>\n",
       "      <td>-0.232283</td>\n",
       "      <td>-1.129921</td>\n",
       "      <td>0.665354</td>\n",
       "      <td>NaN</td>\n",
       "    </tr>\n",
       "    <tr>\n",
       "      <th>4</th>\n",
       "      <td>1884</td>\n",
       "      <td>0.590551</td>\n",
       "      <td>-0.283465</td>\n",
       "      <td>1.464567</td>\n",
       "      <td>NaN</td>\n",
       "    </tr>\n",
       "    <tr>\n",
       "      <th>...</th>\n",
       "      <td>...</td>\n",
       "      <td>...</td>\n",
       "      <td>...</td>\n",
       "      <td>...</td>\n",
       "      <td>...</td>\n",
       "    </tr>\n",
       "    <tr>\n",
       "      <th>129</th>\n",
       "      <td>2009</td>\n",
       "      <td>8.586614</td>\n",
       "      <td>8.311024</td>\n",
       "      <td>8.862205</td>\n",
       "      <td>8.046354</td>\n",
       "    </tr>\n",
       "    <tr>\n",
       "      <th>130</th>\n",
       "      <td>2010</td>\n",
       "      <td>8.901575</td>\n",
       "      <td>8.618110</td>\n",
       "      <td>9.185039</td>\n",
       "      <td>8.122973</td>\n",
       "    </tr>\n",
       "    <tr>\n",
       "      <th>131</th>\n",
       "      <td>2011</td>\n",
       "      <td>8.964567</td>\n",
       "      <td>8.661417</td>\n",
       "      <td>9.267717</td>\n",
       "      <td>8.053065</td>\n",
       "    </tr>\n",
       "    <tr>\n",
       "      <th>132</th>\n",
       "      <td>2012</td>\n",
       "      <td>9.326772</td>\n",
       "      <td>8.992126</td>\n",
       "      <td>9.661417</td>\n",
       "      <td>8.457058</td>\n",
       "    </tr>\n",
       "    <tr>\n",
       "      <th>133</th>\n",
       "      <td>2013</td>\n",
       "      <td>8.980315</td>\n",
       "      <td>8.622047</td>\n",
       "      <td>9.338583</td>\n",
       "      <td>8.546648</td>\n",
       "    </tr>\n",
       "  </tbody>\n",
       "</table>\n",
       "<p>134 rows × 5 columns</p>\n",
       "</div>"
      ],
      "text/plain": [
       "     Year  CSIRO Adjusted Sea Level  Lower Error Bound  Upper Error Bound  \\\n",
       "0    1880                  0.000000          -0.952756           0.952756   \n",
       "1    1881                  0.220472          -0.732283           1.173228   \n",
       "2    1882                 -0.440945          -1.346457           0.464567   \n",
       "3    1883                 -0.232283          -1.129921           0.665354   \n",
       "4    1884                  0.590551          -0.283465           1.464567   \n",
       "..    ...                       ...                ...                ...   \n",
       "129  2009                  8.586614           8.311024           8.862205   \n",
       "130  2010                  8.901575           8.618110           9.185039   \n",
       "131  2011                  8.964567           8.661417           9.267717   \n",
       "132  2012                  9.326772           8.992126           9.661417   \n",
       "133  2013                  8.980315           8.622047           9.338583   \n",
       "\n",
       "     NOAA Adjusted Sea Level  \n",
       "0                        NaN  \n",
       "1                        NaN  \n",
       "2                        NaN  \n",
       "3                        NaN  \n",
       "4                        NaN  \n",
       "..                       ...  \n",
       "129                 8.046354  \n",
       "130                 8.122973  \n",
       "131                 8.053065  \n",
       "132                 8.457058  \n",
       "133                 8.546648  \n",
       "\n",
       "[134 rows x 5 columns]"
      ]
     },
     "execution_count": 51,
     "metadata": {},
     "output_type": "execute_result"
    }
   ],
   "source": [
    "sea = pd.read_csv('epa-sea-level.csv')\n",
    "sea"
   ]
  },
  {
   "cell_type": "code",
   "execution_count": null,
   "id": "global-savage",
   "metadata": {},
   "outputs": [],
   "source": []
  },
  {
   "cell_type": "code",
   "execution_count": 52,
   "id": "furnished-healthcare",
   "metadata": {},
   "outputs": [],
   "source": [
    "sea.rename({'Year': 'year', \n",
    "            'CSIRO Adjusted Sea Level': 'CSIRO', \n",
    "            'Lower Error Bound': 'lower', \n",
    "            'Upper Error Bound': 'upper', \n",
    "            'NOAA Adjusted Sea Level': 'NOAA'}, \n",
    "          axis='columns', \n",
    "          inplace=True)"
   ]
  },
  {
   "cell_type": "code",
   "execution_count": 53,
   "id": "deadly-hacker",
   "metadata": {},
   "outputs": [
    {
     "data": {
      "text/html": [
       "<div>\n",
       "<style scoped>\n",
       "    .dataframe tbody tr th:only-of-type {\n",
       "        vertical-align: middle;\n",
       "    }\n",
       "\n",
       "    .dataframe tbody tr th {\n",
       "        vertical-align: top;\n",
       "    }\n",
       "\n",
       "    .dataframe thead th {\n",
       "        text-align: right;\n",
       "    }\n",
       "</style>\n",
       "<table border=\"1\" class=\"dataframe\">\n",
       "  <thead>\n",
       "    <tr style=\"text-align: right;\">\n",
       "      <th></th>\n",
       "      <th>year</th>\n",
       "      <th>CSIRO</th>\n",
       "      <th>lower</th>\n",
       "      <th>upper</th>\n",
       "      <th>NOAA</th>\n",
       "    </tr>\n",
       "  </thead>\n",
       "  <tbody>\n",
       "    <tr>\n",
       "      <th>0</th>\n",
       "      <td>1880</td>\n",
       "      <td>0.000000</td>\n",
       "      <td>-0.952756</td>\n",
       "      <td>0.952756</td>\n",
       "      <td>NaN</td>\n",
       "    </tr>\n",
       "    <tr>\n",
       "      <th>1</th>\n",
       "      <td>1881</td>\n",
       "      <td>0.220472</td>\n",
       "      <td>-0.732283</td>\n",
       "      <td>1.173228</td>\n",
       "      <td>NaN</td>\n",
       "    </tr>\n",
       "    <tr>\n",
       "      <th>2</th>\n",
       "      <td>1882</td>\n",
       "      <td>-0.440945</td>\n",
       "      <td>-1.346457</td>\n",
       "      <td>0.464567</td>\n",
       "      <td>NaN</td>\n",
       "    </tr>\n",
       "    <tr>\n",
       "      <th>3</th>\n",
       "      <td>1883</td>\n",
       "      <td>-0.232283</td>\n",
       "      <td>-1.129921</td>\n",
       "      <td>0.665354</td>\n",
       "      <td>NaN</td>\n",
       "    </tr>\n",
       "    <tr>\n",
       "      <th>4</th>\n",
       "      <td>1884</td>\n",
       "      <td>0.590551</td>\n",
       "      <td>-0.283465</td>\n",
       "      <td>1.464567</td>\n",
       "      <td>NaN</td>\n",
       "    </tr>\n",
       "    <tr>\n",
       "      <th>...</th>\n",
       "      <td>...</td>\n",
       "      <td>...</td>\n",
       "      <td>...</td>\n",
       "      <td>...</td>\n",
       "      <td>...</td>\n",
       "    </tr>\n",
       "    <tr>\n",
       "      <th>129</th>\n",
       "      <td>2009</td>\n",
       "      <td>8.586614</td>\n",
       "      <td>8.311024</td>\n",
       "      <td>8.862205</td>\n",
       "      <td>8.046354</td>\n",
       "    </tr>\n",
       "    <tr>\n",
       "      <th>130</th>\n",
       "      <td>2010</td>\n",
       "      <td>8.901575</td>\n",
       "      <td>8.618110</td>\n",
       "      <td>9.185039</td>\n",
       "      <td>8.122973</td>\n",
       "    </tr>\n",
       "    <tr>\n",
       "      <th>131</th>\n",
       "      <td>2011</td>\n",
       "      <td>8.964567</td>\n",
       "      <td>8.661417</td>\n",
       "      <td>9.267717</td>\n",
       "      <td>8.053065</td>\n",
       "    </tr>\n",
       "    <tr>\n",
       "      <th>132</th>\n",
       "      <td>2012</td>\n",
       "      <td>9.326772</td>\n",
       "      <td>8.992126</td>\n",
       "      <td>9.661417</td>\n",
       "      <td>8.457058</td>\n",
       "    </tr>\n",
       "    <tr>\n",
       "      <th>133</th>\n",
       "      <td>2013</td>\n",
       "      <td>8.980315</td>\n",
       "      <td>8.622047</td>\n",
       "      <td>9.338583</td>\n",
       "      <td>8.546648</td>\n",
       "    </tr>\n",
       "  </tbody>\n",
       "</table>\n",
       "<p>134 rows × 5 columns</p>\n",
       "</div>"
      ],
      "text/plain": [
       "     year     CSIRO     lower     upper      NOAA\n",
       "0    1880  0.000000 -0.952756  0.952756       NaN\n",
       "1    1881  0.220472 -0.732283  1.173228       NaN\n",
       "2    1882 -0.440945 -1.346457  0.464567       NaN\n",
       "3    1883 -0.232283 -1.129921  0.665354       NaN\n",
       "4    1884  0.590551 -0.283465  1.464567       NaN\n",
       "..    ...       ...       ...       ...       ...\n",
       "129  2009  8.586614  8.311024  8.862205  8.046354\n",
       "130  2010  8.901575  8.618110  9.185039  8.122973\n",
       "131  2011  8.964567  8.661417  9.267717  8.053065\n",
       "132  2012  9.326772  8.992126  9.661417  8.457058\n",
       "133  2013  8.980315  8.622047  9.338583  8.546648\n",
       "\n",
       "[134 rows x 5 columns]"
      ]
     },
     "execution_count": 53,
     "metadata": {},
     "output_type": "execute_result"
    }
   ],
   "source": [
    "sea"
   ]
  },
  {
   "cell_type": "code",
   "execution_count": null,
   "id": "functional-hostel",
   "metadata": {},
   "outputs": [],
   "source": []
  },
  {
   "cell_type": "code",
   "execution_count": null,
   "id": "automated-found",
   "metadata": {},
   "outputs": [],
   "source": []
  },
  {
   "cell_type": "code",
   "execution_count": 54,
   "id": "disciplinary-garage",
   "metadata": {},
   "outputs": [
    {
     "data": {
      "text/plain": [
       "year     1881.000000\n",
       "CSIRO       0.220472\n",
       "lower      -0.732283\n",
       "upper       1.173228\n",
       "NOAA             NaN\n",
       "Name: 1, dtype: float64"
      ]
     },
     "execution_count": 54,
     "metadata": {},
     "output_type": "execute_result"
    }
   ],
   "source": [
    "rec1 = sea.iloc[1, :]\n",
    "rec1"
   ]
  },
  {
   "cell_type": "code",
   "execution_count": 55,
   "id": "serial-usage",
   "metadata": {},
   "outputs": [
    {
     "data": {
      "text/plain": [
       "0.44094488100000007"
      ]
     },
     "execution_count": 55,
     "metadata": {},
     "output_type": "execute_result"
    }
   ],
   "source": [
    "abs(abs(rec1.lower) - abs(rec1.upper))"
   ]
  },
  {
   "cell_type": "code",
   "execution_count": 56,
   "id": "fatty-wedding",
   "metadata": {},
   "outputs": [
    {
     "data": {
      "text/plain": [
       "0.22047244050000003"
      ]
     },
     "execution_count": 56,
     "metadata": {},
     "output_type": "execute_result"
    }
   ],
   "source": [
    "abs(abs(rec1.lower) - abs(rec1.upper)) / 2"
   ]
  },
  {
   "cell_type": "code",
   "execution_count": null,
   "id": "bored-preparation",
   "metadata": {},
   "outputs": [],
   "source": []
  },
  {
   "cell_type": "code",
   "execution_count": null,
   "id": "operational-climate",
   "metadata": {},
   "outputs": [],
   "source": []
  },
  {
   "cell_type": "code",
   "execution_count": 20,
   "id": "numerous-liechtenstein",
   "metadata": {},
   "outputs": [
    {
     "name": "stdout",
     "output_type": "stream",
     "text": [
      "<class 'pandas.core.frame.DataFrame'>\n",
      "RangeIndex: 134 entries, 0 to 133\n",
      "Data columns (total 5 columns):\n",
      " #   Column  Non-Null Count  Dtype  \n",
      "---  ------  --------------  -----  \n",
      " 0   year    134 non-null    int64  \n",
      " 1   CSIRO   134 non-null    float64\n",
      " 2   lower   134 non-null    float64\n",
      " 3   upper   134 non-null    float64\n",
      " 4   NOAA    21 non-null     float64\n",
      "dtypes: float64(4), int64(1)\n",
      "memory usage: 5.4 KB\n"
     ]
    }
   ],
   "source": [
    "sea.info()"
   ]
  },
  {
   "cell_type": "code",
   "execution_count": 21,
   "id": "passive-comparison",
   "metadata": {},
   "outputs": [
    {
     "data": {
      "text/plain": [
       "array([1880, 1881, 1882, 1883, 1884, 1885, 1886, 1887, 1888, 1889, 1890,\n",
       "       1891, 1892, 1893, 1894, 1895, 1896, 1897, 1898, 1899, 1900, 1901,\n",
       "       1902, 1903, 1904, 1905, 1906, 1907, 1908, 1909, 1910, 1911, 1912,\n",
       "       1913, 1914, 1915, 1916, 1917, 1918, 1919, 1920, 1921, 1922, 1923,\n",
       "       1924, 1925, 1926, 1927, 1928, 1929, 1930, 1931, 1932, 1933, 1934,\n",
       "       1935, 1936, 1937, 1938, 1939, 1940, 1941, 1942, 1943, 1944, 1945,\n",
       "       1946, 1947, 1948, 1949, 1950, 1951, 1952, 1953, 1954, 1955, 1956,\n",
       "       1957, 1958, 1959, 1960, 1961, 1962, 1963, 1964, 1965, 1966, 1967,\n",
       "       1968, 1969, 1970, 1971, 1972, 1973, 1974, 1975, 1976, 1977, 1978,\n",
       "       1979, 1980, 1981, 1982, 1983, 1984, 1985, 1986, 1987, 1988, 1989,\n",
       "       1990, 1991, 1992, 1993, 1994, 1995, 1996, 1997, 1998, 1999, 2000,\n",
       "       2001, 2002, 2003, 2004, 2005, 2006, 2007, 2008, 2009, 2010, 2011,\n",
       "       2012, 2013])"
      ]
     },
     "execution_count": 21,
     "metadata": {},
     "output_type": "execute_result"
    }
   ],
   "source": [
    "sea.year.unique()"
   ]
  },
  {
   "cell_type": "code",
   "execution_count": 22,
   "id": "continued-geneva",
   "metadata": {},
   "outputs": [
    {
     "data": {
      "text/plain": [
       "True"
      ]
     },
     "execution_count": 22,
     "metadata": {},
     "output_type": "execute_result"
    }
   ],
   "source": [
    "sea.year.is_unique"
   ]
  },
  {
   "cell_type": "code",
   "execution_count": 25,
   "id": "ecological-style",
   "metadata": {},
   "outputs": [
    {
     "data": {
      "text/html": [
       "<div>\n",
       "<style scoped>\n",
       "    .dataframe tbody tr th:only-of-type {\n",
       "        vertical-align: middle;\n",
       "    }\n",
       "\n",
       "    .dataframe tbody tr th {\n",
       "        vertical-align: top;\n",
       "    }\n",
       "\n",
       "    .dataframe thead th {\n",
       "        text-align: right;\n",
       "    }\n",
       "</style>\n",
       "<table border=\"1\" class=\"dataframe\">\n",
       "  <thead>\n",
       "    <tr style=\"text-align: right;\">\n",
       "      <th></th>\n",
       "      <th>year</th>\n",
       "      <th>CSIRO</th>\n",
       "      <th>lower</th>\n",
       "      <th>upper</th>\n",
       "      <th>NOAA</th>\n",
       "    </tr>\n",
       "  </thead>\n",
       "  <tbody>\n",
       "    <tr>\n",
       "      <th>113</th>\n",
       "      <td>1993</td>\n",
       "      <td>6.291339</td>\n",
       "      <td>6.027559</td>\n",
       "      <td>6.555118</td>\n",
       "      <td>6.297493</td>\n",
       "    </tr>\n",
       "    <tr>\n",
       "      <th>114</th>\n",
       "      <td>1994</td>\n",
       "      <td>6.500000</td>\n",
       "      <td>6.236220</td>\n",
       "      <td>6.763780</td>\n",
       "      <td>6.310934</td>\n",
       "    </tr>\n",
       "    <tr>\n",
       "      <th>115</th>\n",
       "      <td>1995</td>\n",
       "      <td>6.618110</td>\n",
       "      <td>6.354331</td>\n",
       "      <td>6.881890</td>\n",
       "      <td>6.452569</td>\n",
       "    </tr>\n",
       "    <tr>\n",
       "      <th>116</th>\n",
       "      <td>1996</td>\n",
       "      <td>6.787402</td>\n",
       "      <td>6.523622</td>\n",
       "      <td>7.051181</td>\n",
       "      <td>6.627631</td>\n",
       "    </tr>\n",
       "    <tr>\n",
       "      <th>117</th>\n",
       "      <td>1997</td>\n",
       "      <td>7.066929</td>\n",
       "      <td>6.803150</td>\n",
       "      <td>7.330709</td>\n",
       "      <td>6.733920</td>\n",
       "    </tr>\n",
       "    <tr>\n",
       "      <th>118</th>\n",
       "      <td>1998</td>\n",
       "      <td>6.665354</td>\n",
       "      <td>6.393701</td>\n",
       "      <td>6.937008</td>\n",
       "      <td>6.865806</td>\n",
       "    </tr>\n",
       "    <tr>\n",
       "      <th>119</th>\n",
       "      <td>1999</td>\n",
       "      <td>7.011811</td>\n",
       "      <td>6.736220</td>\n",
       "      <td>7.287402</td>\n",
       "      <td>6.848690</td>\n",
       "    </tr>\n",
       "    <tr>\n",
       "      <th>120</th>\n",
       "      <td>2000</td>\n",
       "      <td>7.062992</td>\n",
       "      <td>6.791339</td>\n",
       "      <td>7.334646</td>\n",
       "      <td>6.920582</td>\n",
       "    </tr>\n",
       "    <tr>\n",
       "      <th>121</th>\n",
       "      <td>2001</td>\n",
       "      <td>7.287402</td>\n",
       "      <td>7.019685</td>\n",
       "      <td>7.555118</td>\n",
       "      <td>7.087460</td>\n",
       "    </tr>\n",
       "    <tr>\n",
       "      <th>122</th>\n",
       "      <td>2002</td>\n",
       "      <td>7.381890</td>\n",
       "      <td>7.110236</td>\n",
       "      <td>7.653543</td>\n",
       "      <td>7.319698</td>\n",
       "    </tr>\n",
       "    <tr>\n",
       "      <th>123</th>\n",
       "      <td>2003</td>\n",
       "      <td>7.759843</td>\n",
       "      <td>7.484252</td>\n",
       "      <td>8.035433</td>\n",
       "      <td>7.488353</td>\n",
       "    </tr>\n",
       "    <tr>\n",
       "      <th>124</th>\n",
       "      <td>2004</td>\n",
       "      <td>7.740157</td>\n",
       "      <td>7.464567</td>\n",
       "      <td>8.015748</td>\n",
       "      <td>7.507933</td>\n",
       "    </tr>\n",
       "    <tr>\n",
       "      <th>125</th>\n",
       "      <td>2005</td>\n",
       "      <td>7.744094</td>\n",
       "      <td>7.472441</td>\n",
       "      <td>8.015748</td>\n",
       "      <td>7.644563</td>\n",
       "    </tr>\n",
       "    <tr>\n",
       "      <th>126</th>\n",
       "      <td>2006</td>\n",
       "      <td>7.917323</td>\n",
       "      <td>7.645669</td>\n",
       "      <td>8.188976</td>\n",
       "      <td>7.697420</td>\n",
       "    </tr>\n",
       "    <tr>\n",
       "      <th>127</th>\n",
       "      <td>2007</td>\n",
       "      <td>7.996063</td>\n",
       "      <td>7.712598</td>\n",
       "      <td>8.279528</td>\n",
       "      <td>7.702147</td>\n",
       "    </tr>\n",
       "    <tr>\n",
       "      <th>128</th>\n",
       "      <td>2008</td>\n",
       "      <td>8.350394</td>\n",
       "      <td>8.078740</td>\n",
       "      <td>8.622047</td>\n",
       "      <td>7.907365</td>\n",
       "    </tr>\n",
       "    <tr>\n",
       "      <th>129</th>\n",
       "      <td>2009</td>\n",
       "      <td>8.586614</td>\n",
       "      <td>8.311024</td>\n",
       "      <td>8.862205</td>\n",
       "      <td>8.046354</td>\n",
       "    </tr>\n",
       "    <tr>\n",
       "      <th>130</th>\n",
       "      <td>2010</td>\n",
       "      <td>8.901575</td>\n",
       "      <td>8.618110</td>\n",
       "      <td>9.185039</td>\n",
       "      <td>8.122973</td>\n",
       "    </tr>\n",
       "    <tr>\n",
       "      <th>131</th>\n",
       "      <td>2011</td>\n",
       "      <td>8.964567</td>\n",
       "      <td>8.661417</td>\n",
       "      <td>9.267717</td>\n",
       "      <td>8.053065</td>\n",
       "    </tr>\n",
       "    <tr>\n",
       "      <th>132</th>\n",
       "      <td>2012</td>\n",
       "      <td>9.326772</td>\n",
       "      <td>8.992126</td>\n",
       "      <td>9.661417</td>\n",
       "      <td>8.457058</td>\n",
       "    </tr>\n",
       "    <tr>\n",
       "      <th>133</th>\n",
       "      <td>2013</td>\n",
       "      <td>8.980315</td>\n",
       "      <td>8.622047</td>\n",
       "      <td>9.338583</td>\n",
       "      <td>8.546648</td>\n",
       "    </tr>\n",
       "  </tbody>\n",
       "</table>\n",
       "</div>"
      ],
      "text/plain": [
       "     year     CSIRO     lower     upper      NOAA\n",
       "113  1993  6.291339  6.027559  6.555118  6.297493\n",
       "114  1994  6.500000  6.236220  6.763780  6.310934\n",
       "115  1995  6.618110  6.354331  6.881890  6.452569\n",
       "116  1996  6.787402  6.523622  7.051181  6.627631\n",
       "117  1997  7.066929  6.803150  7.330709  6.733920\n",
       "118  1998  6.665354  6.393701  6.937008  6.865806\n",
       "119  1999  7.011811  6.736220  7.287402  6.848690\n",
       "120  2000  7.062992  6.791339  7.334646  6.920582\n",
       "121  2001  7.287402  7.019685  7.555118  7.087460\n",
       "122  2002  7.381890  7.110236  7.653543  7.319698\n",
       "123  2003  7.759843  7.484252  8.035433  7.488353\n",
       "124  2004  7.740157  7.464567  8.015748  7.507933\n",
       "125  2005  7.744094  7.472441  8.015748  7.644563\n",
       "126  2006  7.917323  7.645669  8.188976  7.697420\n",
       "127  2007  7.996063  7.712598  8.279528  7.702147\n",
       "128  2008  8.350394  8.078740  8.622047  7.907365\n",
       "129  2009  8.586614  8.311024  8.862205  8.046354\n",
       "130  2010  8.901575  8.618110  9.185039  8.122973\n",
       "131  2011  8.964567  8.661417  9.267717  8.053065\n",
       "132  2012  9.326772  8.992126  9.661417  8.457058\n",
       "133  2013  8.980315  8.622047  9.338583  8.546648"
      ]
     },
     "execution_count": 25,
     "metadata": {},
     "output_type": "execute_result"
    }
   ],
   "source": [
    "sea[~sea.NOAA.isna()]"
   ]
  },
  {
   "cell_type": "code",
   "execution_count": null,
   "id": "valuable-graphic",
   "metadata": {},
   "outputs": [],
   "source": []
  },
  {
   "cell_type": "code",
   "execution_count": null,
   "id": "active-explosion",
   "metadata": {},
   "outputs": [],
   "source": [
    "sea."
   ]
  },
  {
   "cell_type": "markdown",
   "id": "protected-recognition",
   "metadata": {},
   "source": [
    "## Use matplotlib to create a scatter plot using the \"Year\" column as the x-axis and the \"CSIRO Adjusted Sea Level\" column as the y-axix.\n"
   ]
  },
  {
   "cell_type": "code",
   "execution_count": 107,
   "id": "unexpected-still",
   "metadata": {},
   "outputs": [
    {
     "data": {
      "image/png": "[encoded data removed]",
      "text/plain": [
       "<Figure size 1152x576 with 1 Axes>"
      ]
     },
     "metadata": {
      "needs_background": "light"
     },
     "output_type": "display_data"
    }
   ],
   "source": [
    "fig = plt.figure(figsize=(16, 8))\n",
    "axes = fig.add_axes([0, 0, 1, 1])\n",
    "axes.set_title('Rise in Sea Level')\n",
    "axes.set_xlabel('Year')\n",
    "axes.set_ylabel('Sea Level (inches)')\n",
    "\n",
    "\n",
    "\n",
    "plt.grid()\n",
    "plt.scatter('year', 'CSIRO', data=sea)\n",
    "\n",
    "lin = linregress(sea.year, sea.CSIRO)\n",
    "plt.plot(sea.year, (lin.intercept + lin.slope * sea.year), 'c')\n",
    "axes.xaxis.lablepad = 10"
   ]
  },
  {
   "cell_type": "code",
   "execution_count": 105,
   "id": "cross-secretariat",
   "metadata": {},
   "outputs": [],
   "source": [
    "axes.xaxis?"
   ]
  },
  {
   "cell_type": "code",
   "execution_count": 106,
   "id": "indian-genius",
   "metadata": {},
   "outputs": [
    {
     "data": {
      "text/plain": [
       "Text(0.5, 17.200000000000003, 'Year')"
      ]
     },
     "execution_count": 106,
     "metadata": {},
     "output_type": "execute_result"
    }
   ],
   "source": [
    "axes.xaxis.label"
   ]
  },
  {
   "cell_type": "code",
   "execution_count": null,
   "id": "perceived-charger",
   "metadata": {},
   "outputs": [],
   "source": []
  },
  {
   "cell_type": "code",
   "execution_count": null,
   "id": "changed-welding",
   "metadata": {},
   "outputs": [],
   "source": []
  },
  {
   "cell_type": "code",
   "execution_count": 96,
   "id": "refined-convertible",
   "metadata": {},
   "outputs": [
    {
     "data": {
      "text/plain": [
       "0      1880\n",
       "1      1881\n",
       "2      1882\n",
       "3      1883\n",
       "4      1884\n",
       "       ... \n",
       "129    2009\n",
       "130    2010\n",
       "131    2011\n",
       "132    2012\n",
       "133    2013\n",
       "Name: year, Length: 134, dtype: int64"
      ]
     },
     "execution_count": 96,
     "metadata": {},
     "output_type": "execute_result"
    }
   ],
   "source": [
    "sea.year"
   ]
  },
  {
   "cell_type": "code",
   "execution_count": 98,
   "id": "minute-moral",
   "metadata": {},
   "outputs": [
    {
     "data": {
      "text/plain": [
       "0     -0.542124\n",
       "1     -0.479079\n",
       "2     -0.416035\n",
       "3     -0.352990\n",
       "4     -0.289946\n",
       "         ...   \n",
       "129    7.590627\n",
       "130    7.653672\n",
       "131    7.716716\n",
       "132    7.779761\n",
       "133    7.842806\n",
       "Name: year, Length: 134, dtype: float64"
      ]
     },
     "execution_count": 98,
     "metadata": {},
     "output_type": "execute_result"
    }
   ],
   "source": [
    "lin.intercept + lin.slope * sea.year"
   ]
  },
  {
   "cell_type": "code",
   "execution_count": null,
   "id": "cultural-earthquake",
   "metadata": {},
   "outputs": [],
   "source": []
  },
  {
   "cell_type": "code",
   "execution_count": 89,
   "id": "likely-justice",
   "metadata": {},
   "outputs": [
    {
     "data": {
      "text/plain": [
       "LinregressResult(slope=0.06304458401213482, intercept=-119.06594196773983, rvalue=0.9847571311825853, pvalue=3.788696979107662e-102, stderr=0.000969211871328706, intercept_stderr=1.886943381242505)"
      ]
     },
     "execution_count": 89,
     "metadata": {},
     "output_type": "execute_result"
    }
   ],
   "source": [
    "lin = linregress(sea.year, sea.CSIRO)\n",
    "lin"
   ]
  },
  {
   "cell_type": "code",
   "execution_count": 93,
   "id": "compact-camcorder",
   "metadata": {},
   "outputs": [
    {
     "data": {
      "text/plain": [
       "[<matplotlib.lines.Line2D at 0x7f4bd36a4f70>]"
      ]
     },
     "execution_count": 93,
     "metadata": {},
     "output_type": "execute_result"
    },
    {
     "data": {
      "image/png": "[encoded data removed]",
      "text/plain": [
       "<Figure size 432x288 with 1 Axes>"
      ]
     },
     "metadata": {
      "needs_background": "light"
     },
     "output_type": "display_data"
    }
   ],
   "source": [
    "plt.plot(sea.year, (lin.intercept + lin.slope * sea.year))"
   ]
  },
  {
   "cell_type": "code",
   "execution_count": null,
   "id": "piano-retirement",
   "metadata": {},
   "outputs": [],
   "source": []
  },
  {
   "cell_type": "code",
   "execution_count": null,
   "id": "focused-rolling",
   "metadata": {},
   "outputs": [],
   "source": []
  },
  {
   "cell_type": "markdown",
   "id": "unauthorized-renewal",
   "metadata": {},
   "source": [
    "##  Use the linregress function from scipi.stats to get the slope and y-intercept of the line of best fit. Plot the line of best fit over the top of the scatter plot. Make the line go through the year 2050 to predict the sea level rise in 2050."
   ]
  },
  {
   "cell_type": "code",
   "execution_count": 62,
   "id": "retained-elements",
   "metadata": {},
   "outputs": [],
   "source": [
    "linregress?"
   ]
  },
  {
   "cell_type": "code",
   "execution_count": 71,
   "id": "stretch-internship",
   "metadata": {},
   "outputs": [
    {
     "name": "stdout",
     "output_type": "stream",
     "text": [
      "x is: [0.24580423 0.59642861 0.35879163 0.37891011 0.02445137 0.23830957\n",
      " 0.38793433 0.68054104 0.83934083 0.76073689]\n",
      "y is: [0.61502838 1.01772738 1.35351035 1.32799754 0.23326104 0.89275698\n",
      " 0.689498   1.48300835 2.324673   1.52208752]\n",
      "LinregressResult(slope=1.9448642607472157, intercept=0.26857823524544844, rvalue=0.8576118231957234, pvalue=0.00150893132301119, stderr=0.4123518909028, intercept_stderr=0.21197787984168337)\n",
      "R-squared: 0.735498\n"
     ]
    },
    {
     "data": {
      "image/png": "[encoded data removed]",
      "text/plain": [
       "<Figure size 432x288 with 1 Axes>"
      ]
     },
     "metadata": {
      "needs_background": "light"
     },
     "output_type": "display_data"
    }
   ],
   "source": [
    "# generate data\n",
    "from scipy import stats\n",
    "\n",
    "np.random.seed(12345678)\n",
    "\n",
    "x = np.random.random(10)\n",
    "print('x is:', x)\n",
    "\n",
    "y = 1.6*x + np.random.random(10)\n",
    "print('y is:', y)\n",
    "\n",
    "# Perform the linear regression:\n",
    "res = stats.linregress(x, y)\n",
    "print(res)\n",
    "\n",
    "print(f\"R-squared: {res.rvalue**2:.6f}\")\n",
    "# R-squared: 0.735498\n",
    "\n",
    "# Plot the data along with the fitted line:\n",
    "plt.plot(x, y, 'o', label='original data')\n",
    "plt.plot(x, res.intercept + res.slope*x, 'r', label='fitted line')\n",
    "plt.legend()\n",
    "plt.show()\n"
   ]
  },
  {
   "cell_type": "code",
   "execution_count": 72,
   "id": "eastern-oliver",
   "metadata": {},
   "outputs": [
    {
     "data": {
      "text/plain": [
       "0.26857823524544844"
      ]
     },
     "execution_count": 72,
     "metadata": {},
     "output_type": "execute_result"
    }
   ],
   "source": [
    "res.intercept"
   ]
  },
  {
   "cell_type": "code",
   "execution_count": 73,
   "id": "abstract-tucson",
   "metadata": {},
   "outputs": [
    {
     "data": {
      "text/plain": [
       "1.9448642607472157"
      ]
     },
     "execution_count": 73,
     "metadata": {},
     "output_type": "execute_result"
    }
   ],
   "source": [
    "res.slope"
   ]
  },
  {
   "cell_type": "code",
   "execution_count": 90,
   "id": "driving-might",
   "metadata": {},
   "outputs": [],
   "source": [
    "res?"
   ]
  },
  {
   "cell_type": "code",
   "execution_count": null,
   "id": "victorian-mouth",
   "metadata": {},
   "outputs": [],
   "source": []
  },
  {
   "cell_type": "code",
   "execution_count": null,
   "id": "fitting-isaac",
   "metadata": {},
   "outputs": [],
   "source": []
  },
  {
   "cell_type": "code",
   "execution_count": null,
   "id": "another-evanescence",
   "metadata": {},
   "outputs": [],
   "source": []
  },
  {
   "cell_type": "code",
   "execution_count": null,
   "id": "polish-strategy",
   "metadata": {},
   "outputs": [],
   "source": []
  },
  {
   "cell_type": "code",
   "execution_count": null,
   "id": "correct-reality",
   "metadata": {},
   "outputs": [],
   "source": []
  },
  {
   "cell_type": "code",
   "execution_count": null,
   "id": "proof-uncle",
   "metadata": {},
   "outputs": [],
   "source": []
  }
 ],
 "metadata": {
  "kernelspec": {
   "display_name": "Python 3",
   "language": "python",
   "name": "python3"
  },
  "language_info": {
   "codemirror_mode": {
    "name": "ipython",
    "version": 3
   },
   "file_extension": ".py",
   "mimetype": "text/x-python",
   "name": "python",
   "nbconvert_exporter": "python",
   "pygments_lexer": "ipython3",
   "version": "3.8.5"
  }
 },
 "nbformat": 4,
 "nbformat_minor": 5
}
