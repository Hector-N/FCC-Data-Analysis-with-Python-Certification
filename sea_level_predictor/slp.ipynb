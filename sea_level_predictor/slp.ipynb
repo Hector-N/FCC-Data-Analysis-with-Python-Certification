{
 "cells": [
  {
   "cell_type": "code",
   "execution_count": 1,
   "id": "returning-electric",
   "metadata": {},
   "outputs": [],
   "source": [
    "import numpy as np\n",
    "import pandas as pd\n",
    "import seaborn as sns\n",
    "from matplotlib import pyplot as plt\n",
    "from scipy.stats import linregress\n",
    "\n",
    "%matplotlib inline"
   ]
  },
  {
   "cell_type": "code",
   "execution_count": null,
   "id": "classified-income",
   "metadata": {},
   "outputs": [],
   "source": []
  },
  {
   "cell_type": "markdown",
   "id": "operating-postage",
   "metadata": {},
   "source": [
    "##  Import data"
   ]
  },
  {
   "cell_type": "code",
   "execution_count": 4,
   "id": "starting-sandwich",
   "metadata": {},
   "outputs": [],
   "source": [
    "# cols = 'Year-CSIRO Adjusted Sea Level-Lower Error Bound-Upper Error Bound-NOAA Adjusted Sea Level'.split('-')\n",
    "# cols = ['Year', 'CSIRO Adjusted Sea Level', 'Lower Error Bound', 'Upper Error Bound', 'NOAA Adjusted Sea Level']"
   ]
  },
  {
   "cell_type": "code",
   "execution_count": 3,
   "id": "empty-george",
   "metadata": {},
   "outputs": [
    {
     "data": {
      "text/html": [
       "<div>\n",
       "<style scoped>\n",
       "    .dataframe tbody tr th:only-of-type {\n",
       "        vertical-align: middle;\n",
       "    }\n",
       "\n",
       "    .dataframe tbody tr th {\n",
       "        vertical-align: top;\n",
       "    }\n",
       "\n",
       "    .dataframe thead th {\n",
       "        text-align: right;\n",
       "    }\n",
       "</style>\n",
       "<table border=\"1\" class=\"dataframe\">\n",
       "  <thead>\n",
       "    <tr style=\"text-align: right;\">\n",
       "      <th></th>\n",
       "      <th>Year</th>\n",
       "      <th>CSIRO Adjusted Sea Level</th>\n",
       "      <th>Lower Error Bound</th>\n",
       "      <th>Upper Error Bound</th>\n",
       "      <th>NOAA Adjusted Sea Level</th>\n",
       "    </tr>\n",
       "  </thead>\n",
       "  <tbody>\n",
       "    <tr>\n",
       "      <th>0</th>\n",
       "      <td>1880</td>\n",
       "      <td>0.000000</td>\n",
       "      <td>-0.952756</td>\n",
       "      <td>0.952756</td>\n",
       "      <td>NaN</td>\n",
       "    </tr>\n",
       "    <tr>\n",
       "      <th>1</th>\n",
       "      <td>1881</td>\n",
       "      <td>0.220472</td>\n",
       "      <td>-0.732283</td>\n",
       "      <td>1.173228</td>\n",
       "      <td>NaN</td>\n",
       "    </tr>\n",
       "    <tr>\n",
       "      <th>2</th>\n",
       "      <td>1882</td>\n",
       "      <td>-0.440945</td>\n",
       "      <td>-1.346457</td>\n",
       "      <td>0.464567</td>\n",
       "      <td>NaN</td>\n",
       "    </tr>\n",
       "    <tr>\n",
       "      <th>3</th>\n",
       "      <td>1883</td>\n",
       "      <td>-0.232283</td>\n",
       "      <td>-1.129921</td>\n",
       "      <td>0.665354</td>\n",
       "      <td>NaN</td>\n",
       "    </tr>\n",
       "    <tr>\n",
       "      <th>4</th>\n",
       "      <td>1884</td>\n",
       "      <td>0.590551</td>\n",
       "      <td>-0.283465</td>\n",
       "      <td>1.464567</td>\n",
       "      <td>NaN</td>\n",
       "    </tr>\n",
       "    <tr>\n",
       "      <th>...</th>\n",
       "      <td>...</td>\n",
       "      <td>...</td>\n",
       "      <td>...</td>\n",
       "      <td>...</td>\n",
       "      <td>...</td>\n",
       "    </tr>\n",
       "    <tr>\n",
       "      <th>129</th>\n",
       "      <td>2009</td>\n",
       "      <td>8.586614</td>\n",
       "      <td>8.311024</td>\n",
       "      <td>8.862205</td>\n",
       "      <td>8.046354</td>\n",
       "    </tr>\n",
       "    <tr>\n",
       "      <th>130</th>\n",
       "      <td>2010</td>\n",
       "      <td>8.901575</td>\n",
       "      <td>8.618110</td>\n",
       "      <td>9.185039</td>\n",
       "      <td>8.122973</td>\n",
       "    </tr>\n",
       "    <tr>\n",
       "      <th>131</th>\n",
       "      <td>2011</td>\n",
       "      <td>8.964567</td>\n",
       "      <td>8.661417</td>\n",
       "      <td>9.267717</td>\n",
       "      <td>8.053065</td>\n",
       "    </tr>\n",
       "    <tr>\n",
       "      <th>132</th>\n",
       "      <td>2012</td>\n",
       "      <td>9.326772</td>\n",
       "      <td>8.992126</td>\n",
       "      <td>9.661417</td>\n",
       "      <td>8.457058</td>\n",
       "    </tr>\n",
       "    <tr>\n",
       "      <th>133</th>\n",
       "      <td>2013</td>\n",
       "      <td>8.980315</td>\n",
       "      <td>8.622047</td>\n",
       "      <td>9.338583</td>\n",
       "      <td>8.546648</td>\n",
       "    </tr>\n",
       "  </tbody>\n",
       "</table>\n",
       "<p>134 rows × 5 columns</p>\n",
       "</div>"
      ],
      "text/plain": [
       "     Year  CSIRO Adjusted Sea Level  Lower Error Bound  Upper Error Bound  \\\n",
       "0    1880                  0.000000          -0.952756           0.952756   \n",
       "1    1881                  0.220472          -0.732283           1.173228   \n",
       "2    1882                 -0.440945          -1.346457           0.464567   \n",
       "3    1883                 -0.232283          -1.129921           0.665354   \n",
       "4    1884                  0.590551          -0.283465           1.464567   \n",
       "..    ...                       ...                ...                ...   \n",
       "129  2009                  8.586614           8.311024           8.862205   \n",
       "130  2010                  8.901575           8.618110           9.185039   \n",
       "131  2011                  8.964567           8.661417           9.267717   \n",
       "132  2012                  9.326772           8.992126           9.661417   \n",
       "133  2013                  8.980315           8.622047           9.338583   \n",
       "\n",
       "     NOAA Adjusted Sea Level  \n",
       "0                        NaN  \n",
       "1                        NaN  \n",
       "2                        NaN  \n",
       "3                        NaN  \n",
       "4                        NaN  \n",
       "..                       ...  \n",
       "129                 8.046354  \n",
       "130                 8.122973  \n",
       "131                 8.053065  \n",
       "132                 8.457058  \n",
       "133                 8.546648  \n",
       "\n",
       "[134 rows x 5 columns]"
      ]
     },
     "execution_count": 3,
     "metadata": {},
     "output_type": "execute_result"
    }
   ],
   "source": [
    "sea = pd.read_csv('epa-sea-level.csv')\n",
    "sea"
   ]
  },
  {
   "cell_type": "code",
   "execution_count": 5,
   "id": "furnished-healthcare",
   "metadata": {},
   "outputs": [],
   "source": [
    "sea.rename({'Year': 'year', \n",
    "            'CSIRO Adjusted Sea Level': 'CSIRO', \n",
    "            'Lower Error Bound': 'lower', \n",
    "            'Upper Error Bound': 'upper', \n",
    "            'NOAA Adjusted Sea Level': 'NOAA'}, \n",
    "          axis='columns', \n",
    "          inplace=True)"
   ]
  },
  {
   "cell_type": "code",
   "execution_count": 6,
   "id": "deadly-hacker",
   "metadata": {},
   "outputs": [
    {
     "data": {
      "text/html": [
       "<div>\n",
       "<style scoped>\n",
       "    .dataframe tbody tr th:only-of-type {\n",
       "        vertical-align: middle;\n",
       "    }\n",
       "\n",
       "    .dataframe tbody tr th {\n",
       "        vertical-align: top;\n",
       "    }\n",
       "\n",
       "    .dataframe thead th {\n",
       "        text-align: right;\n",
       "    }\n",
       "</style>\n",
       "<table border=\"1\" class=\"dataframe\">\n",
       "  <thead>\n",
       "    <tr style=\"text-align: right;\">\n",
       "      <th></th>\n",
       "      <th>year</th>\n",
       "      <th>CSIRO</th>\n",
       "      <th>lower</th>\n",
       "      <th>upper</th>\n",
       "      <th>NOAA</th>\n",
       "    </tr>\n",
       "  </thead>\n",
       "  <tbody>\n",
       "    <tr>\n",
       "      <th>0</th>\n",
       "      <td>1880</td>\n",
       "      <td>0.000000</td>\n",
       "      <td>-0.952756</td>\n",
       "      <td>0.952756</td>\n",
       "      <td>NaN</td>\n",
       "    </tr>\n",
       "    <tr>\n",
       "      <th>1</th>\n",
       "      <td>1881</td>\n",
       "      <td>0.220472</td>\n",
       "      <td>-0.732283</td>\n",
       "      <td>1.173228</td>\n",
       "      <td>NaN</td>\n",
       "    </tr>\n",
       "    <tr>\n",
       "      <th>2</th>\n",
       "      <td>1882</td>\n",
       "      <td>-0.440945</td>\n",
       "      <td>-1.346457</td>\n",
       "      <td>0.464567</td>\n",
       "      <td>NaN</td>\n",
       "    </tr>\n",
       "    <tr>\n",
       "      <th>3</th>\n",
       "      <td>1883</td>\n",
       "      <td>-0.232283</td>\n",
       "      <td>-1.129921</td>\n",
       "      <td>0.665354</td>\n",
       "      <td>NaN</td>\n",
       "    </tr>\n",
       "    <tr>\n",
       "      <th>4</th>\n",
       "      <td>1884</td>\n",
       "      <td>0.590551</td>\n",
       "      <td>-0.283465</td>\n",
       "      <td>1.464567</td>\n",
       "      <td>NaN</td>\n",
       "    </tr>\n",
       "    <tr>\n",
       "      <th>...</th>\n",
       "      <td>...</td>\n",
       "      <td>...</td>\n",
       "      <td>...</td>\n",
       "      <td>...</td>\n",
       "      <td>...</td>\n",
       "    </tr>\n",
       "    <tr>\n",
       "      <th>129</th>\n",
       "      <td>2009</td>\n",
       "      <td>8.586614</td>\n",
       "      <td>8.311024</td>\n",
       "      <td>8.862205</td>\n",
       "      <td>8.046354</td>\n",
       "    </tr>\n",
       "    <tr>\n",
       "      <th>130</th>\n",
       "      <td>2010</td>\n",
       "      <td>8.901575</td>\n",
       "      <td>8.618110</td>\n",
       "      <td>9.185039</td>\n",
       "      <td>8.122973</td>\n",
       "    </tr>\n",
       "    <tr>\n",
       "      <th>131</th>\n",
       "      <td>2011</td>\n",
       "      <td>8.964567</td>\n",
       "      <td>8.661417</td>\n",
       "      <td>9.267717</td>\n",
       "      <td>8.053065</td>\n",
       "    </tr>\n",
       "    <tr>\n",
       "      <th>132</th>\n",
       "      <td>2012</td>\n",
       "      <td>9.326772</td>\n",
       "      <td>8.992126</td>\n",
       "      <td>9.661417</td>\n",
       "      <td>8.457058</td>\n",
       "    </tr>\n",
       "    <tr>\n",
       "      <th>133</th>\n",
       "      <td>2013</td>\n",
       "      <td>8.980315</td>\n",
       "      <td>8.622047</td>\n",
       "      <td>9.338583</td>\n",
       "      <td>8.546648</td>\n",
       "    </tr>\n",
       "  </tbody>\n",
       "</table>\n",
       "<p>134 rows × 5 columns</p>\n",
       "</div>"
      ],
      "text/plain": [
       "     year     CSIRO     lower     upper      NOAA\n",
       "0    1880  0.000000 -0.952756  0.952756       NaN\n",
       "1    1881  0.220472 -0.732283  1.173228       NaN\n",
       "2    1882 -0.440945 -1.346457  0.464567       NaN\n",
       "3    1883 -0.232283 -1.129921  0.665354       NaN\n",
       "4    1884  0.590551 -0.283465  1.464567       NaN\n",
       "..    ...       ...       ...       ...       ...\n",
       "129  2009  8.586614  8.311024  8.862205  8.046354\n",
       "130  2010  8.901575  8.618110  9.185039  8.122973\n",
       "131  2011  8.964567  8.661417  9.267717  8.053065\n",
       "132  2012  9.326772  8.992126  9.661417  8.457058\n",
       "133  2013  8.980315  8.622047  9.338583  8.546648\n",
       "\n",
       "[134 rows x 5 columns]"
      ]
     },
     "execution_count": 6,
     "metadata": {},
     "output_type": "execute_result"
    }
   ],
   "source": [
    "sea"
   ]
  },
  {
   "cell_type": "code",
   "execution_count": null,
   "id": "functional-hostel",
   "metadata": {},
   "outputs": [],
   "source": []
  },
  {
   "cell_type": "markdown",
   "id": "protected-recognition",
   "metadata": {},
   "source": [
    "## Use matplotlib to create a scatter plot using the \"Year\" column as the x-axis and the \"CSIRO Adjusted Sea Level\" column as the y-axix.\n"
   ]
  },
  {
   "cell_type": "code",
   "execution_count": 48,
   "id": "coupled-picture",
   "metadata": {},
   "outputs": [
    {
     "data": {
      "image/png": "[encoded data removed]",
      "text/plain": [
       "<Figure size 1152x576 with 1 Axes>"
      ]
     },
     "metadata": {
      "needs_background": "light"
     },
     "output_type": "display_data"
    }
   ],
   "source": [
    "def draw_plot():\n",
    "    # Read data from file\n",
    "    global sea\n",
    "\n",
    "    # Create scatter plot\n",
    "    \n",
    "    fig = plt.figure(figsize=(16, 8))\n",
    "    axes = fig.add_axes([0, 0, 1, 1])\n",
    "\n",
    "    # Add axes attributes\n",
    "    axes.set_title('Rise in Sea Level')\n",
    "    axes.set_xlabel('Year')\n",
    "    axes.set_ylabel('Sea Level (inches)')\n",
    "    axes.set_xticks([1850.0, 1875.0, 1900.0, 1925.0, 1950.0, 1975.0, 2000.0, 2025.0, 2050.0])\n",
    "    axes.set_yticks(list(range(0, 20)))\n",
    "\n",
    "    axes.set_xlim((1870.0, 2060.0))\n",
    "    axes.set_ylim((-1.0355688083726844, 16.0))\n",
    "\n",
    "    # axes tuning\n",
    "    plt.grid()\n",
    "\n",
    "    # plot CSIRO data\n",
    "    plt.scatter('year', 'CSIRO', data=sea)\n",
    "\n",
    "\n",
    "    # Linear Regression\n",
    "    # finds the line of best fit line through your data \n",
    "    # by searching for the regression coefficient (B1) that minimizes the total error (e) of the model.\n",
    "\n",
    "    def extended(ax, x, y, **args):\n",
    "\n",
    "        xlim = ax.get_xlim()\n",
    "        ylim = ax.get_ylim()\n",
    "\n",
    "        x_ext = np.linspace(xlim[0], xlim[1], 100)\n",
    "        p = np.polyfit(x, y , deg=1)\n",
    "\n",
    "        y_ext = np.poly1d(p)(x_ext)\n",
    "        ax.plot(x_ext, y_ext, **args)\n",
    "\n",
    "        ax.set_xlim(xlim)\n",
    "        ax.set_ylim(ylim)\n",
    "\n",
    "        return ax    \n",
    "\n",
    "    lin = linregress(sea.year, sea.CSIRO)\n",
    "    # plt.plot(sea.year, (lin.intercept + lin.slope * sea.year), 'c', lw=4)\n",
    "\n",
    "\n",
    "    x = sea.year\n",
    "    y = (lin.intercept + lin.slope * sea.year)\n",
    "\n",
    "    \n",
    "    axes.plot(x, y, 'c', lw=4, label='CSIRO best fit line')\n",
    "    axes = extended(axes, x, y,  color=\"r\", lw=1, label=\"Extended CSIRO best fit line\")\n",
    "\n",
    "    \n",
    "\n",
    "\n",
    "\n",
    "\n",
    "\n",
    "    data_x_2000 = sea.loc[sea.year >= 2000, 'year']\n",
    "    data_y_2000 = sea.loc[sea.year >= 2000, 'CSIRO']\n",
    "    lin2000 = linregress(data_x_2000, data_y_2000)\n",
    "    x_2 = data_x_2000.copy()\n",
    "    y_2 = lin2000.intercept + lin2000.slope * x_2\n",
    "\n",
    "    axes.plot(x_2, y_2, 'g', label='2000', lw=4)\n",
    "    axes = extended(axes, x_2, y_2,  color=\"r\", lw=1, label=\"Extended 2000\")\n",
    "    \n",
    "\n",
    "\n",
    "\n",
    "    axes.legend()\n",
    "    \n",
    "    # Create first line of best fit\n",
    "    \n",
    "    # Create second line of best fit\n",
    "    \n",
    "    # Save plot and return data for testing\n",
    "    plt.savefig('sea_level_plot.png')\n",
    "    # return plt.gca()\n",
    "    return fig\n",
    "\n",
    "\n",
    "fig = draw_plot()\n"
   ]
  },
  {
   "cell_type": "code",
   "execution_count": 49,
   "id": "other-marine",
   "metadata": {},
   "outputs": [
    {
     "name": "stdout",
     "output_type": "stream",
     "text": [
      "\n",
      "Line2D(CSIRO best fit line)\n",
      "[-0.5421240249263661, -0.4790794409142336, -0.41603485690210107, -0.35299027288996854, -0.2899456888778218, -0.22690110486568926, -0.16385652085355673, -0.1008119368414242, -0.03776735282929167, 0.025277231182840865, 0.08832181519498761, 0.15136639920712014, 0.21441098321925267, 0.2774555672313852, 0.34050015124351773, 0.40354473525565027, 0.466589319267797, 0.5296339032799295, 0.5926784872920621, 0.6557230713041946, 0.7187676553163271, 0.7818122393284597, 0.8448568233405922, 0.9079014073527389, 0.9709459913648715, 1.033990575377004, 1.0970351593891365, 1.160079743401269, 1.2231243274134016, 1.2861689114255483, 1.3492134954376809, 1.4122580794498134, 1.475302663461946, 1.5383472474740785, 1.601391831486211, 1.6644364154983577, 1.7274809995104903, 1.7905255835226228, 1.8535701675347553, 1.9166147515468879, 1.9796593355590204, 2.042703919571167, 2.1057485035832997, 2.168793087595432, 2.2318376716075647, 2.2948822556196973, 2.35792683963183, 2.4209714236439766, 2.484016007656109, 2.5470605916682416, 2.610105175680374, 2.6731497596925067, 2.736194343704639, 2.7992389277167717, 2.8622835117289185, 2.925328095741051, 2.9883726797531835, 3.051417263765316, 3.1144618477774486, 3.177506431789581, 3.240551015801728, 3.3035955998138604, 3.366640183825993, 3.4296847678381255, 3.492729351850258, 3.5557739358623905, 3.6188185198745373, 3.68186310388667, 3.7449076878988024, 3.807952271910935, 3.8709968559230674, 3.9340414399352, 3.9970860239473467, 4.060130607959479, 4.123175191971612, 4.186219775983744, 4.249264359995877, 4.312308944008009, 4.375353528020142, 4.438398112032289, 4.501442696044421, 4.564487280056554, 4.627531864068686, 4.690576448080819, 4.753621032092951, 4.816665616105098, 4.879710200117231, 4.942754784129363, 5.005799368141496, 5.068843952153628, 5.131888536165761, 5.194933120177907, 5.25797770419004, 5.3210222882021725, 5.384066872214305, 5.4471114562264376, 5.51015604023857, 5.573200624250717, 5.636245208262849, 5.699289792274982, 5.762334376287114, 5.825378960299247, 5.8884235443113795, 5.951468128323526, 6.014512712335659, 6.077557296347791, 6.140601880359924, 6.203646464372056, 6.266691048384189, 6.329735632396321, 6.392780216408468, 6.455824800420601, 6.518869384432733, 6.581913968444866, 6.644958552456998, 6.708003136469131, 6.771047720481278, 6.83409230449341, 6.897136888505543, 6.960181472517675, 7.023226056529808, 7.08627064054194, 7.149315224554087, 7.2123598085662195, 7.275404392578352, 7.338448976590485, 7.401493560602617, 7.46453814461475, 7.527582728626896, 7.590627312639029, 7.653671896651161, 7.716716480663294, 7.7797610646754265, 7.842805648687559]\n",
      "\n",
      "Line2D(Extended CSIRO best fit line)\n",
      "[-1.1725698650476772, -1.0515752088627721, -0.930580552677867, -0.8095858964929619, -0.6885912403080567, -0.5675965841231516, -0.4466019279382465, -0.32560727175334137, -0.20461261556843624, -0.08361795938353112, 0.03737669680137401, 0.15837135298627913, 0.27936600917118426, 0.4003606653560894, 0.5213553215409945, 0.6423499777258996, 0.7633446339108048, 0.8843392900957099, 1.005333946280615, 1.1263286024655201, 1.2473232586504253, 1.3683179148353304, 1.4893125710202355, 1.6103072272051406, 1.7313018833900458, 1.8522965395749509, 1.973291195759856, 2.094285851944761, 2.2152805081296663, 2.3362751643145714, 2.4572698204994765, 2.5782644766843816, 2.6992591328692868, 2.820253789054192, 2.941248445239097, 3.062243101424002, 3.1832377576089073, 3.3042324137938124, 3.4252270699787175, 3.5462217261636226, 3.6672163823485278, 3.788211038533433, 3.909205694718338, 4.030200350903243, 4.151195007088148, 4.272189663273053, 4.3931843194579585, 4.514178975642864, 4.635173631827769, 4.756168288012688, 4.877162944197579, 4.998157600382498, 5.119152256567389, 5.240146912752309, 5.3611415689371995, 5.482136225122119, 5.603130881307024, 5.724125537491929, 5.84512019367682, 5.966114849861725, 6.08710950604663, 6.208104162231535, 6.3290988184164405, 6.450093474601346, 6.571088130786251, 6.692082786971156, 6.813077443156061, 6.934072099340966, 7.055066755525871, 7.176061411710776, 7.2970560678956815, 7.418050724080587, 7.539045380265492, 7.660040036450397, 7.781034692635302, 7.902029348820207, 8.023024005005112, 8.144018661190017, 8.265013317374923, 8.386007973559828, 8.507002629744733, 8.627997285929638, 8.748991942114543, 8.869986598299448, 8.990981254484353, 9.111975910669258, 9.232970566854164, 9.353965223039069, 9.474959879223974, 9.595954535408879, 9.716949191593784, 9.83794384777869, 9.958938503963594, 10.0799331601485, 10.200927816333376, 10.32192247251831, 10.442917128703186, 10.56391178488812, 10.684906441073025, 10.80590109725793]\n",
      "\n",
      "Line2D(2000)\n",
      "[7.06107985777146, 7.227507131103323, 7.393934404435186, 7.560361677767105, 7.726788951098968, 7.89321622443083, 8.059643497762693, 8.226070771094555, 8.392498044426418, 8.55892531775828, 8.725352591090143, 8.891779864422006, 9.058207137753868, 9.224634411085788]\n",
      "\n",
      "Line2D(Extended 2000)\n",
      "[-14.574465675373176, -14.255059797261481, -13.935653919149786, -13.61624804103809, -13.296842162926396, -12.9774362848147, -12.658030406703006, -12.33862452859131, -12.019218650479615, -11.69981277236792, -11.380406894256225, -11.061001016144587, -10.741595138032892, -10.422189259921197, -10.102783381809502, -9.783377503697807, -9.463971625586112, -9.144565747474417, -8.825159869362722, -8.505753991251026, -8.186348113139331, -7.866942235027636, -7.547536356915941, -7.228130478804303, -6.908724600692608, -6.589318722580913, -6.269912844469218, -5.950506966357523, -5.631101088245828, -5.311695210134133, -4.9922893320224375, -4.6728834539107424, -4.353477575799047, -4.034071697687352, -3.7146658195756572, -3.395259941464019, -3.075854063352324, -2.756448185240629, -2.4370423071289338, -2.1176364290172387, -1.7982305509055436, -1.4788246727938485, -1.1594187946821535, -0.8400129165704584, -0.5206070384587633, -0.20120116034706825, 0.11820471776462682, 0.4376105958763219, 0.7570164739879601, 1.076422352099712, 1.3958282302113503, 1.7152341083231022, 2.0346399864347404, 2.3540458645464923, 2.6734517426581306, 2.9928576207698825, 3.3122634988815207, 3.631669376993216, 3.951075255104911, 4.270481133216606, 4.589887011328301, 4.909292889439996, 5.228698767551691, 5.548104645663386, 5.867510523775081, 6.186916401886776, 6.5063222799984715, 6.8257281581101665, 7.145134036221805, 7.4645399143335, 7.783945792445195, 8.10335167055689, 8.422757548668585, 8.74216342678028, 9.061569304891975, 9.38097518300367, 9.700381061115365, 10.01978693922706, 10.339192817338756, 10.65859869545045, 10.978004573562089, 11.297410451673784, 11.616816329785479, 11.936222207897174, 12.255628086008869, 12.575033964120564, 12.89443984223226, 13.213845720343954, 13.53325159845565, 13.852657476567344, 14.17206335467904, 14.491469232790735, 14.810875110902373, 15.130280989014068, 15.449686867125763, 15.769092745237458, 16.088498623349096, 16.407904501460848, 16.7273103795726, 17.04671625768424]\n"
     ]
    }
   ],
   "source": [
    "ax = fig.get_axes()[0]\n",
    "lines = ax.get_lines()\n",
    "for l in lines:\n",
    "    print()\n",
    "    print(l)\n",
    "    print(l.get_ydata().tolist())\n",
    "    "
   ]
  },
  {
   "cell_type": "code",
   "execution_count": null,
   "id": "congressional-greenhouse",
   "metadata": {},
   "outputs": [],
   "source": []
  },
  {
   "cell_type": "code",
   "execution_count": null,
   "id": "forty-ballot",
   "metadata": {},
   "outputs": [],
   "source": []
  },
  {
   "cell_type": "code",
   "execution_count": null,
   "id": "female-witch",
   "metadata": {},
   "outputs": [],
   "source": []
  },
  {
   "cell_type": "code",
   "execution_count": 30,
   "id": "announced-bones",
   "metadata": {
    "scrolled": true
   },
   "outputs": [
    {
     "data": {
      "text/plain": [
       "<matplotlib.legend.Legend at 0x7f6364311c70>"
      ]
     },
     "execution_count": 30,
     "metadata": {},
     "output_type": "execute_result"
    },
    {
     "data": {
      "image/png": "[encoded data removed]",
      "text/plain": [
       "<Figure size 1152x576 with 1 Axes>"
      ]
     },
     "metadata": {
      "needs_background": "light"
     },
     "output_type": "display_data"
    }
   ],
   "source": [
    "fig = plt.figure(figsize=(16, 8))\n",
    "axes = fig.add_axes([0, 0, 1, 1])\n",
    "\n",
    "# Add axes attributes\n",
    "axes.set_title('Rise in Sea Level')\n",
    "axes.set_xlabel('Year')\n",
    "axes.set_ylabel('Sea Level (inches)')\n",
    "axes.set_xticks([1850.0, 1875.0, 1900.0, 1925.0, 1950.0, 1975.0, 2000.0, 2025.0, 2050.0, 2075.0])\n",
    "axes.set_yticks(list(range(0, 12)))\n",
    "\n",
    "axes.set_xlim((1870.0, 2060.0))\n",
    "axes.set_ylim((-1.0355688083726844, 15.0))\n",
    "\n",
    "# axes tuning\n",
    "plt.grid()\n",
    "\n",
    "# plot CSIRO data\n",
    "plt.scatter('year', 'CSIRO', data=sea)\n",
    "\n",
    "\n",
    "# Linear Regression\n",
    "# finds the line of best fit line through your data \n",
    "# by searching for the regression coefficient (B1) that minimizes the total error (e) of the model.\n",
    "\n",
    "def extended(ax, x, y, **args):\n",
    "\n",
    "    xlim = ax.get_xlim()\n",
    "    ylim = ax.get_ylim()\n",
    "\n",
    "    x_ext = np.linspace(xlim[0], xlim[1], 100)\n",
    "    p = np.polyfit(x, y , deg=1)\n",
    "\n",
    "    y_ext = np.poly1d(p)(x_ext)\n",
    "    ax.plot(x_ext, y_ext, **args)\n",
    "\n",
    "    ax.set_xlim(xlim)\n",
    "    ax.set_ylim(ylim)\n",
    "\n",
    "    return ax    \n",
    "\n",
    "lin = linregress(sea.year, sea.CSIRO)\n",
    "# plt.plot(sea.year, (lin.intercept + lin.slope * sea.year), 'c', lw=4)\n",
    "\n",
    "\n",
    "x = sea.year\n",
    "y = (lin.intercept + lin.slope * sea.year)\n",
    "\n",
    "axes = extended(axes, x, y,  color=\"r\", lw=1, label=\"Extended CSIRO best fit line\")\n",
    "\n",
    "axes.plot(x, y, 'c', lw=4, label='CSIRO best fit line')\n",
    "\n",
    "\n",
    "\n",
    "\n",
    "\n",
    "data_x_2000 = sea.loc[sea.year >= 2000, 'year']\n",
    "data_y_2000 = sea.loc[sea.year >= 2000, 'CSIRO']\n",
    "lin2000 = linregress(data_x_2000, data_y_2000)\n",
    "x_2 = data_x_2000.copy()\n",
    "y_2 = lin2000.intercept + lin2000.slope * x_2\n",
    "\n",
    "axes = extended(axes, x_2, y_2,  color=\"r\", lw=1, label=\"Extended 2000\")\n",
    "axes.plot(x_2, y_2, 'g', label='2000', lw=4)\n",
    "\n",
    "\n",
    "\n",
    "axes.legend()"
   ]
  },
  {
   "cell_type": "code",
   "execution_count": 22,
   "id": "honest-breakfast",
   "metadata": {},
   "outputs": [],
   "source": []
  },
  {
   "cell_type": "code",
   "execution_count": 15,
   "id": "maritime-copyright",
   "metadata": {},
   "outputs": [
    {
     "data": {
      "text/html": [
       "<div>\n",
       "<style scoped>\n",
       "    .dataframe tbody tr th:only-of-type {\n",
       "        vertical-align: middle;\n",
       "    }\n",
       "\n",
       "    .dataframe tbody tr th {\n",
       "        vertical-align: top;\n",
       "    }\n",
       "\n",
       "    .dataframe thead th {\n",
       "        text-align: right;\n",
       "    }\n",
       "</style>\n",
       "<table border=\"1\" class=\"dataframe\">\n",
       "  <thead>\n",
       "    <tr style=\"text-align: right;\">\n",
       "      <th></th>\n",
       "      <th>year</th>\n",
       "      <th>CSIRO</th>\n",
       "      <th>lower</th>\n",
       "      <th>upper</th>\n",
       "      <th>NOAA</th>\n",
       "    </tr>\n",
       "  </thead>\n",
       "  <tbody>\n",
       "    <tr>\n",
       "      <th>0</th>\n",
       "      <td>1880</td>\n",
       "      <td>0.000000</td>\n",
       "      <td>-0.952756</td>\n",
       "      <td>0.952756</td>\n",
       "      <td>NaN</td>\n",
       "    </tr>\n",
       "    <tr>\n",
       "      <th>1</th>\n",
       "      <td>1881</td>\n",
       "      <td>0.220472</td>\n",
       "      <td>-0.732283</td>\n",
       "      <td>1.173228</td>\n",
       "      <td>NaN</td>\n",
       "    </tr>\n",
       "    <tr>\n",
       "      <th>2</th>\n",
       "      <td>1882</td>\n",
       "      <td>-0.440945</td>\n",
       "      <td>-1.346457</td>\n",
       "      <td>0.464567</td>\n",
       "      <td>NaN</td>\n",
       "    </tr>\n",
       "    <tr>\n",
       "      <th>3</th>\n",
       "      <td>1883</td>\n",
       "      <td>-0.232283</td>\n",
       "      <td>-1.129921</td>\n",
       "      <td>0.665354</td>\n",
       "      <td>NaN</td>\n",
       "    </tr>\n",
       "    <tr>\n",
       "      <th>4</th>\n",
       "      <td>1884</td>\n",
       "      <td>0.590551</td>\n",
       "      <td>-0.283465</td>\n",
       "      <td>1.464567</td>\n",
       "      <td>NaN</td>\n",
       "    </tr>\n",
       "    <tr>\n",
       "      <th>...</th>\n",
       "      <td>...</td>\n",
       "      <td>...</td>\n",
       "      <td>...</td>\n",
       "      <td>...</td>\n",
       "      <td>...</td>\n",
       "    </tr>\n",
       "    <tr>\n",
       "      <th>129</th>\n",
       "      <td>2009</td>\n",
       "      <td>8.586614</td>\n",
       "      <td>8.311024</td>\n",
       "      <td>8.862205</td>\n",
       "      <td>8.046354</td>\n",
       "    </tr>\n",
       "    <tr>\n",
       "      <th>130</th>\n",
       "      <td>2010</td>\n",
       "      <td>8.901575</td>\n",
       "      <td>8.618110</td>\n",
       "      <td>9.185039</td>\n",
       "      <td>8.122973</td>\n",
       "    </tr>\n",
       "    <tr>\n",
       "      <th>131</th>\n",
       "      <td>2011</td>\n",
       "      <td>8.964567</td>\n",
       "      <td>8.661417</td>\n",
       "      <td>9.267717</td>\n",
       "      <td>8.053065</td>\n",
       "    </tr>\n",
       "    <tr>\n",
       "      <th>132</th>\n",
       "      <td>2012</td>\n",
       "      <td>9.326772</td>\n",
       "      <td>8.992126</td>\n",
       "      <td>9.661417</td>\n",
       "      <td>8.457058</td>\n",
       "    </tr>\n",
       "    <tr>\n",
       "      <th>133</th>\n",
       "      <td>2013</td>\n",
       "      <td>8.980315</td>\n",
       "      <td>8.622047</td>\n",
       "      <td>9.338583</td>\n",
       "      <td>8.546648</td>\n",
       "    </tr>\n",
       "  </tbody>\n",
       "</table>\n",
       "<p>134 rows × 5 columns</p>\n",
       "</div>"
      ],
      "text/plain": [
       "     year     CSIRO     lower     upper      NOAA\n",
       "0    1880  0.000000 -0.952756  0.952756       NaN\n",
       "1    1881  0.220472 -0.732283  1.173228       NaN\n",
       "2    1882 -0.440945 -1.346457  0.464567       NaN\n",
       "3    1883 -0.232283 -1.129921  0.665354       NaN\n",
       "4    1884  0.590551 -0.283465  1.464567       NaN\n",
       "..    ...       ...       ...       ...       ...\n",
       "129  2009  8.586614  8.311024  8.862205  8.046354\n",
       "130  2010  8.901575  8.618110  9.185039  8.122973\n",
       "131  2011  8.964567  8.661417  9.267717  8.053065\n",
       "132  2012  9.326772  8.992126  9.661417  8.457058\n",
       "133  2013  8.980315  8.622047  9.338583  8.546648\n",
       "\n",
       "[134 rows x 5 columns]"
      ]
     },
     "execution_count": 15,
     "metadata": {},
     "output_type": "execute_result"
    }
   ],
   "source": [
    "sea"
   ]
  },
  {
   "cell_type": "code",
   "execution_count": null,
   "id": "tropical-tomato",
   "metadata": {},
   "outputs": [],
   "source": []
  },
  {
   "cell_type": "code",
   "execution_count": null,
   "id": "unknown-camel",
   "metadata": {},
   "outputs": [],
   "source": []
  },
  {
   "cell_type": "code",
   "execution_count": null,
   "id": "spanish-parks",
   "metadata": {},
   "outputs": [],
   "source": []
  },
  {
   "cell_type": "code",
   "execution_count": null,
   "id": "documented-jonathan",
   "metadata": {},
   "outputs": [],
   "source": []
  },
  {
   "cell_type": "code",
   "execution_count": null,
   "id": "owned-strength",
   "metadata": {},
   "outputs": [],
   "source": []
  },
  {
   "cell_type": "code",
   "execution_count": null,
   "id": "interim-offense",
   "metadata": {},
   "outputs": [],
   "source": []
  },
  {
   "cell_type": "code",
   "execution_count": null,
   "id": "authentic-sheffield",
   "metadata": {},
   "outputs": [],
   "source": []
  },
  {
   "cell_type": "code",
   "execution_count": null,
   "id": "printable-helping",
   "metadata": {},
   "outputs": [],
   "source": []
  },
  {
   "cell_type": "code",
   "execution_count": null,
   "id": "compound-sword",
   "metadata": {},
   "outputs": [],
   "source": []
  },
  {
   "cell_type": "code",
   "execution_count": null,
   "id": "standing-picnic",
   "metadata": {},
   "outputs": [],
   "source": []
  },
  {
   "cell_type": "code",
   "execution_count": null,
   "id": "conscious-confidence",
   "metadata": {},
   "outputs": [],
   "source": []
  },
  {
   "cell_type": "code",
   "execution_count": 13,
   "id": "involved-strengthening",
   "metadata": {},
   "outputs": [
    {
     "data": {
      "text/plain": [
       "'--------------------------------------------------------------------------------------------------------------'"
      ]
     },
     "execution_count": 13,
     "metadata": {},
     "output_type": "execute_result"
    }
   ],
   "source": [
    "'-----------'*10"
   ]
  },
  {
   "cell_type": "code",
   "execution_count": null,
   "id": "equipped-stone",
   "metadata": {},
   "outputs": [],
   "source": [
    "# CONFIRM PLOT LABELS\n",
    "ax = fig.get_axes()[0]\n",
    "title = ax.get_title()\n",
    "xlabel = ax.get_xlabel()\n",
    "ylabel = ax.get_ylabel()\n",
    "print((title, xlabel, ylabel))\n",
    "\n",
    "print(ax.get_xticks().tolist())\n",
    "expected = [1850.0, 1875.0, 1900.0, 1925.0, 1950.0, 1975.0, 2000.0, 2025.0, 2050.0, 2075.0]\n",
    "print(expected)\n"
   ]
  },
  {
   "cell_type": "code",
   "execution_count": null,
   "id": "unnecessary-folder",
   "metadata": {},
   "outputs": [],
   "source": [
    "ax.get_xlim()"
   ]
  },
  {
   "cell_type": "code",
   "execution_count": null,
   "id": "requested-finish",
   "metadata": {},
   "outputs": [],
   "source": [
    "ax.get_ylim()"
   ]
  },
  {
   "cell_type": "code",
   "execution_count": null,
   "id": "sorted-import",
   "metadata": {},
   "outputs": [],
   "source": []
  },
  {
   "cell_type": "code",
   "execution_count": null,
   "id": "racial-choir",
   "metadata": {},
   "outputs": [],
   "source": [
    "ax.get_children()[0].get_offsets().data.tolist()"
   ]
  },
  {
   "cell_type": "code",
   "execution_count": null,
   "id": "beautiful-movie",
   "metadata": {},
   "outputs": [],
   "source": [
    "sea"
   ]
  },
  {
   "cell_type": "code",
   "execution_count": null,
   "id": "personal-ending",
   "metadata": {},
   "outputs": [],
   "source": [
    "sea.CSIRO.values"
   ]
  },
  {
   "cell_type": "code",
   "execution_count": null,
   "id": "alleged-evening",
   "metadata": {},
   "outputs": [],
   "source": [
    "for i in sea.index:\n",
    "    print(i, '-->', sea.year[i], '-->', sea.CSIRO[i])"
   ]
  },
  {
   "cell_type": "code",
   "execution_count": null,
   "id": "infectious-istanbul",
   "metadata": {},
   "outputs": [],
   "source": [
    "sea.dtypes"
   ]
  },
  {
   "cell_type": "code",
   "execution_count": null,
   "id": "bronze-tucson",
   "metadata": {},
   "outputs": [],
   "source": []
  },
  {
   "cell_type": "code",
   "execution_count": null,
   "id": "clinical-making",
   "metadata": {},
   "outputs": [],
   "source": []
  },
  {
   "cell_type": "code",
   "execution_count": null,
   "id": "fitted-probe",
   "metadata": {},
   "outputs": [],
   "source": []
  },
  {
   "cell_type": "code",
   "execution_count": null,
   "id": "amino-image",
   "metadata": {},
   "outputs": [],
   "source": []
  },
  {
   "cell_type": "code",
   "execution_count": null,
   "id": "dimensional-blend",
   "metadata": {},
   "outputs": [],
   "source": []
  },
  {
   "cell_type": "code",
   "execution_count": null,
   "id": "described-progressive",
   "metadata": {},
   "outputs": [],
   "source": []
  },
  {
   "cell_type": "code",
   "execution_count": null,
   "id": "billion-constitutional",
   "metadata": {},
   "outputs": [],
   "source": []
  },
  {
   "cell_type": "code",
   "execution_count": null,
   "id": "removable-wheel",
   "metadata": {},
   "outputs": [],
   "source": []
  },
  {
   "cell_type": "code",
   "execution_count": null,
   "id": "higher-conclusion",
   "metadata": {},
   "outputs": [],
   "source": []
  },
  {
   "cell_type": "code",
   "execution_count": null,
   "id": "unexpected-still",
   "metadata": {},
   "outputs": [],
   "source": [
    "fig = plt.figure(figsize=(16, 8))\n",
    "axes = fig.add_axes([0, 0, 1, 1])\n",
    "axes.set_title('Rise in Sea Level')\n",
    "axes.set_xlabel('Year')\n",
    "axes.set_ylabel('Sea Level (inches)')\n",
    "\n",
    "\n",
    "\n",
    "plt.grid()\n",
    "plt.scatter('year', 'CSIRO', data=sea)\n",
    "\n",
    "lin = linregress(sea.year, sea.CSIRO)\n",
    "plt.plot(sea.year, (lin.intercept + lin.slope * sea.year), 'c')\n",
    "axes.xaxis.lablepad = 10"
   ]
  },
  {
   "cell_type": "code",
   "execution_count": null,
   "id": "cross-secretariat",
   "metadata": {},
   "outputs": [],
   "source": [
    "axes.xaxis?"
   ]
  },
  {
   "cell_type": "code",
   "execution_count": null,
   "id": "indian-genius",
   "metadata": {},
   "outputs": [],
   "source": [
    "axes.xaxis.label"
   ]
  },
  {
   "cell_type": "code",
   "execution_count": null,
   "id": "perceived-charger",
   "metadata": {},
   "outputs": [],
   "source": []
  },
  {
   "cell_type": "code",
   "execution_count": null,
   "id": "changed-welding",
   "metadata": {},
   "outputs": [],
   "source": []
  },
  {
   "cell_type": "code",
   "execution_count": null,
   "id": "refined-convertible",
   "metadata": {},
   "outputs": [],
   "source": [
    "sea.year"
   ]
  },
  {
   "cell_type": "code",
   "execution_count": null,
   "id": "minute-moral",
   "metadata": {},
   "outputs": [],
   "source": [
    "lin.intercept + lin.slope * sea.year"
   ]
  },
  {
   "cell_type": "code",
   "execution_count": null,
   "id": "cultural-earthquake",
   "metadata": {},
   "outputs": [],
   "source": []
  },
  {
   "cell_type": "code",
   "execution_count": null,
   "id": "likely-justice",
   "metadata": {},
   "outputs": [],
   "source": [
    "lin = linregress(sea.year, sea.CSIRO)\n",
    "lin"
   ]
  },
  {
   "cell_type": "code",
   "execution_count": null,
   "id": "compact-camcorder",
   "metadata": {},
   "outputs": [],
   "source": [
    "plt.plot(sea.year, (lin.intercept + lin.slope * sea.year))"
   ]
  },
  {
   "cell_type": "code",
   "execution_count": null,
   "id": "piano-retirement",
   "metadata": {},
   "outputs": [],
   "source": []
  },
  {
   "cell_type": "code",
   "execution_count": null,
   "id": "focused-rolling",
   "metadata": {},
   "outputs": [],
   "source": []
  },
  {
   "cell_type": "markdown",
   "id": "unauthorized-renewal",
   "metadata": {},
   "source": [
    "##  Use the linregress function from scipi.stats to get the slope and y-intercept of the line of best fit. Plot the line of best fit over the top of the scatter plot. Make the line go through the year 2050 to predict the sea level rise in 2050."
   ]
  },
  {
   "cell_type": "code",
   "execution_count": null,
   "id": "retained-elements",
   "metadata": {},
   "outputs": [],
   "source": [
    "linregress?"
   ]
  },
  {
   "cell_type": "code",
   "execution_count": null,
   "id": "stretch-internship",
   "metadata": {},
   "outputs": [],
   "source": [
    "# generate data\n",
    "from scipy import stats\n",
    "\n",
    "np.random.seed(12345678)\n",
    "\n",
    "x = np.random.random(10)\n",
    "print('x is:', x)\n",
    "\n",
    "y = 1.6*x + np.random.random(10)\n",
    "print('y is:', y)\n",
    "\n",
    "# Perform the linear regression:\n",
    "res = stats.linregress(x, y)\n",
    "print(res)\n",
    "\n",
    "print(f\"R-squared: {res.rvalue**2:.6f}\")\n",
    "# R-squared: 0.735498\n",
    "\n",
    "# Plot the data along with the fitted line:\n",
    "plt.plot(x, y, 'o', label='original data')\n",
    "plt.plot(x, res.intercept + res.slope*x, 'r', label='fitted line')\n",
    "plt.legend()\n",
    "plt.show()\n"
   ]
  },
  {
   "cell_type": "code",
   "execution_count": null,
   "id": "eastern-oliver",
   "metadata": {},
   "outputs": [],
   "source": [
    "res.intercept"
   ]
  },
  {
   "cell_type": "code",
   "execution_count": null,
   "id": "abstract-tucson",
   "metadata": {},
   "outputs": [],
   "source": [
    "res.slope"
   ]
  },
  {
   "cell_type": "code",
   "execution_count": null,
   "id": "driving-might",
   "metadata": {},
   "outputs": [],
   "source": [
    "res?"
   ]
  },
  {
   "cell_type": "code",
   "execution_count": null,
   "id": "victorian-mouth",
   "metadata": {},
   "outputs": [],
   "source": []
  },
  {
   "cell_type": "code",
   "execution_count": null,
   "id": "fitting-isaac",
   "metadata": {},
   "outputs": [],
   "source": []
  },
  {
   "cell_type": "code",
   "execution_count": null,
   "id": "another-evanescence",
   "metadata": {},
   "outputs": [],
   "source": []
  },
  {
   "cell_type": "code",
   "execution_count": null,
   "id": "polish-strategy",
   "metadata": {},
   "outputs": [],
   "source": []
  },
  {
   "cell_type": "code",
   "execution_count": null,
   "id": "correct-reality",
   "metadata": {},
   "outputs": [],
   "source": []
  },
  {
   "cell_type": "code",
   "execution_count": null,
   "id": "proof-uncle",
   "metadata": {},
   "outputs": [],
   "source": []
  }
 ],
 "metadata": {
  "kernelspec": {
   "display_name": "Python 3",
   "language": "python",
   "name": "python3"
  },
  "language_info": {
   "codemirror_mode": {
    "name": "ipython",
    "version": 3
   },
   "file_extension": ".py",
   "mimetype": "text/x-python",
   "name": "python",
   "nbconvert_exporter": "python",
   "pygments_lexer": "ipython3",
   "version": "3.8.5"
  }
 },
 "nbformat": 4,
 "nbformat_minor": 5
}
